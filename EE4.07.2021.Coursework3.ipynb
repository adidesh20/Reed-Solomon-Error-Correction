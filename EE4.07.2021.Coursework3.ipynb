{
 "cells": [
  {
   "cell_type": "markdown",
   "metadata": {},
   "source": [
    "# Coursework 3: Reed-Solomon Codes"
   ]
  },
  {
   "cell_type": "markdown",
   "metadata": {},
   "source": [
    "[] By tick the checkbox, we hereby declare that this coursework report is our own and autonomous work. We have acknowledged all material and sources used in its preparation, including books, articles, reports, lecture notes, internet software packages, and any other kind of document, electronic or personal communication. This work has not been submitted for any other assessment."
   ]
  },
  {
   "cell_type": "markdown",
   "metadata": {},
   "source": [
    "**Julia Packages**\n",
    "\n",
    "We use the `LinearAlgebra` package for matrix operations.\n",
    "We use the `StatsBase` package for introducing random error."
   ]
  },
  {
   "cell_type": "code",
   "execution_count": 109,
   "metadata": {},
   "outputs": [
    {
     "name": "stderr",
     "output_type": "stream",
     "text": [
      "\u001b[32m\u001b[1m   Resolving\u001b[22m\u001b[39m package versions...\n",
      "\u001b[32m\u001b[1m  No Changes\u001b[22m\u001b[39m to `C:\\Users\\aydes\\.julia\\environments\\v1.6\\Project.toml`\n",
      "\u001b[32m\u001b[1m  No Changes\u001b[22m\u001b[39m to `C:\\Users\\aydes\\.julia\\environments\\v1.6\\Manifest.toml`\n",
      "\u001b[32m\u001b[1m   Resolving\u001b[22m\u001b[39m package versions...\n",
      "\u001b[32m\u001b[1m  No Changes\u001b[22m\u001b[39m to `C:\\Users\\aydes\\.julia\\environments\\v1.6\\Project.toml`\n",
      "\u001b[32m\u001b[1m  No Changes\u001b[22m\u001b[39m to `C:\\Users\\aydes\\.julia\\environments\\v1.6\\Manifest.toml`\n"
     ]
    }
   ],
   "source": [
    "using Pkg\n",
    "Pkg.add(\"LinearAlgebra\")\n",
    "Pkg.add(\"StatsBase\")\n",
    "\n",
    "using LinearAlgebra\n",
    "using StatsBase"
   ]
  },
  {
   "cell_type": "markdown",
   "metadata": {},
   "source": [
    "#### Helper Functions"
   ]
  },
  {
   "cell_type": "code",
   "execution_count": 110,
   "metadata": {},
   "outputs": [
    {
     "data": {
      "text/plain": [
       "modExpo (generic function with 1 method)"
      ]
     },
     "execution_count": 110,
     "metadata": {},
     "output_type": "execute_result"
    }
   ],
   "source": [
    "# Helper Functions\n",
    "\n",
    "# Function to do modulo division\n",
    "function modulo_div(num,den,p)\n",
    "    return mod((num * gcdx(den,p)[2]),p)\n",
    "end\n",
    "\n",
    "# Function for modular exoponentiation\n",
    "function modExpo(p,x,n)\n",
    "    if p == 1 \n",
    "        return 0\n",
    "    end\n",
    "    a = 1 # initialise a\n",
    "    binaryExp = mod(x,p) #binaryExp when i=0\n",
    "    while n > 0 #loop cycles through each binary digit of n - (cycle of ceiling[log2(n)] times)\n",
    "        if (mod(n,2) == 1) #check LSB\n",
    "            a = mod((a * binaryExp), p) #if LSB is 1 then update a accordingly\n",
    "        end\n",
    "        n = n >> 1 #right shift exponent to check next bit\n",
    "        binaryExp = mod((binaryExp * binaryExp), p) #calculate new binaryExp value by squaring previous result and taking modulus\n",
    "    end\n",
    "    return a\n",
    "end"
   ]
  },
  {
   "cell_type": "markdown",
   "metadata": {},
   "source": [
    "#### Custom Polynomial Struct/Class\n",
    "\n",
    "In order to make handling and operating on polynomials easier, we have written a **very extensive** struct for polynomials, making use of Julia's type templates and multiple dispatch (operator overloading) functionality.\n",
    "A polynomial is of type `T` when its coefficients are of type `T`. In this coursework, we encounter two forms of polynomials. For the first half of the coursework, where we work on $\\mathbb{F}_p$, the coefficeints of the polynomial are integers. Therefore we have `MyPolynomial{Int}`. \n",
    "For the second half, we work on $\\mathbb{F}_{p^k}$, so we also encounter  `MyPolynomial{MyPolynomial{Int}}` as the polynomials are the coefficients of another polynomial.\n",
    "\n",
    "A Polynomial is defined by `struct MyPolynomial` by:\n",
    " - `coeffs`: A vector of the polynomials coefficients, listed in ascending order of the power of $x$ they multiply. This means that $5x^2 + 3x + 2$ would be represented by [2,3,5]\n",
    " - `order`: The order of the polynomial is the highest power of $x$ in the polynomial. Does not have to be supplied to the constructor, instead it is automatically worked out.\n",
    " - `p`: All polynomial operations occur within a finite field. Therefore, it is wise to store $p$, as this helps during operations."
   ]
  },
  {
   "cell_type": "code",
   "execution_count": 111,
   "metadata": {},
   "outputs": [
    {
     "data": {
      "text/plain": [
       "Base.print"
      ]
     },
     "execution_count": 111,
     "metadata": {},
     "output_type": "execute_result"
    }
   ],
   "source": [
    "# Struct Definition for MyPolynomial\n",
    "struct MyPolynomial{T}\n",
    "    coeffs::Vector{T}\n",
    "    order::Int\n",
    "    p::Int\n",
    "end\n",
    "\n",
    "\"\"\"\n",
    "ConstructMyPolynomial(coeffs,p)\n",
    "\n",
    "Info: \n",
    "Outer Constructor function for the MyPolynomial Struct\n",
    "\n",
    "Args:\n",
    "coeffs: An array of the polynomial's coefficients listed in ascending order of the power of x they multiply.\n",
    "p: The p that defines the Finite Field that contains the coefficients.\n",
    "\n",
    "Returns:\n",
    "MyPolynomial{T} object.\n",
    "    \n",
    "\"\"\"\n",
    "function ConstructMyPolynomial(coeffs,p)\n",
    "    coeffs = [mod(i,p) for i in coeffs]\n",
    "    return MyPolynomial(coeffs,length(coeffs) - 1,p)\n",
    "end\n",
    "\n",
    "\n",
    "\"\"\"\n",
    "remove_top_zeros(poly::MyPolynomial)\n",
    "\n",
    "Info:\n",
    "Function to remove extra zeros from the top of a polynomial's coefficient array.\n",
    "For example: [2,3,5,0,0] --> [2,3,5]\n",
    "Has the additional use of acting like a deep_copy for a polynomial object, as it returns a new object.\n",
    "\n",
    "Args:\n",
    "poly: A MyPolynomial object whose coefficient array length needs to be corrected.\n",
    "\n",
    "Returns:\n",
    "MyPolynomial{T} object with a coefficient array where length(coeffs) - 1 = order of the polynomial.\n",
    "\"\"\"\n",
    "function remove_top_zeros(poly::MyPolynomial)\n",
    "    p = poly.p\n",
    "    coeffs = poly.coeffs\n",
    "    if typeof(poly) == MyPolynomial{Int}\n",
    "        zero_term = 0\n",
    "    else\n",
    "        zero_term = ConstructMyPolynomial([0],p)\n",
    "    end\n",
    "    while length(coeffs) > 0 && last(coeffs) == zero_term\n",
    "        pop!(coeffs)\n",
    "    end\n",
    "    if length(coeffs) == 0\n",
    "        push!(coeffs,zero_term)\n",
    "    end\n",
    "    return ConstructMyPolynomial(coeffs,poly.p)\n",
    "end\n",
    "\n",
    "\n",
    "\"\"\"\n",
    "make_same_length(poly1::MyPolynomial{Int}, poly2::MyPolynomial{Int})\n",
    "\n",
    "Info:\n",
    "Function to make two polynomials with integer coefficients the same length.\n",
    "This is achieved by pushing zeros on to the top of the lower-order polynomial.\n",
    "\n",
    "Args:\n",
    "poly1,poly2: Two MyPolynomial{Int} objects\n",
    "\n",
    "Returns:\n",
    "Two MyPolynomial{Int} objects, both with coefficent arrays of the same length.\n",
    "\"\"\"\n",
    "function make_same_length(poly1::MyPolynomial{Int}, poly2::MyPolynomial{Int})\n",
    "    len1 = length(poly1.coeffs)\n",
    "    len2 = length(poly2.coeffs)\n",
    "\n",
    "    if len1 > len2\n",
    "        zero_pad = zeros(Int,len1-len2)\n",
    "        new_coeffs = cat(poly2.coeffs,zero_pad,dims=1)\n",
    "        new_poly = ConstructMyPolynomial(new_coeffs,poly2.p)\n",
    "        return (poly1,new_poly)\n",
    "    else\n",
    "        zero_pad = zeros(Int,len2-len1)\n",
    "        new_coeffs = cat(poly1.coeffs,zero_pad,dims=1)\n",
    "        new_poly = ConstructMyPolynomial(new_coeffs,poly1.p)\n",
    "        return (poly2,new_poly)\n",
    "\n",
    "    end\n",
    "end\n",
    "\n",
    "\n",
    "\"\"\"\n",
    "make_same_length(poly1::MyPolynomial{MyPolynomial{Int}}, poly2::MyPolynomial{MyPolynomial{Int}})\n",
    "\n",
    "Info:\n",
    "Identical function as the previous one, but overloaded for handling polynomials with polynomial coefficients\n",
    "\"\"\"\n",
    "function make_same_length(poly1::MyPolynomial{MyPolynomial{Int}}, poly2::MyPolynomial{MyPolynomial{Int}})\n",
    "    p = poly1.p\n",
    "    len1 = length(poly1.coeffs)\n",
    "    len2 = length(poly2.coeffs)\n",
    "\n",
    "    if len1 > len2\n",
    "        zero_pad = zeros_poly(len1-len2,p)\n",
    "        new_coeffs = cat(poly2.coeffs,zero_pad,dims=1)\n",
    "        new_poly = ConstructMyPolynomial(new_coeffs,poly2.p)\n",
    "        return (poly1,new_poly)\n",
    "    else \n",
    "        zero_pad = zeros_poly(len2-len1,p)\n",
    "        new_coeffs = cat(poly1.coeffs,zero_pad,dims=1)\n",
    "        new_poly = ConstructMyPolynomial(new_coeffs,poly1.p)\n",
    "        return (new_poly,poly2)\n",
    "    end\n",
    "end\n",
    "\n",
    "\n",
    "\"\"\"\n",
    "Base.:mod(poly::MyPolynomial,p::Int)\n",
    "\n",
    "Info:\n",
    "Overloaded function to mod a polynomial with a number.\n",
    "Essentially mods each coefficient of the polynomial with p.\n",
    "\n",
    "Args:\n",
    "poly: MyPolynomial object to be modded\n",
    "p: Integer which the polynomial will be modded by\n",
    "\n",
    "Returns:\n",
    "MyPolynomial object, with coefficients in Fₚ\n",
    "\"\"\"\n",
    "function Base.:mod(poly::MyPolynomial,p::Int)\n",
    "    new_coeffs = [mod(i,p) for i in poly.coeffs]\n",
    "    return ConstructMyPolynomial(new_coeffs,p)\n",
    "end\n",
    "\n",
    "\n",
    "\"\"\"\n",
    "Base.:mod(poly1::MyPolynomial,poly2::MyPolynomial)\n",
    "\n",
    "Info:\n",
    "Overloaded function to mod a polynomial with another polynomial.\n",
    "\n",
    "Args:\n",
    "poly1: MyPolynomial object which is the LHS of the mod.\n",
    "poly2: MyPolynomial object which is the RHS of the mod.\n",
    "\n",
    "Returns:\n",
    "MyPolynomial object, with coefficients in Fₚ/f(x), where f(x) is poly2.\n",
    "\"\"\"\n",
    "function Base.:mod(poly1::MyPolynomial,poly2::MyPolynomial)\n",
    "    return divrem(poly1,poly2)[2]\n",
    "end\n",
    "\n",
    "function Base.:mod(poly1::MyPolynomial{MyPolynomial{Int}},poly2::MyPolynomial{Int})\n",
    "    p = poly1.p\n",
    "    new_coeffs = [mod(i,poly2) for i in poly1.coeffs]\n",
    "    return ConstructMyPolynomial(new_coeffs,p)\n",
    "end\n",
    "\n",
    "\n",
    "\"\"\"\n",
    "Base.:length(poly::MyPolynomial)\n",
    "\n",
    "Overloaded funciton which returns the length of a polynomial's coefficient array.\n",
    "\"\"\"\n",
    "function Base.:length(poly::MyPolynomial)\n",
    "    return length(poly.coeffs)\n",
    "end\n",
    "\n",
    "\n",
    "\"\"\"\n",
    "modulo_div(poly1::MyPolynomial{Int},poly2::MyPolynomial{Int},f::MyPolynomial{Int})\n",
    "\n",
    "Info:\n",
    "Function to perform modulo division of two polynomials within a Finite Field Fₚ/f(x). p is inferred from the polynomial.\n",
    "\n",
    "Args:\n",
    "poly1: MyPolynomial{Int} object, which is the numerator.\n",
    "poly2: MyPolynomial{Int} object, which is the denominator.\n",
    "f: f(x), the polynomial that defines the finite field.\n",
    "\"\"\"\n",
    "function modulo_div(poly1::MyPolynomial{Int},poly2::MyPolynomial{Int},f::MyPolynomial{Int})\n",
    "    mul_inv = gcdx(poly2,f)[2]\n",
    "    return mod(poly1 * mul_inv,f)\n",
    "end\n",
    "\n",
    "\n",
    "\"\"\"\n",
    "zeros_poly(num::Int, p::Int)\n",
    "\n",
    "Info:\n",
    "Equivilent to the Base.zeros() function in Julia, but for polynomials.\n",
    "\"\"\"\n",
    "function zeros_poly(num::Int, p::Int)\n",
    "    zero_poly = ConstructMyPolynomial([0],p)\n",
    "    z = []\n",
    "    for i in 1:num\n",
    "        push!(z,zero_poly)\n",
    "    end\n",
    "    return z\n",
    "end\n",
    "\n",
    "\"\"\"\n",
    "ones_poly(num::Int, p::Int)\n",
    "\n",
    "Info:\n",
    "Equivilent to the Base.ones() function in Julia, but for polynomials.\n",
    "\"\"\"\n",
    "function ones_poly(num::Int, p::Int)\n",
    "    one_poly = ConstructMyPolynomial([1],p)\n",
    "    z = []\n",
    "    for i in 1:num\n",
    "        push!(z,one_poly)\n",
    "    end\n",
    "    return z\n",
    "end\n",
    "\n",
    "\n",
    "\"\"\"\n",
    "Base.:fill(poly::MyPolynomial, num::Int)\n",
    "\n",
    "Info:\n",
    "Overloaded function for Base.fill() for polynomials\n",
    "\"\"\"\n",
    "function Base.:fill(poly::MyPolynomial, num::Int)\n",
    "    poly = remove_top_zeros(poly)\n",
    "    z::Vector{MyPolynomial} = []\n",
    "    for i in 1:num\n",
    "        push!(z,poly)\n",
    "    end\n",
    "    return z\n",
    "end\n",
    "\n",
    "#========================================================\n",
    "OVERLOADED ARITHMETIC OPERATORS/FUNCTIONS FOR POLYNOMIALS\n",
    "=========================================================#\n",
    "\n",
    "function Base.:+(poly1::MyPolynomial, poly2::MyPolynomial)\n",
    "    p = poly1.p\n",
    "    poly1 = remove_top_zeros(poly1)\n",
    "    poly2 = remove_top_zeros(poly2)\n",
    "\n",
    "    poly1,poly2 = make_same_length(poly1,poly2)\n",
    "\n",
    "    new_coeffs = poly1.coeffs + poly2.coeffs\n",
    "    return remove_top_zeros(ConstructMyPolynomial(new_coeffs,p))\n",
    "end\n",
    "\n",
    "function Base.:*(poly::MyPolynomial, num::Int)\n",
    "    p = poly.p\n",
    "    new_coeffs = [mod(i,p) for i in (poly.coeffs * num)]\n",
    "    return remove_top_zeros(ConstructMyPolynomial(new_coeffs,p))\n",
    "end\n",
    "\n",
    "function Base.:*(num::Int, poly::MyPolynomial)\n",
    "    return poly * num\n",
    "end\n",
    "\n",
    "function Base.:-(poly1::MyPolynomial, poly2::MyPolynomial)\n",
    "    return poly1 + (-1 * poly2)\n",
    "end\n",
    "\n",
    "function Base.:*(poly1::MyPolynomial{Int}, poly2::MyPolynomial{Int})\n",
    "    p = poly1.p\n",
    "    poly1 = remove_top_zeros(poly1)\n",
    "    poly2 = remove_top_zeros(poly2)\n",
    "\n",
    "    c1 = poly1.coeffs\n",
    "    c2 = poly2.coeffs\n",
    "    m = length(c1)\n",
    "    n = length(c2)\n",
    "\n",
    "    new_coeffs = zeros(Int,m+n-1)\n",
    "    for i in 1:m\n",
    "        for j in 1:n\n",
    "            new_coeffs[i+j-1] += c1[i]*c2[j]\n",
    "        end\n",
    "    end\n",
    "\n",
    "    return remove_top_zeros(ConstructMyPolynomial(new_coeffs,p))\n",
    "end\n",
    "\n",
    "function Base.:*(poly1::MyPolynomial{MyPolynomial{Int}}, poly2::MyPolynomial{MyPolynomial{Int}})\n",
    "    p = poly1.p\n",
    "    poly1 = remove_top_zeros(poly1)\n",
    "    poly2 = remove_top_zeros(poly2)\n",
    "\n",
    "    c1 = poly1.coeffs\n",
    "    c2 = poly2.coeffs\n",
    "    m = length(c1)\n",
    "    n = length(c2)\n",
    "\n",
    "    new_coeffs = zeros_poly(m+n-1,p)\n",
    "    for i in 1:m\n",
    "        for j in 1:n\n",
    "            new_coeffs[i+j-1] += c1[i]*c2[j]\n",
    "        end\n",
    "    end\n",
    "\n",
    "    return remove_top_zeros(ConstructMyPolynomial(new_coeffs,p))\n",
    "end\n",
    "\n",
    "function Base.:*(poly1::MyPolynomial{MyPolynomial{Int}},poly2::MyPolynomial{Int})\n",
    "    p = poly1.p\n",
    "    poly1 = remove_top_zeros(poly1)\n",
    "    poly2 = remove_top_zeros(poly2)\n",
    "    \n",
    "    new_coeffs = [mod(i*poly2,p) for i in poly1.coeffs]\n",
    "    return remove_top_zeros(ConstructMyPolynomial(new_coeffs,p))\n",
    "end\n",
    "\n",
    "\n",
    "function Base.:^(poly::MyPolynomial, num::Int)\n",
    "    if num == 0\n",
    "        return ConstructMyPolynomial([1],poly.p)\n",
    "    end\n",
    "    \n",
    "    poly_acc = ConstructMyPolynomial(poly.coeffs,poly.p)\n",
    "    for i in 2:num\n",
    "        poly_acc = poly_acc * poly\n",
    "    end\n",
    "    return poly_acc\n",
    "end\n",
    "\n",
    "function Base.:/(poly1::MyPolynomial{Int},poly2::MyPolynomial{Int})\n",
    "    return modulo_div(poly1,poly2,ConstructMyPolynomial([1],poly1.p))\n",
    "end\n",
    "\n",
    "function Base.:divrem(poly1::MyPolynomial{Int}, poly2::MyPolynomial{Int})\n",
    "    p = poly1.p\n",
    "    poly1 = remove_top_zeros(poly1)\n",
    "    poly2 = remove_top_zeros(poly2)\n",
    "\n",
    "    num = poly1.coeffs\n",
    "    den = poly2.coeffs\n",
    "\n",
    "    if length(num) >= length(den)\n",
    "        # Shift denominator to the right to match degree of numerator.\n",
    "        shiftamount = length(num) - length(den)\n",
    "        den = append!(zeros(Int,shiftamount),den)\n",
    "    else\n",
    "        # This is the case where degree of denominator > degree of numerator.\n",
    "        # Results in zero quotient and the numerator being the remainder.\n",
    "        return (ConstructMyPolynomial([0],p),remove_top_zeros(ConstructMyPolynomial(num,p)),)\n",
    "    end\n",
    "\n",
    "    quotient = []\n",
    "    divisor = last(den)\n",
    "\n",
    "    for i in 1:(shiftamount+1)\n",
    "        #Get the next coefficient of the quotient.\n",
    "        mult = modulo_div(last(num),divisor,p)\n",
    "        quotient = append!([mult],quotient)\n",
    "        \n",
    "        if mult != 0\n",
    "            d = [mult * u for u in den]\n",
    "            for i in 1:length(num)\n",
    "                num[i] = mod((num[i] - d[i]),p)\n",
    "            end\n",
    "        end\n",
    "        \n",
    "        pop!(num)\n",
    "        popfirst!(den)\n",
    "    end\n",
    "    return (remove_top_zeros(ConstructMyPolynomial(quotient,p)),remove_top_zeros(ConstructMyPolynomial(num,p)))\n",
    "end\n",
    "\n",
    "function Base.:divrem(poly1::MyPolynomial{MyPolynomial{Int}}, poly2::MyPolynomial{MyPolynomial{Int}},f::MyPolynomial{Int})\n",
    "    p = poly1.p\n",
    "    poly1 = remove_top_zeros(poly1)\n",
    "    poly2 = remove_top_zeros(poly2)\n",
    "\n",
    "    num = poly1.coeffs\n",
    "    den = poly2.coeffs\n",
    "\n",
    "    if length(num) >= length(den)\n",
    "        # Shift denominator to the right to match degree of numerator.\n",
    "        shiftamount = length(num) - length(den)\n",
    "        den = append!(zeros_poly(shiftamount,p),den)\n",
    "    else\n",
    "        # This is the case where degree of denominator > degree of numerator.\n",
    "        # Results in zero quotient and the numerator being the remainder.\n",
    "        return (ConstructMyPolynomial([0],p),remove_top_zeros(ConstructMyPolynomial(num,p)))\n",
    "    end\n",
    "\n",
    "    quotient = []\n",
    "    divisor = last(den)\n",
    "\n",
    "    for i in 1:(shiftamount+1)\n",
    "        #Get the next coefficient of the quotient.\n",
    "        mult = modulo_div(last(num),divisor,f) # Should be modulo division with respect to F[x]/f(x)\n",
    "        quotient = append!([mult],quotient)\n",
    "        \n",
    "        if mult != 0\n",
    "            d = [mod(mult*u,f) for u in den]\n",
    "            for i in 1:length(num)\n",
    "                num[i] = mod((num[i] - d[i]),f)\n",
    "            end\n",
    "        end\n",
    "        \n",
    "        pop!(num)\n",
    "        popfirst!(den)\n",
    "    end\n",
    "    return (remove_top_zeros(ConstructMyPolynomial(quotient,p)),remove_top_zeros(ConstructMyPolynomial(num,p)),)\n",
    "end\n",
    "\n",
    "function Base.:divrem(poly1::MyPolynomial{MyPolynomial{Int}},poly2::MyPolynomial{Int})\n",
    "    p = poly1.p\n",
    "    poly1 = remove_top_zeros(poly1)\n",
    "    poly2 = remove_top_zeros(poly2)\n",
    "    \n",
    "    new_coeffs = [divrem(i,poly2)[1] for i in poly1.coeffs]\n",
    "    return remove_top_zeros(ConstructMyPolynomial(new_coeffs,p))\n",
    "end\n",
    "\n",
    "function Base.:powermod(poly::MyPolynomial, num::Int, f::MyPolynomial)\n",
    "    if num == 0\n",
    "        return ConstructMyPolynomial([1],poly.p)\n",
    "    end\n",
    "    f = remove_top_zeros(f)\n",
    "    poly_acc = remove_top_zeros(poly)\n",
    "    for i in 2:num\n",
    "        poly_acc = divrem(poly_acc * poly,f)[2]\n",
    "    end\n",
    "    return poly_acc\n",
    "end\n",
    "\n",
    "function Base.:gcdx(poly1::MyPolynomial{Int},poly2::MyPolynomial{Int})\n",
    "    p = poly1.p\n",
    "    swapped = false\n",
    "    if poly1.order < poly2.order\n",
    "        swapped = true\n",
    "        a = remove_top_zeros(poly2)\n",
    "        b = remove_top_zeros(poly1)\n",
    "    else\n",
    "        a = remove_top_zeros(poly1)\n",
    "        b = remove_top_zeros(poly2)\n",
    "    end\n",
    "\n",
    "    x0,x1 = ConstructMyPolynomial([1],p),ConstructMyPolynomial([0],p)\n",
    "    y0,y1 = ConstructMyPolynomial([0],p),ConstructMyPolynomial([1],p)\n",
    "\n",
    "    if b == ConstructMyPolynomial([0],p)\n",
    "        if swapped \n",
    "            return (a,y0,x0)\n",
    "        else\n",
    "            return (a,x0,y0)\n",
    "        end\n",
    "    end\n",
    "\n",
    "    r = b\n",
    "\n",
    "     while remove_top_zeros(r) != ConstructMyPolynomial([0],p)\n",
    "        q,r = divrem(a,b)\n",
    "        a = b\n",
    "        b = r\n",
    "\n",
    "        x0, x1 = x1, x0 - q*x1\n",
    "        y0, y1 = y1, y0 - q*y1\n",
    "    end\n",
    "\n",
    "    if swapped\n",
    "        return (a,y0,x0)\n",
    "    else\n",
    "        return (a,x0,y0)\n",
    "    end\n",
    "end\n",
    "\n",
    "function Base.:zero(x::MyPolynomial{Int})\n",
    "    return ConstructMyPolynomial([0],x.p)\n",
    "end\n",
    "\n",
    "function Base.:one(x::MyPolynomial{Int})\n",
    "    return ConstructMyPolynomial([1],x.p)\n",
    "end\n",
    "\n",
    "#================================================\n",
    "OVERLOADED LOGICAL OPERATORS FOR POLYNOMIALS\n",
    "=================================================#\n",
    "\n",
    "function Base.:(==)(poly1::MyPolynomial,poly2::MyPolynomial)\n",
    "    return poly1.coeffs == poly2.coeffs\n",
    "end\n",
    "\n",
    "function Base.:(!=)(poly1::MyPolynomial,poly2::MyPolynomial)\n",
    "    return poly1.coeffs != poly2.coeffs\n",
    "end\n",
    "\n",
    "#================================================#\n",
    "\n",
    "\"\"\"\n",
    "derivative(poly::MyPolynomial)\n",
    "\n",
    "Info:\n",
    "Function to find the derivative of the supplied polynomial with respect to the main varaible of the polynomial.\n",
    "Note: Even for polynomials with polynomial coefficients, this function will treat them as coefficients of a different variable,\n",
    "meaning that it will not differentiate with respect to them (treating them like it would treat an integer).\n",
    "\n",
    "Args:\n",
    "poly: MyPolynomial object to be differentiated.\n",
    "\n",
    "Returns:\n",
    "MyPolynomial object, which is the first derivitive of the input.\n",
    "\n",
    "\"\"\"\n",
    "function derivative(poly::MyPolynomial)\n",
    "    coeffs = poly.coeffs\n",
    "    p = poly.p\n",
    "    new_coeffs = []\n",
    "\n",
    "    for i in 2:length(coeffs)\n",
    "        push!(new_coeffs,(i-1)*coeffs[i])\n",
    "    end\n",
    "    return remove_top_zeros(ConstructMyPolynomial(new_coeffs,p))\n",
    "end\n",
    "\n",
    "\n",
    "\"\"\"\n",
    "evaluate(poly::MyPolynomial{Int},x::Int)\n",
    "\n",
    "Info:\n",
    "Function to evaluate a polynomial at a given value.\n",
    "\n",
    "Args:\n",
    "poly: MyPolynomial object to be evaluated.\n",
    "x: The x value at which the polynomial is to be evauluated\n",
    "\n",
    "Returns:\n",
    "Integer value of the polynomial at the given input (in Fₚ)\n",
    "\n",
    "\"\"\"\n",
    "function evaluate(poly::MyPolynomial{Int},x::Int)\n",
    "    coeffs = poly.coeffs\n",
    "    p = poly.p\n",
    "    val = 0\n",
    "    for i in 1:length(coeffs)\n",
    "        val = mod(val + coeffs[i] * powermod(x,(i-1),p),p)\n",
    "    end\n",
    "    return mod(val,p)\n",
    "end\n",
    "\n",
    "\n",
    "\"\"\"\n",
    "evaluate(poly1::MyPolynomial{MyPolynomial{Int}},poly2::MyPolynomial{Int},f::MyPolynomial{Int})\n",
    "\n",
    "Info:\n",
    "Function to evaluate a polynomial with polynomial coefficients at a given polynomial value.\n",
    "\n",
    "Args:\n",
    "poly1: MyPolynomial object to be evaluated.\n",
    "poly2: The polynomial to be substituted in.\n",
    "f: The f(x) that defines the Finite Field Fₚ/f(x).\n",
    "\n",
    "Returns:\n",
    "MyPolynomial object, which is the value of the polynomial at the given input (in Fq)\n",
    "\n",
    "\"\"\"\n",
    "function evaluate(poly1::MyPolynomial{MyPolynomial{Int}},poly2::MyPolynomial{Int},f::MyPolynomial{Int})\n",
    "    coeffs = poly1.coeffs\n",
    "    p = poly1.p\n",
    "    val = ConstructMyPolynomial([0],p)\n",
    "    for i in 1:length(coeffs)\n",
    "        val = mod(val + mod((coeffs[i] * powermod(poly2,i-1,f)),f),f)\n",
    "    end\n",
    "    return remove_top_zeros(mod(val,f))\n",
    "end\n",
    "\n",
    "\n",
    "\"\"\"\n",
    "Base.:string(poly::MyPolynomial{MyPolynomial{Int}},var::Char)\n",
    "\n",
    "Info:\n",
    "Overloaded function to convert a polynomial to a string in preparation for printing.\n",
    "\n",
    "Args:\n",
    "poly: MyPolynomial object to be converted to string.\n",
    "var: A char representing the chosen variable to be printed. (e.g. 'x' --> 1 + x + x^2 | 'z' --> 1 + z + z^2)\n",
    "\n",
    "Returns:\n",
    "A string representing the polynomial in readable format.\n",
    "\"\"\"\n",
    "function Base.:string(poly::MyPolynomial{MyPolynomial{Int}},var::Char)\n",
    "    poly = remove_top_zeros(poly)\n",
    "    coeffs = poly.coeffs\n",
    "    i = 0\n",
    "    s = string(first(coeffs),var)\n",
    "    for i in 2:length(coeffs)\n",
    "        s = string(s,\" + [\",string(coeffs[i],var),\"]\",var,\"^\",i-1)\n",
    "    end\n",
    "    return s\n",
    "end\n",
    "\n",
    "# Same as the above but for MyPolynomial{Int}\n",
    "function Base.:string(poly::MyPolynomial{Int},var::Char)\n",
    "    poly = remove_top_zeros(poly)\n",
    "    coeffs = poly.coeffs\n",
    "    i = 0\n",
    "    s = string(first(coeffs))\n",
    "    for i in 2:length(coeffs)\n",
    "        s = string(s,\" + (\",coeffs[i],var,\"^\",i-1,\")\")\n",
    "    end\n",
    "    return s\n",
    "end\n",
    "\n",
    "\"\"\"\n",
    "Base.:print(poly::MyPolynomial,var::Char)\n",
    "\n",
    "Info:\n",
    "Overloaded function to print a polynomial in a human-readable format.\n",
    "\n",
    "Args:\n",
    "poly: MyPolynomial object to be printed.\n",
    "var: A char representing the chosen variable to be printed. (e.g. 'x' --> 1 + x + x^2 | 'z' --> 1 + z + z^2)\n",
    "\"\"\"\n",
    "function Base.:print(poly::MyPolynomial,var::Char)\n",
    "    println(string(poly,var))\n",
    "end\n"
   ]
  },
  {
   "cell_type": "markdown",
   "metadata": {},
   "source": [
    "## 3.1 RS Codes on $\\mathbb{F}_p$ (50%)"
   ]
  },
  {
   "cell_type": "markdown",
   "metadata": {},
   "source": [
    "### 3.1.1 RS Codes on $\\mathbb{F}_{17}$\n",
    "\n",
    "1. In $\\mathbb{F}_{17}$, find a primitive element $\\alpha$. \n",
    "2. Let $\\mathcal{C} \\subset \\mathbb{F}_{17}^{16}$ be an RS code with parameters $[16,k,7]$. What is the value of $k$? \n",
    "3. Design and implement an encoding function `RSNum_Enc` that encodes a message $\\boldsymbol{m} \\in \\mathbb{F}_{17}^k$ to a codeword $\\boldsymbol{c} \\in \\mathcal{C}$. \n",
    "4. Let $\\boldsymbol{y} = \\boldsymbol{c} + \\boldsymbol{e}$ be the received word where the channel introduces $t = \\lfloor \\frac{d-1}{2}\\rfloor$ errors in random places. Design and implement a function `RSNum_Channel` for this. Julia function `StatsBase > Sample` can be helpful in randomly chose error locations.\n",
    "5. Design and implement a function `RSNum_Syndrome` to calculate the syndrome vector and the syndrome polynomial from the received word $\\boldsymbol{y}$. \n",
    "6. Design and implement a function `RSNum_KeyPolys` to find error locator polynomial $L(z)$ and error evaluator polynomial $E(z)$ from the syndrome polynomial $S(z)$. \n",
    "7. Design and implement a function `RSNum_Err` to find the estimated error vector $\\hat{\\boldsymbol{e}}$ and the estimated codeword $\\hat{\\boldsymbol{c}}$.\n",
    "8. Design and implement a function `RSNum_Message` to find the estimated message $\\hat{\\boldsymbol{m}}$. \n",
    "9. Implement a function `RSNum_Dec` which uses the functions in Steps 5-8 as sub-routines for decoding.  \n",
    "\n",
    "Provide necessary documentation."
   ]
  },
  {
   "cell_type": "markdown",
   "metadata": {},
   "source": [
    "#### 1. Find a Primitive Element $\\alpha$\n",
    "\n",
    "We use the function `find_primitve(p)`, which returns an array of all primitive elements in the finite field. We then pick one at random to be our $\\alpha$."
   ]
  },
  {
   "cell_type": "code",
   "execution_count": 112,
   "metadata": {},
   "outputs": [
    {
     "data": {
      "text/plain": [
       "8-element Vector{Any}:\n",
       "  3\n",
       "  5\n",
       "  6\n",
       "  7\n",
       " 10\n",
       " 11\n",
       " 12\n",
       " 14"
      ]
     },
     "execution_count": 112,
     "metadata": {},
     "output_type": "execute_result"
    }
   ],
   "source": [
    "# Utility function for find_primitive\n",
    "# Checks if an element is a primitive element of finite field Fₚ\n",
    "function is_primitive_element(element,p)\n",
    "    if modExpo(p,element,p-1) != 1\n",
    "        return false\n",
    "    end\n",
    "\n",
    "    # Using ord(β) | p-1 for Fₚ.\n",
    "    # Using p instead of q as p = q for integer ring finite fields.\n",
    "    # We only need to check powers that are factors of p-1.\n",
    "    factors = []\n",
    "    for i in 2:isqrt(p-1)\n",
    "        quot,rem = divrem(p-1,i)\n",
    "        if rem == 0\n",
    "            append!(factors,[i,quot])\n",
    "        end\n",
    "    end\n",
    "    \n",
    "    for t in factors\n",
    "        if modExpo(p,element,t) == 1\n",
    "            return false\n",
    "        end\n",
    "    end\n",
    "    return true\n",
    "end\n",
    "\n",
    "\n",
    "\"\"\"\n",
    "find_primitive(p)\n",
    "\n",
    "Info:\n",
    "Finds primitve elements for the Finite Field Fₚ denoted by input p.\n",
    "\n",
    "Args:\n",
    "p: Prime number defining Finite Field Fₚ.\n",
    "\n",
    "Returns:\n",
    "A vector of integers which are elements of Fₚ.\n",
    "\"\"\"\n",
    "function find_primitive(p)\n",
    "    field = collect(0:p-1)\n",
    "    prim_els = []\n",
    "    for a in field\n",
    "        if is_primitive_element(a,p)\n",
    "            push!(prim_els,a)\n",
    "        end\n",
    "    end\n",
    "    return prim_els\n",
    "end\n",
    "\n",
    "find_primitive(17)"
   ]
  },
  {
   "cell_type": "code",
   "execution_count": 113,
   "metadata": {},
   "outputs": [
    {
     "name": "stdout",
     "output_type": "stream",
     "text": [
      "α = 14\n"
     ]
    },
    {
     "data": {
      "text/plain": [
       "14"
      ]
     },
     "execution_count": 113,
     "metadata": {},
     "output_type": "execute_result"
    }
   ],
   "source": [
    "# Define the prime number for our Finite Field\n",
    "p = 17\n",
    "\n",
    "# Get all primitive elements in that Finite Field\n",
    "prim_els = find_primitive(p)\n",
    "\n",
    "# Pick a primitive element at random to be α\n",
    "α = prim_els[rand(1:length(prim_els))]\n",
    "@show α"
   ]
  },
  {
   "cell_type": "markdown",
   "metadata": {},
   "source": [
    "#### 2. What is the value of $k$?\n",
    "\n",
    "RS Codes are defined by three parameters: **$[n,k,d]$**, where $d = n - k + 1$.\n",
    "\n",
    "Taking the RS Code given in the question:  **$[16,k,7]$**, we can see that $n = 16$ and $n - k + 1 = 7$. \n",
    "\n",
    "We can substitute in $n = 16$ to get: $16 - k + 1 = 7$. Solving this equation yields **$k = 10$**."
   ]
  },
  {
   "cell_type": "code",
   "execution_count": 114,
   "metadata": {},
   "outputs": [
    {
     "data": {
      "text/plain": [
       "7"
      ]
     },
     "execution_count": 114,
     "metadata": {},
     "output_type": "execute_result"
    }
   ],
   "source": [
    "# Define the values of [n,k,d]\n",
    "n = 16\n",
    "k = 10\n",
    "d = 7"
   ]
  },
  {
   "cell_type": "markdown",
   "metadata": {},
   "source": [
    "#### 3. RS Encoding"
   ]
  },
  {
   "cell_type": "code",
   "execution_count": 115,
   "metadata": {},
   "outputs": [
    {
     "data": {
      "text/plain": [
       "generator_matrix"
      ]
     },
     "execution_count": 115,
     "metadata": {},
     "output_type": "execute_result"
    }
   ],
   "source": [
    "# Helper Functions for RS Encoding\n",
    "\n",
    "\"\"\"\n",
    "generator_matrix(p,α,n,k)\n",
    "\n",
    "Info:\n",
    "Creates the generator matrix, G, for RS Encoding using the given arguments.\n",
    "\n",
    "Args:\n",
    "p: The prime number that defines the Finite Field Fₚ\n",
    "α: The chosen primitive element from Fₚ\n",
    "n: The length of the code\n",
    "k: The length of the message\n",
    "\n",
    "Returns:\n",
    "A k×n matrix of type Matrix{Int} which is the generator matrix of the RS Code [n,k,d]\n",
    "\"\"\"\n",
    "function generator_matrix(p,α,n,k)\n",
    "    # First row of the matrix will always be n 1s, so generate that\n",
    "    gen_mat = ones(Int,1,n)\n",
    "    \n",
    "    for i in 1:k-1\n",
    "        # Calculate the defining element for that row (αⁱ, where i goes up to k)\n",
    "        αⁱ = modExpo(p,α,i)\n",
    "        row = fill(αⁱ,1,n)\n",
    "        for j in 1:n\n",
    "            # Mulitply the defining element for the given row by ascending powers up to n\n",
    "            row[j] = modExpo(p,row[j],j-1)\n",
    "        end\n",
    "        # Add the new row to the bottom of the matrix\n",
    "        gen_mat = vcat(gen_mat,row)\n",
    "    end\n",
    "    return gen_mat\n",
    "end\n"
   ]
  },
  {
   "cell_type": "code",
   "execution_count": 116,
   "metadata": {},
   "outputs": [
    {
     "data": {
      "text/plain": [
       "RSNum_Enc (generic function with 1 method)"
      ]
     },
     "execution_count": 116,
     "metadata": {},
     "output_type": "execute_result"
    }
   ],
   "source": [
    "\"\"\"\n",
    "RSNum_Enc(message,p,α,n,k)\n",
    "\n",
    "Info:\n",
    "Encodes the given message using Reed-Solomon Encoding.\n",
    "\n",
    "Args:\n",
    "message: Matrix{Int} of dimension 1×k containing the message\n",
    "p: The prime number that defines the Finite Field Fₚ\n",
    "α: The chosen primitive element from Fₚ\n",
    "n: The length of the code\n",
    "k: The length of the message\n",
    "\n",
    "Returns:\n",
    "A 1×n matrix of type Matrix{Int}, which is the encoded message\n",
    "\"\"\"\n",
    "\n",
    "function RSNum_Enc(message,p,α,n,k)\n",
    "    if typeof(message) != Matrix{Int}\n",
    "        println(\"Please enter message in the format of a 1×k matrix\")\n",
    "        println(\"Type of message should be Matrix{Int}, not $(typeof(message))\")\n",
    "        return -1\n",
    "    end\n",
    "    if length(message) != k\n",
    "        println(\"Length of message should be $k, which is the value of k provided\")\n",
    "        return -1\n",
    "    end\n",
    "\n",
    "    # Ensure each element in our message is in Fₚ\n",
    "    # If not then, perform modulo to make it comply\n",
    "    message = [mod(i,p) for i in message]\n",
    "\n",
    "    # Calculate the Generator Matrix for the given parameters\n",
    "    G = generator_matrix(p,α,n,k)\n",
    "\n",
    "    # Calculate the code by multiplying the message and the generator matrix\n",
    "    code = message * G\n",
    "    code = [mod(i,p) for i in code]\n",
    "\n",
    "    return code\n",
    "\n",
    "end"
   ]
  },
  {
   "cell_type": "code",
   "execution_count": 117,
   "metadata": {},
   "outputs": [
    {
     "data": {
      "text/plain": [
       "1×16 Matrix{Int64}:\n",
       " 9  1  15  16  9  5  10  8  14  14  16  12  0  9  0  8"
      ]
     },
     "execution_count": 117,
     "metadata": {},
     "output_type": "execute_result"
    }
   ],
   "source": [
    "# Test: Encode a message\n",
    "message = [7 3 8 7 1 9 4 4 0 0]\n",
    "codeword = RSNum_Enc(message,p,α,n,k)"
   ]
  },
  {
   "cell_type": "markdown",
   "metadata": {},
   "source": [
    "#### 4. Simulating the Channel"
   ]
  },
  {
   "cell_type": "code",
   "execution_count": 118,
   "metadata": {},
   "outputs": [
    {
     "data": {
      "text/plain": [
       "RSNum_Channel (generic function with 1 method)"
      ]
     },
     "execution_count": 118,
     "metadata": {},
     "output_type": "execute_result"
    }
   ],
   "source": [
    "\"\"\"\n",
    "RSNum_Channel(code,p,n,d)\n",
    "\n",
    "Info:\n",
    "Simulates errors in the channel by adding (d-1)/2 errors, so that we can test our error correction mechanism later.\n",
    "This is achieved by randomly choosing the position of the errors, and then adding a random number to the code in that position.\n",
    "\n",
    "Args:\n",
    "code: Matrix{Int} of dimension 1×n, the codeword to be transmitted accross the channel\n",
    "p: The prime number that defines the Finite Field Fₚ\n",
    "n: The length of the code\n",
    "d: d as defined for the RS Code\n",
    "\n",
    "Returns:\n",
    "A 1×n matrix of type Matrix{Int}, which is the codeword with error introduced\n",
    "\"\"\"\n",
    "\n",
    "function RSNum_Channel(code,p,n,d)\n",
    "    # Maximum number of errors\n",
    "    t::Int = floor((d-1)/2)\n",
    "\n",
    "    # Randomly choose t unique locations of the errors\n",
    "    I = sample((1:n),t,replace=false)\n",
    "    I_for_show = [i-1 for i in I]\n",
    "    @show I_for_show\n",
    "    # Build error vector, which has non-zero elements at eᵢ where i∈I\n",
    "    e = []\n",
    "    for i in 1:n\n",
    "        if i in I\n",
    "            push!(e,rand(1:p))\n",
    "        else\n",
    "            push!(e,0)\n",
    "        end\n",
    "    end\n",
    "\n",
    "    # Convert e from type Vector{Int} to Matrix{Int}\n",
    "    # This makes it the same type and shape as the code, allowing for addition\n",
    "    e = reshape(e,1,n)\n",
    "    @show e\n",
    "    # Add error to the code\n",
    "    changed_code = code + e\n",
    "    changed_code = [mod(i,p) for i in changed_code]\n",
    "\n",
    "    return changed_code\n",
    "end\n"
   ]
  },
  {
   "cell_type": "code",
   "execution_count": 119,
   "metadata": {},
   "outputs": [
    {
     "name": "stdout",
     "output_type": "stream",
     "text": [
      "I_for_show = [7, 5, 13]\n",
      "e = Any[0 0 0 0 0 11 0 14 0 0 0 0 0 15 0 0]\n"
     ]
    },
    {
     "data": {
      "text/plain": [
       "1×16 Matrix{Int64}:\n",
       " 9  1  15  16  9  16  10  5  14  14  16  12  0  7  0  8"
      ]
     },
     "execution_count": 119,
     "metadata": {},
     "output_type": "execute_result"
    }
   ],
   "source": [
    "# Test: Transmit codeword through channel\n",
    "received = RSNum_Channel(codeword,p,n,d)"
   ]
  },
  {
   "cell_type": "markdown",
   "metadata": {},
   "source": [
    "#### 5. Syndrome Vector and Polynomial"
   ]
  },
  {
   "cell_type": "code",
   "execution_count": 120,
   "metadata": {},
   "outputs": [
    {
     "data": {
      "text/plain": [
       "6×16 Matrix{Int64}:\n",
       " 1  14   9   7  13  12  15   6  16   3   8  10   4   5   2  11\n",
       " 1   9  13  15  16   8   4   2   1   9  13  15  16   8   4   2\n",
       " 1   7  15   3   4  11   9  12  16  10   2  14  13   6   8   5\n",
       " 1  13  16   4   1  13  16   4   1  13  16   4   1  13  16   4\n",
       " 1  12   8  11  13   3   2   7  16   5   9   6   4  14  15  10\n",
       " 1  15   4   9  16   2  13   8   1  15   4   9  16   2  13   8"
      ]
     },
     "execution_count": 120,
     "metadata": {},
     "output_type": "execute_result"
    }
   ],
   "source": [
    "# Helper functions\n",
    "\n",
    "\"\"\"\n",
    "parity_check_matrix(p,α,n,k)\n",
    "\n",
    "Info:\n",
    "Creates the parity-check matrix, H, for RS Decoding using the given arguments.\n",
    "\n",
    "Args:\n",
    "p: The prime number that defines the Finite Field Fₚ\n",
    "α: The chosen primitive element from Fₚ\n",
    "n: The length of the code\n",
    "k: The length of the message\n",
    "\n",
    "Returns:\n",
    "A (n-k)×n matrix of type Matrix{Int} which is the parity-check matrix of the RS Code [n,k,d]\n",
    "\"\"\"\n",
    "function parity_check_matrix(p,α,n,k)\n",
    "    pc_mat = zeros(Int,n-k,n)\n",
    "    for i in 1:n-k\n",
    "        # Calculate the defining element for that row (αⁱ, where i goes up to k)\n",
    "        αⁱ = modExpo(p,α,i)\n",
    "        row = fill(αⁱ,1,n)\n",
    "        for j in 1:n\n",
    "            # Multiply the defining element for the given row by ascending powers up to n\n",
    "            pc_mat[i+(j-1)*(n-k)] = modExpo(p,row[j],j-1)\n",
    "        end\n",
    "    end\n",
    "    return pc_mat\n",
    "end\n",
    "\n",
    "parity_check_matrix(p,α,n,k)\n"
   ]
  },
  {
   "cell_type": "code",
   "execution_count": 121,
   "metadata": {},
   "outputs": [
    {
     "data": {
      "text/plain": [
       "10×6 Matrix{Int64}:\n",
       " 0  0  0  0  0  0\n",
       " 0  0  0  0  0  0\n",
       " 0  0  0  0  0  0\n",
       " 0  0  0  0  0  0\n",
       " 0  0  0  0  0  0\n",
       " 0  0  0  0  0  0\n",
       " 0  0  0  0  0  0\n",
       " 0  0  0  0  0  0\n",
       " 0  0  0  0  0  0\n",
       " 0  0  0  0  0  0"
      ]
     },
     "execution_count": 121,
     "metadata": {},
     "output_type": "execute_result"
    }
   ],
   "source": [
    "# Verifying that the identity GHᵀ = 0 holds\n",
    "# Done to test generator_matrix and parity_check_matrix functions\n",
    "G = generator_matrix(p,α,n,k)\n",
    "H = parity_check_matrix(p,α,n,k)\n",
    "\n",
    "A = G * transpose(H)\n",
    "A = [mod(i,p) for i in A]\n"
   ]
  },
  {
   "cell_type": "code",
   "execution_count": 122,
   "metadata": {},
   "outputs": [
    {
     "data": {
      "text/plain": [
       "RSNum_Syndrome"
      ]
     },
     "execution_count": 122,
     "metadata": {},
     "output_type": "execute_result"
    }
   ],
   "source": [
    "\"\"\"\n",
    "RSNum_Syndrome(changed_code,p,α,n,k)\n",
    "\n",
    "Info:\n",
    "Function to calculate the syndrome vector and syndrome polynomial from the changed code.\n",
    "This is achieved by doing rHᵀ, where r is the received errorred code, and H is the parity check matrix.\n",
    "r = (c + e), so the operation is actually (c + e)Hᵀ = cHᵀ + eHᵀ (by associativity of matrix multiplication).\n",
    "cHᵀ = 0 by the properties of the parity-check matrix, leaving us with only eHᵀ, which is the syndrome vector.\n",
    "\n",
    "Args:\n",
    "changed_code: The received codeword, which contains errors.\n",
    "p: The prime number that defines the Finite Field Fₚ\n",
    "α: The chosen primitive element from Fₚ\n",
    "n: The length of the code\n",
    "k: The length of the message\n",
    "\"\"\"\n",
    "function RSNum_Syndrome(changed_code,p,α,n,k)\n",
    "    # Calculate the parity-check Matrix\n",
    "    H = parity_check_matrix(p,α,n,k)\n",
    "\n",
    "    # Calculate syndrome vector\n",
    "    syndrome_vector = changed_code * transpose(H)\n",
    "    syndrome_vector = [mod(i,p) for i in syndrome_vector]\n",
    "\n",
    "    # Return the syndrome vector and syndrome polynomial\n",
    "    return (syndrome_vector,ConstructMyPolynomial(vec(syndrome_vector),p))\n",
    "end"
   ]
  },
  {
   "cell_type": "code",
   "execution_count": 123,
   "metadata": {},
   "outputs": [
    {
     "name": "stdout",
     "output_type": "stream",
     "text": [
      "Syndrome Vector: [2 15 5 3 1 11]\n",
      "Syndrome Polynomial S(z) = 2 + (15z^1) + (5z^2) + (3z^3) + (1z^4) + (11z^5)\n"
     ]
    }
   ],
   "source": [
    "# Test: Calculate Syndrome Vector/Polynomial from Received Codeword\n",
    "s_vector,s_poly = RSNum_Syndrome(received,p,α,n,k)\n",
    "println(\"Syndrome Vector: \", s_vector)\n",
    "println(\"Syndrome Polynomial S(z) = \", string(s_poly,'z'))"
   ]
  },
  {
   "cell_type": "markdown",
   "metadata": {},
   "source": [
    "#### 6. Error Locator Polynomial and Error Evaluator Polynomial"
   ]
  },
  {
   "cell_type": "code",
   "execution_count": 124,
   "metadata": {},
   "outputs": [
    {
     "data": {
      "text/plain": [
       "partial_euclidean_algorithm"
      ]
     },
     "execution_count": 124,
     "metadata": {},
     "output_type": "execute_result"
    }
   ],
   "source": [
    "# HELPER FUNCTIONS\n",
    "\n",
    "\n",
    "\"\"\"\n",
    "partial_euclidean_algorithm(a::MyPolynomial{Int},b::MyPolynomial{Int},stop::Int)\n",
    "\n",
    "Info:\n",
    "Helper function that performs the Extended Euclidian Algorithm on two polynomials until a specified stop point.\n",
    "This stop point refers to the point at which the order of the remainder is ≤ stop.\n",
    "\"\"\"\n",
    "function partial_euclidean_algorithm(a::MyPolynomial{Int},b::MyPolynomial{Int},stop::Int)\n",
    "    # Clean up polynomials\n",
    "    p = a.p\n",
    "    a = remove_top_zeros(a)\n",
    "    b = remove_top_zeros(b)\n",
    "\n",
    "    # Define initial Bezout Coefficient helpers\n",
    "    x0,x1 = ConstructMyPolynomial([1],p),ConstructMyPolynomial([0],p)\n",
    "    y0,y1 = ConstructMyPolynomial([0],p),ConstructMyPolynomial([1],p)\n",
    "\n",
    "    if b == ConstructMyPolynomial([0],p)\n",
    "        return (a,x0,y0)\n",
    "    end\n",
    "\n",
    "    r = b\n",
    "\n",
    "    # Last Run boolean is required to run the algorithm one extra time to correctly calculate Bezout Coeffs.\n",
    "    last_run = false\n",
    "\n",
    "    # Do the Extended Euclidian Algorithm\n",
    "     while r.order > stop || !last_run\n",
    "        if r.order <= stop\n",
    "            last_run = true\n",
    "        end\n",
    "        q,r = divrem(a,b)\n",
    "        a = b\n",
    "        b = r\n",
    "\n",
    "        x0, x1 = x1, x0 - q*x1\n",
    "        y0, y1 = y1, y0 - q*y1\n",
    "    end\n",
    "    return (a,x0,y0)\n",
    "end\n"
   ]
  },
  {
   "cell_type": "code",
   "execution_count": 125,
   "metadata": {},
   "outputs": [
    {
     "data": {
      "text/plain": [
       "RSNum_KeyPolys"
      ]
     },
     "execution_count": 125,
     "metadata": {},
     "output_type": "execute_result"
    }
   ],
   "source": [
    "\"\"\"\n",
    "RSNum_KeyPolys(s_poly,p,α,n,d)\n",
    "\n",
    "Info:\n",
    "Function to calculate the Error Locator Polynomial (L), and the Error Evaluator Polynomial (E),\n",
    "from the syndrome polynomial.\n",
    "\n",
    "Args:\n",
    "s_poly: Syndrome Polynomial\n",
    "p: The prime number that defines the Finite Field Fₚ\n",
    "α: The chosen primitive element from Fₚ\n",
    "n: The length of the code\n",
    "d: Distance\n",
    "\n",
    "Returns:\n",
    "L: MyPolynomial object representing the Error Locator Polynomial\n",
    "E: MyPolynomial object representing the Error Evaluator Polynomial\n",
    "\"\"\"\n",
    "function RSNum_KeyPolys(s_poly,p,α,n,d)\n",
    "    # Define t, last \n",
    "    t::Int = floor((d-1)/2)\n",
    "    z = ConstructMyPolynomial(append!(zeros(Int,d-1),[1]),p)\n",
    "    r,b,a = partial_euclidean_algorithm(z,s_poly,t-1)\n",
    "    E_prime = divrem(r,z)[2]\n",
    "    L_prime = divrem(a,z)[2]\n",
    "\n",
    "    c_inv = modulo_div(1,last(L_prime.coeffs),p)\n",
    "\n",
    "    L = L_prime * c_inv\n",
    "    E = E_prime * c_inv\n",
    "\n",
    "    @show L\n",
    "    @show E\n",
    "\n",
    "    return L,E\n",
    "end\n"
   ]
  },
  {
   "cell_type": "code",
   "execution_count": 126,
   "metadata": {},
   "outputs": [
    {
     "name": "stdout",
     "output_type": "stream",
     "text": [
      "L = MyPolynomial{Int64}([11, 2, 14, 1], 3, 17)\n",
      "E = MyPolynomial{Int64}([5, 16, 11], 2, 17)\n"
     ]
    },
    {
     "data": {
      "text/plain": [
       "(MyPolynomial{Int64}([11, 2, 14, 1], 3, 17), MyPolynomial{Int64}([5, 16, 11], 2, 17))"
      ]
     },
     "execution_count": 126,
     "metadata": {},
     "output_type": "execute_result"
    }
   ],
   "source": [
    "L,E = RSNum_KeyPolys(s_poly,p,α,n,d)"
   ]
  },
  {
   "cell_type": "markdown",
   "metadata": {},
   "source": [
    "#### 7. Estimating Error"
   ]
  },
  {
   "cell_type": "code",
   "execution_count": 127,
   "metadata": {},
   "outputs": [
    {
     "data": {
      "text/plain": [
       "error_values (generic function with 1 method)"
      ]
     },
     "execution_count": 127,
     "metadata": {},
     "output_type": "execute_result"
    }
   ],
   "source": [
    "# HELPER FUNCTIONS\n",
    "\n",
    "# Function to find the set of error locations, I.\n",
    "function error_locations(L,p,α,n)\n",
    "    I = []\n",
    "    for k in 0:n-1\n",
    "        αᵏ = powermod(α,k,p)\n",
    "        # We evaluate L(α⁻ᵏ). If it equals zero we know there is an error at that location.\n",
    "        if evaluate(L,modulo_div(1,αᵏ,p)) == 0\n",
    "            push!(I,k)\n",
    "        end\n",
    "    end\n",
    "    return I\n",
    "end\n",
    "\n",
    "# Function to find the estimated error vector, ê.\n",
    "function error_values(E,I,p,α,n)\n",
    "    # \n",
    "    dL = derivative(L)\n",
    "    ê = []\n",
    "    for k in 0:n-1\n",
    "        if k in I\n",
    "            αᵏ = powermod(α,k,p)\n",
    "            α⁻ᵏ = modulo_div(1,αᵏ,p)\n",
    "            E_of_α⁻ᵏ = evaluate(E,α⁻ᵏ)\n",
    "            dL_of_α⁻ᵏ = evaluate(dL,α⁻ᵏ)\n",
    "            eₖ = mod(-1 *  modulo_div(E_of_α⁻ᵏ, dL_of_α⁻ᵏ,p),p)\n",
    "            push!(ê,eₖ)\n",
    "        else\n",
    "            push!(ê,0)\n",
    "        end\n",
    "    end\n",
    "    return reshape(ê,1,n)\n",
    "end\n"
   ]
  },
  {
   "cell_type": "code",
   "execution_count": 128,
   "metadata": {},
   "outputs": [
    {
     "data": {
      "text/plain": [
       "RSNum_Err"
      ]
     },
     "execution_count": 128,
     "metadata": {},
     "output_type": "execute_result"
    }
   ],
   "source": [
    "\"\"\"\n",
    "RSNum_Err(L,E,p,α,n,received)\n",
    "\n",
    "Info:\n",
    "Function to find the estimated original codeword (ĉ), and the estimated error (ê).\n",
    "\n",
    "Args:\n",
    "L: MyPolynomial object representing the Error Locator Polynomial\n",
    "E: MyPolynomial object representing the Error Evaluator Polynomial\n",
    "p: The prime number that defines the Finite Field Fₚ\n",
    "α: The chosen primitive element from Fₚ\n",
    "n: The length of the code\n",
    "received: The received codeword, which contains errors\n",
    "\n",
    "Returns:\n",
    "ĉ: The estimated original codeword.\n",
    "ê: The estimated error vector.\n",
    "\"\"\"\n",
    "function RSNum_Err(L,E,p,α,n,received)\n",
    "    I = error_locations(L,p,α,n)\n",
    "    @show I\n",
    "    ê = error_values(E,I,p,α,n)\n",
    "    ĉ = [mod(i,p) for i in received - ê]\n",
    "\n",
    "    return ê,ĉ\n",
    "end"
   ]
  },
  {
   "cell_type": "code",
   "execution_count": 129,
   "metadata": {},
   "outputs": [
    {
     "name": "stdout",
     "output_type": "stream",
     "text": [
      "I = Any[5, 7, 13]\n",
      "(ê, ĉ) = (Any[0 0 0 0 0 11 0 14 0 0 0 0 0 15 0 0], [9 1 15 16 9 5 10 8 14 14 16 12 0 9 0 8])\n"
     ]
    },
    {
     "data": {
      "text/plain": [
       "(Any[0 0 … 0 0], [9 1 … 0 8])"
      ]
     },
     "execution_count": 129,
     "metadata": {},
     "output_type": "execute_result"
    }
   ],
   "source": [
    "ê,ĉ = RSNum_Err(L,E,p,α,n,received)\n",
    "@show ê,ĉ"
   ]
  },
  {
   "cell_type": "markdown",
   "metadata": {},
   "source": [
    "#### RS Decoding [BONUS - EXTRA CREDIT]\n",
    "\n",
    "As said in the lecture on Monday 29th November, this step of decoding the corrected code is no longer required. However, groups that do it are to receive **EXTRA CREDIT** for doing so."
   ]
  },
  {
   "cell_type": "code",
   "execution_count": 130,
   "metadata": {},
   "outputs": [
    {
     "data": {
      "text/plain": [
       "getMatrixInverse (generic function with 1 method)"
      ]
     },
     "execution_count": 130,
     "metadata": {},
     "output_type": "execute_result"
    }
   ],
   "source": [
    "#========================================================\n",
    "FUNCTIONS FOR INVERTING A MATRIX UNDER MODULAR ARITHMETIC\n",
    "========================================================#\n",
    "\n",
    "function getMatrixMinor(A, i, j)\n",
    "    m, n = size(A)\n",
    "    B = similar(A, m-1, n-1)\n",
    "    for j′=1:j-1, i′=1:i-1; B[i′,j′]=A[i′,j′]; end\n",
    "    for j′=1:j-1, i′=i+1:m; B[i′-1,j′]=A[i′,j′]; end\n",
    "    for j′=j+1:n, i′=1:i-1; B[i′,j′-1]=A[i′,j′]; end\n",
    "    for j′=j+1:n, i′=i+1:m; B[i′-1,j′-1]=A[i′,j′]; end\n",
    "    return B\n",
    "end\n",
    "\n",
    "function getMatrixDeternminant(m,p)\n",
    "    if length(m) == 4\n",
    "        return mod(m[1,1]*m[2,2]-m[1,2]*m[2,1],p)\n",
    "    end\n",
    "    determinant = 0\n",
    "    for c in (1:size(m)[2])\n",
    "        determinant += mod((-1)^(c+1)*m[1,c],p)*getMatrixDeternminant(getMatrixMinor(m,1,c),p)\n",
    "    end\n",
    "    return mod(determinant,p)\n",
    "end\n",
    "\n",
    "function matrix_from_2D_vector(vec::Vector)\n",
    "    n = length(vec)\n",
    "    arr = []\n",
    "    for i in 1:n\n",
    "        append!(arr,vec[i])\n",
    "    end\n",
    "    return permutedims(reshape(arr,n,n))\n",
    "end\n",
    "\n",
    "function getMatrixInverse(m,p)\n",
    "    determinant = getMatrixDeternminant(m,p)\n",
    "    if size(m)[1] == 2\n",
    "        return [[mod(m[2,2]*modulo_div(1,determinant,p),p), mod(-1*m[1,2]*modulo_div(1,determinant,p),p)],\n",
    "            [mod(-1*m[2,1]*modulo_div(1,determinant,p),p), mod(m[1,1]*modulo_div(1,determinant,p),p)]]\n",
    "    end \n",
    "    #find matrix of cofactors\n",
    "    cofactors = []\n",
    "    for r in (1:size(m)[1])\n",
    "        cofactorRow = []\n",
    "        for c in (1:size(m)[2])\n",
    "            minor = getMatrixMinor(m,r,c)\n",
    "            push!(cofactorRow,mod(((-1)^(r+c))*getMatrixDeternminant(minor,p),p))\n",
    "        end\n",
    "        push!(cofactors,cofactorRow)   \n",
    "    end\n",
    "    cofactorsM = transpose(matrix_from_2D_vector(cofactors))\n",
    "\n",
    "    for r in (1:size(cofactorsM)[1])\n",
    "        for c in (1:size(cofactorsM)[2])\n",
    "            cofactorsM[r,c] = mod(cofactorsM[r,c]*modulo_div(1,determinant,p),p)\n",
    "        end\n",
    "    end\n",
    "    return cofactorsM\n",
    "end\n",
    "\n"
   ]
  },
  {
   "cell_type": "code",
   "execution_count": 131,
   "metadata": {},
   "outputs": [
    {
     "data": {
      "text/plain": [
       "decode_corrected_code"
      ]
     },
     "execution_count": 131,
     "metadata": {},
     "output_type": "execute_result"
    }
   ],
   "source": [
    "\"\"\"\n",
    "decode_corrected_code(ĉ,p,α,n,k)\n",
    "\n",
    "Info:\n",
    "Function to decode a corrected codeword back to a readable message.\n",
    "This is achieved by creating a square matrix by only taking the first k columns of the k×(n+k) generator matrix,\n",
    "then multiplying the first k characters of the codeword by the inverse of this matrix.\n",
    "\n",
    "Args:\n",
    "ĉ: The estimated original codeword\n",
    "p: The prime number that defines the Finite Field Fₚ\n",
    "α: The chosen primitive element from Fₚ\n",
    "n: The length of the code\n",
    "k: The length of the message\n",
    "\n",
    "Returns:\n",
    "An array containing the decoded message\n",
    "\"\"\"\n",
    "function decode_corrected_code(ĉ,p,α,n,k)\n",
    "    # Calculate Generator Matrix\n",
    "    G = generator_matrix(p,α,n,k)\n",
    "    G_prime = []\n",
    "    for i in 1:(k^2)\n",
    "        push!(G_prime,G[i])\n",
    "    end\n",
    "    G_prime = reshape(G_prime,k,k)\n",
    "    code_prime = reshape([ĉ[i] for i in 1:k],1,k)\n",
    "\n",
    "    return [mod(i,p) for i in code_prime * getMatrixInverse(G_prime,p)]\n",
    "end\n",
    "\n",
    "    "
   ]
  },
  {
   "cell_type": "code",
   "execution_count": 132,
   "metadata": {},
   "outputs": [
    {
     "name": "stdout",
     "output_type": "stream",
     "text": [
      "L = MyPolynomial{Int64}([11, 2, 14, 1], 3, 17)\n",
      "E = MyPolynomial{Int64}([5, 16, 11], 2, 17)\n",
      "I = Any[5, 7, 13]\n"
     ]
    },
    {
     "data": {
      "text/plain": [
       "1×10 Matrix{Int64}:\n",
       " 7  3  8  7  1  9  4  4  0  0"
      ]
     },
     "execution_count": 132,
     "metadata": {},
     "output_type": "execute_result"
    }
   ],
   "source": [
    "\"\"\"\n",
    "RSNum_Dec(received,p,α,n,k)\n",
    "\n",
    "Info: \n",
    "Function to correct and decode received RS Encoded messages.\n",
    "\n",
    "Args:\n",
    "received: The received codeword, which contains errors.\n",
    "p: The prime number that defines the Finite Field Fₚ\n",
    "α: The chosen primitive element from Fₚ\n",
    "n: The length of the code\n",
    "k: The length of the message\n",
    "\n",
    "Returns:\n",
    "m̂: An array containing the decoded message.\n",
    "\"\"\"\n",
    "function RSNum_Dec(received,p,α,n,k)\n",
    "    s_vector,s_poly = RSNum_Syndrome(received,p,α,n,k)\n",
    "    L,E = RSNum_KeyPolys(s_poly,p,α,n,d)\n",
    "    ê,ĉ = RSNum_Err(L,E,p,α,n,received)\n",
    "    m̂ = decode_corrected_code(ĉ,p,α,n,k)\n",
    "\n",
    "    return m̂\n",
    "end\n",
    "    \n",
    "RSNum_Dec(received,p,α,n,k)"
   ]
  },
  {
   "cell_type": "markdown",
   "metadata": {},
   "source": [
    "### 3.1.2 RS Codes on $\\mathbb{F}_{p}$\n",
    "\n",
    "The above code should work well for other choices of $p$, $\\alpha$, $[n,k,d]$. Try another $p$ with $30<p<100$ and demonstrate the correctness of your code. "
   ]
  },
  {
   "cell_type": "code",
   "execution_count": 133,
   "metadata": {},
   "outputs": [
    {
     "name": "stdout",
     "output_type": "stream",
     "text": [
      "α = 15\n",
      "I_for_show = [5, 12, 14, 13]\n",
      "e = Any[0 0 0 0 0 11 0 0 0 0 0 0 14 19 17 0 0 0]\n",
      "L = MyPolynomial{Int64}([17, 14, 8, 1], 3, 19)\n",
      "E = MyPolynomial{Int64}([18, 7, 15], 2, 19)\n",
      "I = Any[5, 12, 14]\n"
     ]
    },
    {
     "data": {
      "text/plain": [
       "1×10 Matrix{Int64}:\n",
       " 1  2  3  4  5  6  7  8  9  10"
      ]
     },
     "execution_count": 133,
     "metadata": {},
     "output_type": "execute_result"
    }
   ],
   "source": [
    "p = 19\n",
    "n = 18\n",
    "k = 10\n",
    "d = 9\n",
    "\n",
    "# Get all primitive elements in that Finite Field\n",
    "prim_els = find_primitive(p)\n",
    "\n",
    "# Pick a primitive element at random to be α\n",
    "α = prim_els[rand(1:length(prim_els))]\n",
    "@show α\n",
    "\n",
    "m = reshape(collect(1:10),1,10)\n",
    "\n",
    "codeword = RSNum_Enc(m,p,α,n,k)\n",
    "\n",
    "error_codeword = RSNum_Channel(codeword,p,n,d)\n",
    "\n",
    "syn_vec,syn_poly = RSNum_Syndrome(error_codeword,p,α,n,k)\n",
    "\n",
    "L,E = RSNum_KeyPolys(syn_poly,p,α,n,d)\n",
    "\n",
    "ê,ĉ = RSNum_Err(L,E,p,α,n,error_codeword)\n",
    "\n",
    "decode_corrected_code(ĉ,p,α,n,k)\n"
   ]
  },
  {
   "cell_type": "markdown",
   "metadata": {},
   "source": [
    "## 3.2 RS Codes on $\\mathbb{F}_{p^k}$ (50%)"
   ]
  },
  {
   "cell_type": "markdown",
   "metadata": {},
   "source": [
    "### 3.2.1 RS Codes on $\\mathbb{F}_{16}$\n",
    "\n",
    "Now we consider the finite field $\\mathbb{F}_{16} = \\mathbb{F}_2[z]/z^4 + z +1$, and an RS code $\\mathcal{C} \\subset \\mathbb{F}_{16}$ with parameters $[15,k,7]$. \n",
    "\n",
    "Repeat the steps in 3.1.1 and change the function names from `RSNum_...` to `RSPoly_...`. Provide necessary documentation. "
   ]
  },
  {
   "cell_type": "markdown",
   "metadata": {},
   "source": [
    "#### 1. Finding a primitive element $\\alpha$"
   ]
  },
  {
   "cell_type": "code",
   "execution_count": 134,
   "metadata": {},
   "outputs": [
    {
     "data": {
      "text/plain": [
       "find_primitive (generic function with 1 method)"
      ]
     },
     "execution_count": 134,
     "metadata": {},
     "output_type": "execute_result"
    }
   ],
   "source": [
    "function is_primitive_element(element,poly)\n",
    "    p = poly.p\n",
    "    poly = remove_top_zeros(poly)\n",
    "    element = remove_top_zeros(element)\n",
    "    q = p^poly.order # size of finite field q = pᵈ\n",
    "\n",
    "    element_acc = ConstructMyPolynomial(element.coeffs,element.p)\n",
    "    for t in 2:q\n",
    "        element_acc = divrem(element_acc * element,poly)[2]\n",
    "        if divrem(element_acc,poly)[2] == ConstructMyPolynomial([1],p)\n",
    "            if t == q - 1\n",
    "                return true\n",
    "            else\n",
    "                return false\n",
    "            end\n",
    "        end\n",
    "    end\n",
    "end\n",
    "\n",
    "function find_primitive(poly)\n",
    "    poly = remove_top_zeros(poly)\n",
    "    p = poly.p\n",
    "    q = p^poly.order\n",
    "    prim_els = []\n",
    "\n",
    "    for i in 1:q-2\n",
    "        el = mod(ConstructMyPolynomial(append!(zeros(Int,i),[1]),p),poly)\n",
    "        #print(el,'x')\n",
    "        if is_primitive_element(el,poly)\n",
    "            push!(prim_els,el)\n",
    "        end\n",
    "    end\n",
    "\n",
    "    return prim_els\n",
    "end\n"
   ]
  },
  {
   "cell_type": "code",
   "execution_count": 135,
   "metadata": {},
   "outputs": [
    {
     "name": "stdout",
     "output_type": "stream",
     "text": [
      "1 + (1x^1) + (0x^2) + (1x^3)\n"
     ]
    }
   ],
   "source": [
    "# Define the Finite Field\n",
    "p = 2\n",
    "f = ConstructMyPolynomial([1,1,0,0,1],p)\n",
    "\n",
    "# Get all primitive elements in that Finite Field\n",
    "prim_els = find_primitive(f)\n",
    "\n",
    "# Pick a primitive element at random to be α\n",
    "α = prim_els[rand(1:length(prim_els))]\n",
    "print(α,'x')"
   ]
  },
  {
   "cell_type": "markdown",
   "metadata": {},
   "source": [
    "#### 2. What is the value of $k$?\n",
    "\n",
    "RS Codes are defined by three parameters: **$[n,k,d]$**, where $d = n - k + 1$.\n",
    "\n",
    "Taking the RS Code given in the question:  **$[16,k,7]$**, we can see that $n = 15$ and $n - k + 1 = 7$. \n",
    "\n",
    "We can substitute in $n = 15$ to get: $15 - k + 1 = 7$. Solving this equation yields **$k = 9$**."
   ]
  },
  {
   "cell_type": "code",
   "execution_count": 136,
   "metadata": {},
   "outputs": [
    {
     "data": {
      "text/plain": [
       "7"
      ]
     },
     "execution_count": 136,
     "metadata": {},
     "output_type": "execute_result"
    }
   ],
   "source": [
    "# Define the values of [n,k,d]\n",
    "n = 15\n",
    "k = 9\n",
    "d = 7"
   ]
  },
  {
   "cell_type": "markdown",
   "metadata": {},
   "source": [
    "#### 3. RS Encoding"
   ]
  },
  {
   "cell_type": "code",
   "execution_count": 137,
   "metadata": {},
   "outputs": [
    {
     "data": {
      "text/plain": [
       "generator_matrix_poly"
      ]
     },
     "execution_count": 137,
     "metadata": {},
     "output_type": "execute_result"
    }
   ],
   "source": [
    "# Helper Functions for RS Encoding\n",
    "\n",
    "\"\"\"\n",
    "generator_matrix_poly(p,f,α,n,k)\n",
    "\n",
    "Info:\n",
    "Creates the generator matrix, G, for RS Encoding using the given arguments.\n",
    "\n",
    "Args:\n",
    "p: The prime number that defines the Finite Field Fq\n",
    "f: The polynomial that defines the Finite Field Fq\n",
    "α: The chosen primitive element from Fq\n",
    "n: The length of the code\n",
    "k: The length of the message\n",
    "\n",
    "Returns:\n",
    "A k×n matrix of type Matrix{MyPolynomial{Int}} which is the generator matrix of the RS Code [n,k,d]\n",
    "\"\"\"\n",
    "function generator_matrix_poly(p,f,α,n,k)\n",
    "    # First row of the matrix will always be n 1s, so generate that\n",
    "    gen_mat = reshape(ones_poly(n,p),1,n)\n",
    "    \n",
    "    for i in 1:k-1\n",
    "        # Calculate the defining element for that row (αⁱ, where i goes up to k)\n",
    "        αⁱ = powermod(α,i,f)\n",
    "        row = reshape(fill(αⁱ,n),1,n)\n",
    "        for j in 1:n\n",
    "            # Mulitply the defining element for the given row by ascending powers up to n\n",
    "            row[j] = powermod(row[j],j-1,f)\n",
    "        end\n",
    "        # Add the new row to the bottom of the matrix\n",
    "        gen_mat = vcat(gen_mat,row)\n",
    "    end\n",
    "    return gen_mat\n",
    "end\n"
   ]
  },
  {
   "cell_type": "code",
   "execution_count": 138,
   "metadata": {},
   "outputs": [
    {
     "data": {
      "text/plain": [
       "RSPoly_Enc (generic function with 1 method)"
      ]
     },
     "execution_count": 138,
     "metadata": {},
     "output_type": "execute_result"
    }
   ],
   "source": [
    "\"\"\"\n",
    "RSPoly_Enc(message,p,f,α,n,k)\n",
    "\n",
    "Info:\n",
    "Encodes the given message using Reed-Solomon Encoding.\n",
    "\n",
    "Args:\n",
    "message: Matrix{MyPolynomial{Int}} of dimension 1×k containing the message\n",
    "p: The prime number that defines the Finite Field Fq\n",
    "f: The polynomial that defines the Finite Field Fq\n",
    "α: The chosen primitive element from Fq\n",
    "n: The length of the code\n",
    "k: The length of the message\n",
    "\n",
    "Returns:\n",
    "A 1×n matrix of type Matrix{MyPolynomial{Int}}, which is the encoded message\n",
    "\"\"\"\n",
    "\n",
    "function RSPoly_Enc(message::Matrix{MyPolynomial{Int}},p,f,α,n,k)\n",
    "    if typeof(message) != Matrix{MyPolynomial{Int}}\n",
    "        println(\"Please enter message in the format of a 1×k matrix\")\n",
    "        println(\"Type of message should be Matrix{MyPolynomial{Int}}, not $(typeof(message))\")\n",
    "        return -1\n",
    "    end\n",
    "    if length(message) != k\n",
    "        println(\"Length of message should be $k, which is the value of k provided\")\n",
    "        return -1\n",
    "    end\n",
    "\n",
    "    # Ensure each element in our message is in Fq\n",
    "    # If not then, perform modulo to make it comply\n",
    "    message = [mod(i,f) for i in message]\n",
    "    \n",
    "    # Calculate the Generator Matrix for the given parameters\n",
    "    G = generator_matrix_poly(p,f,α,n,k)\n",
    "    \n",
    "    # Calculate the code by multiplying the message and the generator matrix\n",
    "    code = message * G\n",
    "\n",
    "    code = [mod(i,f) for i in code]\n",
    "\n",
    "    return code\n",
    "\n",
    "end"
   ]
  },
  {
   "cell_type": "code",
   "execution_count": 139,
   "metadata": {},
   "outputs": [
    {
     "data": {
      "text/plain": [
       "1×15 Matrix{MyPolynomial{Int64}}:\n",
       " MyPolynomial{Int64}([0, 1, 0, 1], 3, 2)  …  MyPolynomial{Int64}([0, 1, 1, 1], 3, 2)"
      ]
     },
     "execution_count": 139,
     "metadata": {},
     "output_type": "execute_result"
    }
   ],
   "source": [
    "# Test: Encode a message\n",
    "\n",
    "message = [\n",
    "            ConstructMyPolynomial([0,1],2),\n",
    "            ConstructMyPolynomial([0,0,1],2),\n",
    "            ConstructMyPolynomial([0,0,0,1],2),\n",
    "            ConstructMyPolynomial([0,1,1],2),\n",
    "            ConstructMyPolynomial([0,0,1,1],2),\n",
    "            ConstructMyPolynomial([1,0,1],2),\n",
    "            ConstructMyPolynomial([1,0,0,1],2),\n",
    "            ConstructMyPolynomial([1,0,1,1],2),\n",
    "            ConstructMyPolynomial([1,1,1,1],2)\n",
    "            ]\n",
    "\n",
    "message = reshape(message,1,k)\n",
    "\n",
    "codeword = RSPoly_Enc(message,p,f,α,n,k)"
   ]
  },
  {
   "cell_type": "markdown",
   "metadata": {},
   "source": [
    "#### 4. Simulating the Channel"
   ]
  },
  {
   "cell_type": "code",
   "execution_count": 140,
   "metadata": {},
   "outputs": [
    {
     "data": {
      "text/plain": [
       "finite_field_elements (generic function with 1 method)"
      ]
     },
     "execution_count": 140,
     "metadata": {},
     "output_type": "execute_result"
    }
   ],
   "source": [
    "# HELPER FUNCTIONS\n",
    "\n",
    "# Returns all elements of a Finite Field Fₚ/f(x)\n",
    "function finite_field_elements(p,f::MyPolynomial)\n",
    "    # Defining the size of the Finite Field\n",
    "    q = p^f.order\n",
    "\n",
    "    # By definition, 0 and 1 are always members of a Finite Field\n",
    "    elements = [ConstructMyPolynomial([0],2),ConstructMyPolynomial([1],2)]\n",
    "    for i in 1:q-2\n",
    "        # We obtain elements by dividing different powers of x by f(x)\n",
    "        el = divrem(ConstructMyPolynomial(append!(zeros(Int,i),[1]),p),f)[2]\n",
    "        push!(elements,el)\n",
    "    end\n",
    "    return elements\n",
    "end\n"
   ]
  },
  {
   "cell_type": "code",
   "execution_count": 141,
   "metadata": {},
   "outputs": [
    {
     "data": {
      "text/plain": [
       "RSPoly_Channel (generic function with 1 method)"
      ]
     },
     "execution_count": 141,
     "metadata": {},
     "output_type": "execute_result"
    }
   ],
   "source": [
    "\"\"\"\n",
    "RSPoly_Channel(code,p,f,n,d)\n",
    "\n",
    "Info:\n",
    "Simulates errors in the channel by adding (d-1)/2 errors, so that we can test our error correction mechanism later.\n",
    "This is achieved by randomly choosing the position of the errors, and then adding a random number to the code in that position.\n",
    "\n",
    "Args:\n",
    "code: Matrix{Int} of dimension 1×n, the codeword to be transmitted accross the channel\n",
    "p: The prime number that defines the Finite Field Fq\n",
    "f: The polynomial that defines the Finite Field Fq\n",
    "n: The length of the code\n",
    "d: d as defined for the RS Code\n",
    "\n",
    "Returns:\n",
    "A 1×n matrix of type Matrix{MyPolynomial{Int}}, which is the codeword with error introduced\n",
    "\"\"\"\n",
    "\n",
    "function RSPoly_Channel(code,p,f,n,d)\n",
    "\n",
    "    # q = pᵈ\n",
    "    q = p^f.order\n",
    "\n",
    "    # Maximum number of errors\n",
    "    t::Int = floor((d-1)/2)\n",
    "\n",
    "    # Find all elements in the Finite Field\n",
    "    ff_els = finite_field_elements(p,f)\n",
    "\n",
    "    # Randomly choose t unique locations of the errors\n",
    "    I = sample((1:n),t,replace=false)\n",
    "    I_for_show = [i-1 for i in I]\n",
    "    @show I_for_show\n",
    "    # Build error vector, which has non-zero elements at eᵢ where i∈I\n",
    "    e = []\n",
    "    for i in 1:n\n",
    "        if i in I\n",
    "            push!(e,ff_els[rand(1:q)])\n",
    "        else\n",
    "            push!(e,ConstructMyPolynomial([0],2))\n",
    "        end\n",
    "    end\n",
    "\n",
    "    # Convert e from type Vector{MyPolynomial} to Matrix{MyPolynomial}\n",
    "    # This makes it the same type and shape as the code, allowing for addition\n",
    "    e = reshape(e,1,n)\n",
    "    # Add error to the code\n",
    "    changed_code = code + e\n",
    "    changed_code = [mod(i,f) for i in changed_code]\n",
    "\n",
    "    return changed_code\n",
    "end\n"
   ]
  },
  {
   "cell_type": "code",
   "execution_count": 142,
   "metadata": {},
   "outputs": [
    {
     "name": "stdout",
     "output_type": "stream",
     "text": [
      "I_for_show = [10, 13, 12]\n"
     ]
    },
    {
     "data": {
      "text/plain": [
       "1×15 Matrix{MyPolynomial{Int64}}:\n",
       " MyPolynomial{Int64}([0, 1, 0, 1], 3, 2)  …  MyPolynomial{Int64}([0, 1, 1, 1], 3, 2)"
      ]
     },
     "execution_count": 142,
     "metadata": {},
     "output_type": "execute_result"
    }
   ],
   "source": [
    "# Test: Transmit codeword through channel\n",
    "received = RSPoly_Channel(codeword,p,f,n,d)"
   ]
  },
  {
   "cell_type": "markdown",
   "metadata": {},
   "source": [
    "#### 5. Syndrome Vector and Polynomial"
   ]
  },
  {
   "cell_type": "code",
   "execution_count": 143,
   "metadata": {},
   "outputs": [
    {
     "data": {
      "text/plain": [
       "parity_check_matrix_poly (generic function with 1 method)"
      ]
     },
     "execution_count": 143,
     "metadata": {},
     "output_type": "execute_result"
    }
   ],
   "source": [
    "# Helper functions\n",
    "\n",
    "\"\"\"\n",
    "parity_check_matrix_poly(p,f,α,n,k)\n",
    "\n",
    "Info:\n",
    "Creates the parity-check matrix, H, for RS Decoding using the given arguments.\n",
    "\n",
    "Args:\n",
    "p: The prime number that defines the Finite Field Fq\n",
    "f: The polynomial that defines the Finite Field Fq\n",
    "α: The chosen primitive element from Fq\n",
    "n: The length of the code\n",
    "k: The length of the message\n",
    "\n",
    "Returns:\n",
    "A (n-k)×n matrix of type Matrix{MyPolynomial} which is the parity-check matrix of the RS Code [n,k,d]\n",
    "\n",
    "\"\"\"\n",
    "\n",
    "function parity_check_matrix_poly(p,f,α,n,k)\n",
    "    # Initialise a matrix of zero polynomials with the correct shape: (n-k)×n\n",
    "    pc_mat::Matrix{MyPolynomial{Int}} = reshape(zeros_poly((n-k)*n,p),n-k,n)\n",
    "    for i in 1:n-k\n",
    "        # Calculate the defining element for that row (αⁱ, where i goes up to k)\n",
    "        αⁱ = powermod(α,i,f)\n",
    "        row = reshape(fill(αⁱ,n),1,n)\n",
    "        for j in 1:n\n",
    "            # Multiply the defining element for the given row by ascending powers up to n\n",
    "            pc_mat[i+(j-1)*(n-k)] = powermod(row[j],j-1,f)\n",
    "        end\n",
    "    end\n",
    "    return pc_mat\n",
    "end\n"
   ]
  },
  {
   "cell_type": "code",
   "execution_count": 144,
   "metadata": {},
   "outputs": [
    {
     "data": {
      "text/plain": [
       "RSPoly_Syndrome"
      ]
     },
     "execution_count": 144,
     "metadata": {},
     "output_type": "execute_result"
    }
   ],
   "source": [
    "\"\"\"\n",
    "RSPoly_Syndrome(changed_code,p,f,α,n,k)\n",
    "\n",
    "Info:\n",
    "Function to calculate the syndrome vector and syndrome polynomial from the changed code.\n",
    "This is achieved by doing rHᵀ, where r is the received errorred code, and H is the parity check matrix.\n",
    "r = (c + e), so the operation is actually (c + e)Hᵀ = cHᵀ + eHᵀ (by associativity of matrix multiplication).\n",
    "cHᵀ = 0 by the properties of the parity-check matrix, leaving us with only eHᵀ, which is the syndrome vector.\n",
    "\n",
    "Args:\n",
    "changed_code: The received codeword, which contains errors.\n",
    "p: The prime number that defines the Finite Field Fq\n",
    "f: The polynomial that defines the Finite Field Fq\n",
    "α: The chosen primitive element from Fq\n",
    "n: The length of the code\n",
    "k: The length of the message\n",
    "\"\"\"\n",
    "function RSPoly_Syndrome(changed_code,p,f,α,n,k)\n",
    "    # Calculate the parity-check Matrix\n",
    "    H = parity_check_matrix_poly(p,f,α,n,k)\n",
    "\n",
    "    # Calculate syndrome vector\n",
    "    syndrome_vector = changed_code * permutedims(H)\n",
    "    syndrome_vector = [mod(i,f) for i in syndrome_vector]\n",
    "\n",
    "    # Return the syndrome vector and syndrome polynomial\n",
    "    return (syndrome_vector,ConstructMyPolynomial(vec(syndrome_vector),p))\n",
    "end"
   ]
  },
  {
   "cell_type": "code",
   "execution_count": 145,
   "metadata": {},
   "outputs": [
    {
     "name": "stdout",
     "output_type": "stream",
     "text": [
      "Syndrome Vector: MyPolynomial{Int64}[MyPolynomial{Int64}([1, 1, 0, 1], 3, 2) MyPolynomial{Int64}([1, 0, 1, 1], 3, 2) MyPolynomial{Int64}([1, 0, 0, 1], 3, 2) MyPolynomial{Int64}([0, 1, 0, 1], 3, 2) MyPolynomial{Int64}([1], 0, 2) MyPolynomial{Int64}([0, 0, 1], 2, 2)]\n",
      "Syndrome Polynomial S(z) = 1 + (1z^1) + (0z^2) + (1z^3) + [1 + (0z^1) + (1z^2) + (1z^3)]z^1 + [1 + (0z^1) + (0z^2) + (1z^3)]z^2 + [0 + (1z^1) + (0z^2) + (1z^3)]z^3 + [1]z^4 + [0 + (0z^1) + (1z^2)]z^5\n"
     ]
    }
   ],
   "source": [
    "# Test: Calculate Syndrome Vector/Polynomial from Received Codeword\n",
    "s_vector,s_poly = RSPoly_Syndrome(received,p,f,α,n,k)\n",
    "println(\"Syndrome Vector: \", s_vector)\n",
    "println(\"Syndrome Polynomial S(z) = \", string(s_poly,'z'))"
   ]
  },
  {
   "cell_type": "markdown",
   "metadata": {},
   "source": [
    "#### 6. Error Locator Polynomial and Error Evaluator Polynomial"
   ]
  },
  {
   "cell_type": "code",
   "execution_count": 146,
   "metadata": {},
   "outputs": [
    {
     "data": {
      "text/plain": [
       "partial_euclidean_algorithm_poly"
      ]
     },
     "execution_count": 146,
     "metadata": {},
     "output_type": "execute_result"
    }
   ],
   "source": [
    "# HELPER FUNCTIONS\n",
    "\n",
    "\"\"\"\n",
    "partial_euclidean_algorithm_poly(a::MyPolynomial{MyPolynomial{Int}},b::MyPolynomial{MyPolynomial{Int}},f::MyPolynomial{Int},stop::Int)\n",
    "\n",
    "Info:\n",
    "Helper function that performs the Extended Euclidian Algorithm on two polynomials until a specified stop point.\n",
    "This stop point refers to the point at which the order of the remainder is ≤ stop. Rewritten for handling polynomials with polynomial coefficients.\n",
    "\"\"\"\n",
    "function partial_euclidean_algorithm_poly(a::MyPolynomial{MyPolynomial{Int}},b::MyPolynomial{MyPolynomial{Int}},f::MyPolynomial{Int},stop::Int)\n",
    "    p = a.p\n",
    "    a = remove_top_zeros(a)\n",
    "    b = remove_top_zeros(b)\n",
    "\n",
    "    x0,x1 = ConstructMyPolynomial([ConstructMyPolynomial([1],p)],p),ConstructMyPolynomial([ConstructMyPolynomial([0],p)],p)\n",
    "    y0,y1 = ConstructMyPolynomial([ConstructMyPolynomial([0],p)],p),ConstructMyPolynomial([ConstructMyPolynomial([1],p)],p)\n",
    "\n",
    "    r = b\n",
    "\n",
    "    last_run = false\n",
    "\n",
    "     while r.order > stop || !last_run\n",
    "        if r.order <= stop\n",
    "            last_run = true\n",
    "        end\n",
    "        q,r = divrem(a,b,f)\n",
    "        a = b\n",
    "        b = r\n",
    "\n",
    "        x0, x1 = x1, mod(x0 - mod(q*x1,f),f)\n",
    "        y0, y1 = y1, mod(y0 - mod(q*y1,f),f)\n",
    "    end\n",
    "    return (a,x0,y0)\n",
    "end"
   ]
  },
  {
   "cell_type": "code",
   "execution_count": 147,
   "metadata": {},
   "outputs": [
    {
     "data": {
      "text/plain": [
       "RSPoly_KeyPolys"
      ]
     },
     "execution_count": 147,
     "metadata": {},
     "output_type": "execute_result"
    }
   ],
   "source": [
    "\"\"\"\n",
    "RSPoly_KeyPolys(s_poly,p,f,α,n,d)\n",
    "\n",
    "Info:\n",
    "Function to calculate the Error Locator Polynomial (L), and the Error Evaluator Polynomial (E),\n",
    "from the syndrome polynomial.\n",
    "\n",
    "Args:\n",
    "s_poly: Syndrome Polynomial\n",
    "p: The prime number that defines the Finite Field Fq\n",
    "f: The polynomial that defines the Finite Field Fq\n",
    "α: The chosen primitive element from Fq\n",
    "n: The length of the code\n",
    "k: The length of the message\n",
    "\n",
    "Returns:\n",
    "L: MyPolynomial object representing the Error Locator Polynomial\n",
    "E: MyPolynomial object representing the Error Evaluator Polynomial\n",
    "\"\"\"\n",
    "function RSPoly_KeyPolys(s_poly,p,f,α,n,d)\n",
    "    t::Int = floor((d-1)/2)\n",
    "    z = ConstructMyPolynomial(append!(zeros_poly(d-1,p),[ConstructMyPolynomial([1],p)]),p)\n",
    "    r,b,a = partial_euclidean_algorithm_poly(z,s_poly,f,t-1)\n",
    "\n",
    "    E_prime = divrem(r,z,f)[2]\n",
    "    L_prime = divrem(a,z,f)[2]\n",
    "\n",
    "    c_inv = modulo_div(ConstructMyPolynomial([1],p),last(L_prime.coeffs),f)\n",
    "    L = mod(L_prime * c_inv,f)\n",
    "    E = mod(E_prime * c_inv,f)\n",
    "\n",
    "    return L,E\n",
    "end"
   ]
  },
  {
   "cell_type": "code",
   "execution_count": 148,
   "metadata": {},
   "outputs": [
    {
     "name": "stdout",
     "output_type": "stream",
     "text": [
      "L: 1 + (1z^1) + (1z^2) + [1 + (1z^1) + (0z^2) + (1z^3)]z^1 + [1 + (1z^1)]z^2 + [1]z^3\n",
      "E: 0 + (0z^1) + (1z^2) + [0 + (0z^1) + (1z^2) + (1z^3)]z^1 + [0 + (1z^1)]z^2\n"
     ]
    }
   ],
   "source": [
    "# Test: Calculate the Error Locator and Evaluator Polynomials from the Syndrome Polynomial\n",
    "L,E = RSPoly_KeyPolys(s_poly,p,f,α,n,d)\n",
    "println(\"L: \",string(L,'z'))\n",
    "println(\"E: \",string(E,'z'))"
   ]
  },
  {
   "cell_type": "markdown",
   "metadata": {},
   "source": [
    "#### 7. Estimating Error"
   ]
  },
  {
   "cell_type": "code",
   "execution_count": 149,
   "metadata": {},
   "outputs": [
    {
     "data": {
      "text/plain": [
       "error_values_poly (generic function with 1 method)"
      ]
     },
     "execution_count": 149,
     "metadata": {},
     "output_type": "execute_result"
    }
   ],
   "source": [
    "# HELPER FUNCTIONS\n",
    "\n",
    "# Function to find the set of error locations, I.\n",
    "function error_locations_poly(L,p,f,α,n)\n",
    "    I = []\n",
    "    for k in 0:n-1\n",
    "        # We evaluate L(α⁻ᵏ). If it equals zero we know there is an error at that location.\n",
    "        α⁻ᵏ = modulo_div(ConstructMyPolynomial([1],p),powermod(α,k,f),f)\n",
    "        if evaluate(L,α⁻ᵏ,f) == ConstructMyPolynomial([0],p)\n",
    "            push!(I,k)\n",
    "        end\n",
    "    end\n",
    "    @show I\n",
    "    return I\n",
    "end\n",
    "\n",
    "# Function to find the estimated error vector, ê.\n",
    "function error_values_poly(E,I,p,f,α,n)\n",
    "    dL = derivative(L)\n",
    "    ê = []\n",
    "    for k in 0:n-1\n",
    "        if k in I\n",
    "            α⁻ᵏ = modulo_div(ConstructMyPolynomial([1],p),powermod(α,k,f),f)\n",
    "            E_of_α⁻ᵏ = evaluate(E,α⁻ᵏ,f)\n",
    "            dL_of_α⁻ᵏ = evaluate(dL,α⁻ᵏ,f)\n",
    "            eₖ = mod(-1 *  modulo_div(E_of_α⁻ᵏ, dL_of_α⁻ᵏ,f),f)\n",
    "            push!(ê,eₖ)\n",
    "        else\n",
    "            push!(ê,ConstructMyPolynomial([0],p))\n",
    "        end\n",
    "    end\n",
    "    return reshape(ê,1,n)\n",
    "end"
   ]
  },
  {
   "cell_type": "code",
   "execution_count": 150,
   "metadata": {},
   "outputs": [
    {
     "data": {
      "text/plain": [
       "RSPoly_Err"
      ]
     },
     "execution_count": 150,
     "metadata": {},
     "output_type": "execute_result"
    }
   ],
   "source": [
    "\"\"\"\n",
    "RSPoly_Err(L,E,p,f,α,n,received)\n",
    "\n",
    "Info:\n",
    "Function to find the estimated original codeword (ĉ), and the estimated error (ê).\n",
    "\n",
    "Args:\n",
    "L: MyPolynomial object representing the Error Locator Polynomial\n",
    "E: MyPolynomial object representing the Error Evaluator Polynomial\n",
    "p: The prime number that defines the Finite Field Fq\n",
    "f: The polynomial that defines the Finite Field Fq\n",
    "α: The chosen primitive element from Fq\n",
    "n: The length of the code\n",
    "received: The received codeword, which contains errors\n",
    "\n",
    "Returns:\n",
    "ĉ: The estimated original codeword.\n",
    "ê: The estimated error vector.\n",
    "\"\"\"\n",
    "function RSPoly_Err(L,E,p,f,α,n,received)\n",
    "    I = error_locations_poly(L,p,f,α,n)\n",
    "    ê = error_values_poly(E,I,p,f,α,n)\n",
    "    ĉ = [mod(i,f) for i in received - ê]\n",
    "\n",
    "    return ê,ĉ\n",
    "end"
   ]
  },
  {
   "cell_type": "code",
   "execution_count": 151,
   "metadata": {},
   "outputs": [
    {
     "name": "stdout",
     "output_type": "stream",
     "text": [
      "I = Any[10, 12, 13]\n"
     ]
    },
    {
     "data": {
      "text/plain": [
       "true"
      ]
     },
     "execution_count": 151,
     "metadata": {},
     "output_type": "execute_result"
    }
   ],
   "source": [
    "# Test: Recover the original codeword\n",
    "ê,ĉ = RSPoly_Err(L,E,p,f,α,n,received)\n",
    "ĉ == codeword"
   ]
  },
  {
   "cell_type": "markdown",
   "metadata": {},
   "source": [
    "#### RS Decoding [BONUS - EXTRA CREDIT]\n",
    "\n",
    "As said in the lecture on Monday 29th November, this step of decoding the corrected code is no longer required. However, groups that do it are to receive **EXTRA CREDIT** for doing so."
   ]
  },
  {
   "cell_type": "code",
   "execution_count": 152,
   "metadata": {},
   "outputs": [
    {
     "data": {
      "text/plain": [
       "getMatrixInversePoly (generic function with 1 method)"
      ]
     },
     "execution_count": 152,
     "metadata": {},
     "output_type": "execute_result"
    }
   ],
   "source": [
    "#=======================================================================\n",
    "FUNCTIONS FOR INVERTING A MATRIX OF POLYNOMIALS UNDER MODULAR ARITHMETIC\n",
    "=======================================================================#\n",
    "\n",
    "function getMatrixMinor(A, i, j)\n",
    "    m, n = size(A)\n",
    "    B = similar(A, m-1, n-1)\n",
    "    for j′=1:j-1, i′=1:i-1; B[i′,j′]=A[i′,j′]; end\n",
    "    for j′=1:j-1, i′=i+1:m; B[i′-1,j′]=A[i′,j′]; end\n",
    "    for j′=j+1:n, i′=1:i-1; B[i′,j′-1]=A[i′,j′]; end\n",
    "    for j′=j+1:n, i′=i+1:m; B[i′-1,j′-1]=A[i′,j′]; end\n",
    "    return B\n",
    "end\n",
    "\n",
    "function getMatrixDeternminantPoly(m,f)\n",
    "    p = m[1].p\n",
    "    if length(m) == 4\n",
    "        return mod(m[1,1]*m[2,2]-m[1,2]*m[2,1],f)\n",
    "    end\n",
    "    determinant::MyPolynomial{Int64} = ConstructMyPolynomial([0],p)\n",
    "    for c in (1:size(m)[2])\n",
    "        determinant = determinant + mod((-1)^(c+1)*m[1,c],f) * getMatrixDeternminantPoly(getMatrixMinor(m,1,c),f)\n",
    "    end\n",
    "    return mod(determinant,f)\n",
    "end\n",
    "\n",
    "function matrix_from_2D_vector(vec::Vector)\n",
    "    n = length(vec)\n",
    "    arr = []\n",
    "    for i in 1:n\n",
    "        append!(arr,vec[i])\n",
    "    end\n",
    "    return permutedims(reshape(arr,n,n))\n",
    "end\n",
    "\n",
    "function getMatrixInversePoly(m,f)\n",
    "    p = m[1].p\n",
    "    determinant = getMatrixDeternminantPoly(m,f)\n",
    "    if size(m)[1] == 2\n",
    "        return [[mod(m[2,2]*modulo_div(ConstructMyPolynomial([1],p),determinant,f),f), mod(-1*m[1,2]*modulo_div(ConstructMyPolynomial([1],p),determinant,f),f)],\n",
    "            [mod(-1*m[2,1]*modulo_div(ConstructMyPolynomial([1],p),determinant,f),f), mod(m[1,1]*modulo_div(ConstructMyPolynomial([1],p),determinant,f),f)]]\n",
    "    end \n",
    "    #find matrix of cofactors\n",
    "    cofactors = []\n",
    "    for r in (1:size(m)[1])\n",
    "        cofactorRow = []\n",
    "        for c in (1:size(m)[2])\n",
    "            minor = getMatrixMinor(m,r,c)\n",
    "            push!(cofactorRow,mod(((-1)^(r+c))*getMatrixDeternminantPoly(minor,p),f))\n",
    "        end\n",
    "        push!(cofactors,cofactorRow)   \n",
    "    end\n",
    "    cofactorsM = permutedims(matrix_from_2D_vector(cofactors))\n",
    "\n",
    "    for r in (1:size(cofactorsM)[1])\n",
    "        for c in (1:size(cofactorsM)[2])\n",
    "            cofactorsM[r,c] = mod(cofactorsM[r,c]*modulo_div(ConstructMyPolynomial([1],p),determinant,f),f)\n",
    "        end\n",
    "    end\n",
    "    return cofactorsM\n",
    "end\n"
   ]
  },
  {
   "cell_type": "code",
   "execution_count": 153,
   "metadata": {},
   "outputs": [
    {
     "data": {
      "text/plain": [
       "decode_corrected_code_poly"
      ]
     },
     "execution_count": 153,
     "metadata": {},
     "output_type": "execute_result"
    }
   ],
   "source": [
    "\"\"\"\n",
    "decode_corrected_code_poly(ĉ,p,f,α,n,k)\n",
    "\n",
    "Info:\n",
    "Function to decode a corrected codeword back to a readable message.\n",
    "This is achieved by creating a square matrix by only taking the first k columns of the k×(n+k) generator matrix,\n",
    "then multiplying the first k characters of the codeword by the inverse of this matrix.\n",
    "\n",
    "Args:\n",
    "ĉ: The estimated original codeword\n",
    "p: The prime number that defines the Finite Field Fq\n",
    "f: The polynomial that defines the Finite Field Fq\n",
    "α: The chosen primitive element from Fq\n",
    "n: The length of the code\n",
    "k: The length of the message\n",
    "\n",
    "Returns:\n",
    "An array containing the decoded message\n",
    "\"\"\"\n",
    "function decode_corrected_code_poly(ĉ,p,f,α,n,k)\n",
    "    # Calculate Generator Matrix\n",
    "    G = generator_matrix_poly(p,f,α,n,k)\n",
    "    G_prime = []\n",
    "    for i in 1:(k^2)\n",
    "        push!(G_prime,G[i])\n",
    "    end\n",
    "    G_prime = reshape(G_prime,k,k)\n",
    "    code_prime = reshape([ĉ[i] for i in 1:k],1,k)\n",
    "\n",
    "    return [mod(i,f) for i in code_prime * getMatrixInversePoly(G_prime,f)]\n",
    "end\n"
   ]
  },
  {
   "cell_type": "code",
   "execution_count": 154,
   "metadata": {},
   "outputs": [
    {
     "data": {
      "text/plain": [
       "RSPoly_Dec"
      ]
     },
     "execution_count": 154,
     "metadata": {},
     "output_type": "execute_result"
    }
   ],
   "source": [
    "\"\"\"\n",
    "RSPoly_Dec(received,p,f,α,n,k)\n",
    "\n",
    "Info: \n",
    "Function to correct and decode received RS Encoded messages.\n",
    "\n",
    "Args:\n",
    "received: The received codeword, which contains errors.\n",
    "p: The prime number that defines the Finite Field Fq\n",
    "f: The polynomial that defines the Finite Field Fq\n",
    "α: The chosen primitive element from Fq\n",
    "n: The length of the code\n",
    "k: The length of the message\n",
    "\n",
    "Returns:\n",
    "m̂: An array containing the decoded message.\n",
    "\"\"\"\n",
    "function RSPoly_Dec(received,p,f,α,n,k)\n",
    "    s_vector,s_poly = RSPoly_Syndrome(received,p,f,α,n,k)\n",
    "    L,E = RSPoly_KeyPolys(s_poly,p,f,α,n,d)\n",
    "    ê,ĉ = RSPoly_Err(L,E,p,f,α,n,received)\n",
    "    m̂ = decode_corrected_code_poly(ĉ,p,f,α,n,k)\n",
    "\n",
    "    return m̂\n",
    "end"
   ]
  },
  {
   "cell_type": "code",
   "execution_count": 155,
   "metadata": {},
   "outputs": [
    {
     "name": "stdout",
     "output_type": "stream",
     "text": [
      "I = Any[10, 12, 13]\n"
     ]
    },
    {
     "data": {
      "text/plain": [
       "1×9 Matrix{MyPolynomial{Int64}}:\n",
       " MyPolynomial{Int64}([0, 1], 1, 2)  …  MyPolynomial{Int64}([1, 1, 1, 1], 3, 2)"
      ]
     },
     "execution_count": 155,
     "metadata": {},
     "output_type": "execute_result"
    }
   ],
   "source": [
    "# Test: Correct and decode the recieved code\n",
    "RSPoly_Dec(received,p,f,α,n,k)"
   ]
  },
  {
   "cell_type": "markdown",
   "metadata": {},
   "source": [
    "### 3.2.2 RS Codes on $\\mathbb{F}_{2^k}$\n",
    "\n",
    "The above code should work for other choices of $k$ in $\\mathbb{F}_{2^k}$. In 3.2.1, we have worked on the case where $k=4$. Try a different $k$ with $5 \\le k \\le 10$. "
   ]
  },
  {
   "cell_type": "code",
   "execution_count": 156,
   "metadata": {},
   "outputs": [
    {
     "name": "stdout",
     "output_type": "stream",
     "text": [
      "0 + (1x^1) + (1x^2) + (1x^3) + (1x^4) + (1x^5) + (1x^6) + (1x^7)\n"
     ]
    }
   ],
   "source": [
    "p = 2\n",
    "n = 256\n",
    "k = 200\n",
    "d = 57\n",
    "f = ConstructMyPolynomial([1,0,1,1,1,0,0,0,1],2)\n",
    "\n",
    "# Get all primitive elements in that Finite Field\n",
    "prim_els = find_primitive(f)\n",
    "\n",
    "# Pick a primitive element at random to be α#\n",
    "α = prim_els[rand(1:length(prim_els))]\n",
    "print(α,'x')"
   ]
  },
  {
   "cell_type": "code",
   "execution_count": 157,
   "metadata": {},
   "outputs": [
    {
     "name": "stdout",
     "output_type": "stream",
     "text": [
      "0 + (1x^1) + (1x^2) + (1x^3) + (1x^4) + (1x^5)\n",
      "I_for_show = [15, 12, 20, 49, 9, 51, 18, 27, 17, 62, 23]\n",
      "I = Any[9, 12, 15, 17, 18, 20, 23, 49, 51, 62]\n"
     ]
    },
    {
     "data": {
      "text/plain": [
       "true"
      ]
     },
     "execution_count": 157,
     "metadata": {},
     "output_type": "execute_result"
    }
   ],
   "source": [
    "# Finite field F(2⁶)\n",
    "\n",
    "p = 2\n",
    "n = 63\n",
    "k = 40\n",
    "d = 24\n",
    "f = ConstructMyPolynomial([1,1,0,1,1,0,1],2)\n",
    "\n",
    "# Get all primitive elements in that Finite Field\n",
    "prim_els = find_primitive(f)\n",
    "\n",
    "# Pick a primitive element at random to be α\n",
    "α = prim_els[rand(1:length(prim_els))]\n",
    "print(α,'x')\n",
    "\n",
    "function get_message()\n",
    "    m1 = fill(ConstructMyPolynomial([0,1,1],2),k)\n",
    "    m2::Matrix{MyPolynomial{Int64}} = reshape(m1,1,k)\n",
    "    return m2\n",
    "end\n",
    "\n",
    "message = get_message()\n",
    "\n",
    "codeword = RSPoly_Enc(message,p,f,α,n,k)\n",
    "error_codeword = RSPoly_Channel(codeword,p,f,n,d)\n",
    "syn_vec,syn_poly = RSPoly_Syndrome(error_codeword,p,f,α,n,k)\n",
    "L,E = RSPoly_KeyPolys(syn_poly,p,f,α,n,d)\n",
    "ê,ĉ = RSPoly_Err(L,E,p,f,α,n,error_codeword)\n",
    "\n",
    "ĉ == codeword"
   ]
  },
  {
   "cell_type": "code",
   "execution_count": 158,
   "metadata": {},
   "outputs": [
    {
     "name": "stdout",
     "output_type": "stream",
     "text": [
      "1 + (1x^1) + (0x^2) + (1x^3) + (1x^4) + (1x^5) + (0x^6) + (1x^7)\n",
      "I_for_show = [82, 105, 124, 41, 40, 186, 172]\n",
      "I = Any[40, 41, 82, 105, 124, 172, 186]\n"
     ]
    },
    {
     "data": {
      "text/plain": [
       "true"
      ]
     },
     "execution_count": 158,
     "metadata": {},
     "output_type": "execute_result"
    }
   ],
   "source": [
    "# Finite field F(2⁸)\n",
    "\n",
    "p = 2\n",
    "n = 255\n",
    "k = 240\n",
    "d = 16\n",
    "f = ConstructMyPolynomial([1,0,1,1,1,0,0,0,1],2)\n",
    "\n",
    "# Get all primitive elements in that Finite Field\n",
    "prim_els = find_primitive(f)\n",
    "\n",
    "# Pick a primitive element at random to be α\n",
    "α = prim_els[rand(1:length(prim_els))]\n",
    "print(α,'x')\n",
    "\n",
    "function get_message()\n",
    "    m1 = fill(ConstructMyPolynomial([0,1,1],2),k)\n",
    "    m2::Matrix{MyPolynomial{Int64}} = reshape(m1,1,k)\n",
    "    return m2\n",
    "end\n",
    "\n",
    "message = get_message()\n",
    "\n",
    "codeword = RSPoly_Enc(message,p,f,α,n,k)\n",
    "error_codeword = RSPoly_Channel(codeword,p,f,n,d)\n",
    "syn_vec,syn_poly = RSPoly_Syndrome(error_codeword,p,f,α,n,k)\n",
    "L,E = RSPoly_KeyPolys(syn_poly,p,f,α,n,d)\n",
    "ê,ĉ = RSPoly_Err(L,E,p,f,α,n,error_codeword)\n",
    "\n",
    "ĉ == codeword"
   ]
  },
  {
   "cell_type": "code",
   "execution_count": 159,
   "metadata": {},
   "outputs": [
    {
     "name": "stdout",
     "output_type": "stream",
     "text": [
      "0 + (0x^1) + (1x^2) + (1x^3) + (1x^4) + (1x^5)\n"
     ]
    }
   ],
   "source": [
    "# Finite field F(2¹⁰)\n",
    "\n",
    "p = 2\n",
    "n = 1023\n",
    "k = 990\n",
    "d = 34\n",
    "f = ConstructMyPolynomial([1,0,0,1,0,0,0,0,0,0,1],2)\n",
    "\n",
    "# Get all primitive elements in that Finite Field\n",
    "prim_els = find_primitive(f)\n",
    "\n",
    "# Pick a primitive element at random to be α\n",
    "α = prim_els[rand(1:length(prim_els))]\n",
    "print(α,'x')"
   ]
  },
  {
   "cell_type": "code",
   "execution_count": 160,
   "metadata": {},
   "outputs": [],
   "source": [
    "# # Finite field F(2¹⁰)\n",
    "\n",
    "# p = 2\n",
    "# n = 1023\n",
    "# k = 990\n",
    "# d = 34\n",
    "# f = ConstructMyPolynomial([1,0,0,1,0,0,0,0,0,0,1],2)\n",
    "\n",
    "# α = ConstructMyPolynomial([1,0,1,1,1,1,1,1,1],2)\n",
    "\n",
    "# function get_message()\n",
    "#     m1 = fill(ConstructMyPolynomial([0,1,1],2),k)\n",
    "#     m2::Matrix{MyPolynomial{Int64}} = reshape(m1,1,k)\n",
    "#     return m2\n",
    "# end\n",
    "\n",
    "# message = get_message()\n",
    "\n",
    "# @show codeword = RSPoly_Enc(message,p,f,α,n,k)\n",
    "# @show error_codeword = RSPoly_Channel(codeword,p,f,n,d)\n",
    "# syn_vec,syn_poly = RSPoly_Syndrome(error_codeword,p,f,α,n,k)\n",
    "# L,E = RSPoly_KeyPolys(syn_poly,p,f,α,n,d)\n",
    "# ê,ĉ = RSPoly_Err(L,E,p,f,α,n,error_codeword)\n",
    "\n",
    "# ĉ == codeword"
   ]
  },
  {
   "cell_type": "markdown",
   "metadata": {},
   "source": [
    "## Highlight\n",
    "\n",
    "Please list a couple of highlights of your coursework that may impress your markers."
   ]
  },
  {
   "cell_type": "markdown",
   "metadata": {},
   "source": []
  }
 ],
 "metadata": {
  "kernelspec": {
   "display_name": "Julia 1.6.3",
   "language": "julia",
   "name": "julia-1.6"
  },
  "language_info": {
   "file_extension": ".jl",
   "mimetype": "application/julia",
   "name": "julia",
   "version": "1.6.3"
  },
  "orig_nbformat": 4
 },
 "nbformat": 4,
 "nbformat_minor": 2
}
