{
 "cells": [
  {
   "cell_type": "markdown",
   "metadata": {},
   "source": [
    "# Coursework 3: Reed-Solomon Codes"
   ]
  },
  {
   "cell_type": "markdown",
   "metadata": {},
   "source": [
    "[] By tick the checkbox, we hereby declare that this coursework report is our own and autonomous work. We have acknowledged all material and sources used in its preparation, including books, articles, reports, lecture notes, internet software packages, and any other kind of document, electronic or personal communication. This work has not been submitted for any other assessment."
   ]
  },
  {
   "cell_type": "markdown",
   "metadata": {},
   "source": [
    "**Julia Packages**\n",
    "\n",
    "We use the `LinearAlgebra` package for matrix operations.\n",
    "We use the `StatsBase` package for introducing random error."
   ]
  },
  {
   "cell_type": "code",
   "execution_count": 73,
   "metadata": {},
   "outputs": [
    {
     "name": "stderr",
     "output_type": "stream",
     "text": [
      "\u001b[32m\u001b[1m    Updating\u001b[22m\u001b[39m registry at `C:\\Users\\aydes\\.julia\\registries\\General`\n",
      "\u001b[32m\u001b[1m    Updating\u001b[22m\u001b[39m git-repo `https://github.com/JuliaRegistries/General.git`\n",
      "\u001b[32m\u001b[1m   Resolving\u001b[22m\u001b[39m package versions...\n",
      "\u001b[32m\u001b[1m  No Changes\u001b[22m\u001b[39m to `C:\\Users\\aydes\\.julia\\environments\\v1.6\\Project.toml`\n",
      "\u001b[32m\u001b[1m  No Changes\u001b[22m\u001b[39m to `C:\\Users\\aydes\\.julia\\environments\\v1.6\\Manifest.toml`\n",
      "\u001b[32m\u001b[1m   Resolving\u001b[22m\u001b[39m package versions...\n",
      "\u001b[32m\u001b[1m  No Changes\u001b[22m\u001b[39m to `C:\\Users\\aydes\\.julia\\environments\\v1.6\\Project.toml`\n",
      "\u001b[32m\u001b[1m  No Changes\u001b[22m\u001b[39m to `C:\\Users\\aydes\\.julia\\environments\\v1.6\\Manifest.toml`\n"
     ]
    }
   ],
   "source": [
    "using Pkg\n",
    "Pkg.add(\"LinearAlgebra\")\n",
    "Pkg.add(\"StatsBase\")\n",
    "\n",
    "using LinearAlgebra\n",
    "using StatsBase"
   ]
  },
  {
   "cell_type": "markdown",
   "metadata": {},
   "source": [
    "#### Helper Functions"
   ]
  },
  {
   "cell_type": "code",
   "execution_count": 74,
   "metadata": {},
   "outputs": [
    {
     "data": {
      "text/plain": [
       "modExpo (generic function with 1 method)"
      ]
     },
     "execution_count": 74,
     "metadata": {},
     "output_type": "execute_result"
    }
   ],
   "source": [
    "# Helper Functions\n",
    "\n",
    "# Function to do modulo division\n",
    "function modulo_div(num,den,p)\n",
    "    return mod((num * gcdx(den,p)[2]),p)\n",
    "end\n",
    "\n",
    "# Function for modular exoponentiation\n",
    "function modExpo(p,x,n)\n",
    "    if p == 1 \n",
    "        return 0\n",
    "    end\n",
    "    a = 1 # initialise a\n",
    "    binaryExp = mod(x,p) #binaryExp when i=0\n",
    "    while n > 0 #loop cycles through each binary digit of n - (cycle of ceiling[log2(n)] times)\n",
    "        if (mod(n,2) == 1) #check LSB\n",
    "            a = mod((a * binaryExp), p) #if LSB is 1 then update a accordingly\n",
    "        end\n",
    "        n = n >> 1 #right shift exponent to check next bit\n",
    "        binaryExp = mod((binaryExp * binaryExp), p) #calculate new binaryExp value by squaring previous result and taking modulus\n",
    "    end\n",
    "    return a\n",
    "end"
   ]
  },
  {
   "cell_type": "code",
   "execution_count": 110,
   "metadata": {},
   "outputs": [
    {
     "name": "stdout",
     "output_type": "stream",
     "text": [
      "f(x) = 1 + 2x^1 + 1x^2 + 2x^3"
     ]
    }
   ],
   "source": [
    "#import Base.+\n",
    "struct MyPolynomial\n",
    "    coeffs::Vector{Any}\n",
    "    order::Int\n",
    "    p::Int\n",
    "    \n",
    "    function MyPolynomial(coeffs,p)::MyPolynomial\n",
    "        coeffs = [mod(i,p) for i in coeffs]\n",
    "        return new(coeffs,length(coeffs) - 1,p)\n",
    "    end\n",
    "end\n",
    "\n",
    "function remove_top_zeros(poly::MyPolynomial)\n",
    "    coeffs = poly.coeffs\n",
    "    while length(coeffs) > 0 && last(coeffs) == 0\n",
    "        pop!(coeffs)\n",
    "    end\n",
    "    if length(coeffs) == 0\n",
    "        push!(coeffs,0)\n",
    "    end\n",
    "    return MyPolynomial(coeffs,poly.p)\n",
    "end\n",
    "\n",
    "function make_same_length(poly1::MyPolynomial, poly2::MyPolynomial)\n",
    "    len1 = length(poly1.coeffs)\n",
    "    len2 = length(poly2.coeffs)\n",
    "\n",
    "    if len1 > len2\n",
    "        zero_pad = zeros(Int,len1-len2)\n",
    "        new_coeffs = cat(poly2.coeffs,zero_pad,dims=1)\n",
    "        new_poly = MyPolynomial(new_coeffs,poly2.p)\n",
    "        return (poly1,new_poly)\n",
    "    else\n",
    "        zero_pad = zeros(Int,len2-len1)\n",
    "        new_coeffs = cat(poly1.coeffs,zero_pad,dims=1)\n",
    "        new_poly = MyPolynomial(new_coeffs,poly1.p)\n",
    "        return (poly2,new_poly)\n",
    "\n",
    "    end\n",
    "end\n",
    "\n",
    "function Base.:length(poly::MyPolynomial)\n",
    "    return length(poly.coeffs)\n",
    "end\n",
    "\n",
    "function Base.:+(poly1::MyPolynomial, poly2::MyPolynomial)\n",
    "    p = poly1.p\n",
    "    poly1 = remove_top_zeros(poly1)\n",
    "    poly2 = remove_top_zeros(poly2)\n",
    "\n",
    "    poly1,poly2 = make_same_length(poly1,poly2)\n",
    "\n",
    "    new_coeffs = poly1.coeffs + poly2.coeffs\n",
    "    return remove_top_zeros(MyPolynomial(new_coeffs,p))\n",
    "end\n",
    "\n",
    "function Base.:-(poly1::MyPolynomial, poly2::MyPolynomial)\n",
    "    p = poly1.p\n",
    "    poly1 = remove_top_zeros(poly1)\n",
    "    poly2 = remove_top_zeros(poly2)\n",
    "\n",
    "    poly1,poly2 = make_same_length(poly1,poly2)\n",
    "    new_coeffs = poly2.coeffs - poly1.coeffs\n",
    "    return remove_top_zeros(MyPolynomial(new_coeffs,p))\n",
    "end\n",
    "\n",
    "function Base.:*(poly::MyPolynomial, num::Int)\n",
    "    p = poly.p\n",
    "    new_coeffs = [mod(i,p) for i in (poly.coeffs * num)]\n",
    "    return remove_top_zeros(MyPolynomial(new_coeffs,p))\n",
    "end\n",
    "\n",
    "function Base.:*(num::Int, poly::MyPolynomial)\n",
    "    return poly * num\n",
    "end\n",
    "\n",
    "function Base.:*(poly1::MyPolynomial, poly2::MyPolynomial)\n",
    "    p = poly1.p\n",
    "    poly1 = remove_top_zeros(poly1)\n",
    "    poly2 = remove_top_zeros(poly2)\n",
    "\n",
    "    c1 = poly1.coeffs\n",
    "    c2 = poly2.coeffs\n",
    "    m = length(c1)\n",
    "    n = length(c2)\n",
    "\n",
    "    new_coeffs = zeros(Int,m+n-1)\n",
    "    for i in 1:m\n",
    "        for j in 1:n\n",
    "            new_coeffs[i+j-1] += c1[i]*c2[j]\n",
    "        end\n",
    "    end\n",
    "\n",
    "    return remove_top_zeros(MyPolynomial(new_coeffs,p))\n",
    "end\n",
    "\n",
    "function Base.:(==)(poly1::MyPolynomial,poly2::MyPolynomial)\n",
    "    return poly1.coeffs == poly2.coeffs\n",
    "end\n",
    "\n",
    "function Base.:(!=)(poly1::MyPolynomial,poly2::MyPolynomial)\n",
    "    return poly1.coeffs != poly2.coeffs\n",
    "end\n",
    "\n",
    "function Base.:divrem(poly1::MyPolynomial, poly2::MyPolynomial)\n",
    "    p = poly1.p\n",
    "    poly1 = remove_top_zeros(poly1)\n",
    "    poly2 = remove_top_zeros(poly2)\n",
    "\n",
    "    num = poly1.coeffs\n",
    "    den = poly2.coeffs\n",
    "\n",
    "    if length(num) >= length(den)\n",
    "        # Shift denominator to the right to match degree of numerator.\n",
    "        shiftamount = length(num) - length(den)\n",
    "        den = append!(zeros(Int,shiftamount),den)\n",
    "    else\n",
    "        # This is the case where degree of denominator > degree of numerator.\n",
    "        # Results in zero quotient and the numerator being the remainder.\n",
    "        return (remove_top_zeros(MyPolynomial(num,p)),MyPolynomial([0],p))\n",
    "    end\n",
    "\n",
    "    quotient = []\n",
    "    divisor = last(den)\n",
    "\n",
    "    for i in 1:(shiftamount+1)\n",
    "        #Get the next coefficient of the quotient.\n",
    "        mult = modulo_div(last(num),divisor,p)\n",
    "        quotient = append!([mult],quotient)\n",
    "        \n",
    "        if mult != 0\n",
    "            d = [mult * u for u in den]\n",
    "            for i in 1:length(num)\n",
    "                num[i] = mod((num[i] - d[i]),p)\n",
    "            end\n",
    "        end\n",
    "        \n",
    "        pop!(num)\n",
    "        popfirst!(den)\n",
    "    end\n",
    "\n",
    "    return (remove_top_zeros(MyPolynomial(num,p)),remove_top_zeros(MyPolynomial(quotient,p)))\n",
    "\n",
    "end\n",
    "\n",
    "function Base.:gcdx(poly1::MyPolynomial,poly2::MyPolynomial)\n",
    "    p = poly1.p\n",
    "    poly1 = remove_top_zeros(poly1)\n",
    "    poly2 = remove_top_zeros(poly2)\n",
    "\n",
    "    if length(poly1) >= length(poly2)\n",
    "        swapped = false\n",
    "        a = poly1\n",
    "        b = poly2\n",
    "    else\n",
    "        swapped = true\n",
    "        a = poly2\n",
    "        b = poly1\n",
    "    end\n",
    "\n",
    "    x0,x1 = MyPolynomial([1],p),MyPolynomial([0],p)\n",
    "    y0,y1 = MyPolynomial([0],p),MyPolynomial([1],p)\n",
    "\n",
    "    if b == MyPolynomial([0],p)\n",
    "        if swapped\n",
    "            return (a,y0,x0)\n",
    "        else\n",
    "            return (a,x0,y0)\n",
    "        end\n",
    "    end\n",
    "\n",
    "    r = b\n",
    "\n",
    "    while r != MyPolynomial([0],p)\n",
    "        r,q = divrem(a,b)\n",
    "        a = b\n",
    "        b = r\n",
    "\n",
    "        x0, x1 = x1, x0 - q*x1\n",
    "        y0, y1 = y1, y0 - q*y1\n",
    "    end\n",
    "\n",
    "    if swapped\n",
    "        return (a,y0,x0)\n",
    "    else\n",
    "        return (a,x0,y0)\n",
    "    end\n",
    "end\n",
    "\n",
    "function Base.:string(poly::MyPolynomial,var::Char)\n",
    "    poly = remove_top_zeros(poly)\n",
    "    coeffs = poly.coeffs\n",
    "    i = 0\n",
    "    s = string(first(coeffs))\n",
    "\n",
    "    for i in 2:length(coeffs)\n",
    "        s = string(s,\" + \",coeffs[i],var,\"^\",i-1)\n",
    "    end\n",
    "\n",
    "    return s\n",
    "end\n",
    "\n",
    "function Base.:print(poly::MyPolynomial,var::Char)\n",
    "    println(string(poly,var))\n",
    "end\n",
    "\n",
    "a = MyPolynomial([1,2,1,2],3)\n",
    "    \n",
    "s = string(a,'x')\n",
    "\n",
    "print(\"f(x) = \", s)\n"
   ]
  },
  {
   "cell_type": "markdown",
   "metadata": {},
   "source": [
    "## 3.1 RS Codes on $\\mathbb{F}_p$ (50%)"
   ]
  },
  {
   "cell_type": "markdown",
   "metadata": {},
   "source": [
    "### 3.1.1 RS Codes on $\\mathbb{F}_{17}$\n",
    "\n",
    "1. In $\\mathbb{F}_{17}$, find a primitive element $\\alpha$. \n",
    "2. Let $\\mathcal{C} \\subset \\mathbb{F}_{17}^{16}$ be an RS code with parameters $[16,k,7]$. What is the value of $k$? \n",
    "3. Design and implement an encoding function `RSNum_Enc` that encodes a message $\\boldsymbol{m} \\in \\mathbb{F}_{17}^k$ to a codeword $\\boldsymbol{c} \\in \\mathcal{C}$. \n",
    "4. Let $\\boldsymbol{y} = \\boldsymbol{c} + \\boldsymbol{e}$ be the received word where the channel introduces $t = \\lfloor \\frac{d-1}{2}\\rfloor$ errors in random places. Design and implement a function `RSNum_Channel` for this. Julia function `StatsBase > Sample` can be helpful in randomly chose error locations.\n",
    "5. Design and implement a function `RSNum_Syndrome` to calculate the syndrome vector and the syndrome polynomial from the received word $\\boldsymbol{y}$. \n",
    "6. Design and implement a function `RSNum_KeyPolys` to find error locator polynomial $L(z)$ and error evaluator polynomial $E(z)$ from the syndrome polynomial $S(z)$. \n",
    "7. Design and implement a function `RSNum_Err` to find the estimated error vector $\\hat{\\boldsymbol{e}}$ and the estimated codeword $\\hat{\\boldsymbol{c}}$.\n",
    "8. Design and implement a function `RSNum_Message` to find the estimated message $\\hat{\\boldsymbol{m}}$. \n",
    "9. Implement a function `RSNum_Dec` which uses the functions in Steps 5-8 as sub-routines for decoding.  \n",
    "\n",
    "Provide necessary documentation."
   ]
  },
  {
   "cell_type": "markdown",
   "metadata": {},
   "source": [
    "#### 1. Find a Primitive Element $\\alpha$\n",
    "\n",
    "We use the function `find_primitve(p)`, which returns an array of all primitive elements in the finite field. We then pick one at random to be our $\\alpha$."
   ]
  },
  {
   "cell_type": "code",
   "execution_count": 76,
   "metadata": {},
   "outputs": [
    {
     "data": {
      "text/plain": [
       "8-element Vector{Any}:\n",
       "  3\n",
       "  5\n",
       "  6\n",
       "  7\n",
       " 10\n",
       " 11\n",
       " 12\n",
       " 14"
      ]
     },
     "execution_count": 76,
     "metadata": {},
     "output_type": "execute_result"
    }
   ],
   "source": [
    "function is_primitive_element(element,p)\n",
    "    if modExpo(p,element,p-1) != 1\n",
    "        return false\n",
    "    end\n",
    "\n",
    "    # Using ord(β) | p-1 for Fₚ.\n",
    "    # Using p instead of q as p = q for integer ring finite fields.\n",
    "    # We only need to check powers that are factors of p-1.\n",
    "    factors = []\n",
    "    for i in 2:isqrt(p-1)\n",
    "        quot,rem = divrem(p-1,i)\n",
    "        if rem == 0\n",
    "            append!(factors,[i,quot])\n",
    "        end\n",
    "    end\n",
    "    \n",
    "    for t in factors\n",
    "        if modExpo(p,element,t) == 1\n",
    "            return false\n",
    "        end\n",
    "    end\n",
    "    return true\n",
    "end\n",
    "\n",
    "# Find primitive elements for finite field Fₚ\n",
    "function find_primitive(p)\n",
    "    field = collect(0:p-1)\n",
    "    prim_els = []\n",
    "    for a in field\n",
    "        if is_primitive_element(a,p)\n",
    "            push!(prim_els,a)\n",
    "        end\n",
    "    end\n",
    "    return prim_els\n",
    "end\n",
    "\n",
    "find_primitive(17)"
   ]
  },
  {
   "cell_type": "code",
   "execution_count": 77,
   "metadata": {},
   "outputs": [
    {
     "name": "stdout",
     "output_type": "stream",
     "text": [
      "α = 12\n"
     ]
    },
    {
     "data": {
      "text/plain": [
       "12"
      ]
     },
     "execution_count": 77,
     "metadata": {},
     "output_type": "execute_result"
    }
   ],
   "source": [
    "# Define the prime number for our Finite Field\n",
    "p = 17\n",
    "\n",
    "# Get all primitive elements in that Finite Field\n",
    "prim_els = find_primitive(p)\n",
    "\n",
    "# Pick a primitive element at random to be α\n",
    "α = prim_els[rand(1:length(prim_els))]\n",
    "@show α"
   ]
  },
  {
   "cell_type": "markdown",
   "metadata": {},
   "source": [
    "#### 2. What is the value of $k$?\n",
    "\n",
    "RS Codes are defined by three parameters: **$[n,k,d]$**, where $d = n - k + 1$.\n",
    "\n",
    "Taking the RS Code given in the question:  **$[16,k,7]$**, we can see that $n = 16$ and $n - k + 1 = 7$. \n",
    "\n",
    "We can substitute in $n = 16$ to get: $16 - k + 1 = 7$. Solving this equation yields **$k = 10$**."
   ]
  },
  {
   "cell_type": "code",
   "execution_count": 78,
   "metadata": {},
   "outputs": [
    {
     "data": {
      "text/plain": [
       "7"
      ]
     },
     "execution_count": 78,
     "metadata": {},
     "output_type": "execute_result"
    }
   ],
   "source": [
    "# Define the values of [n,k,d]\n",
    "n = 16\n",
    "k = 10\n",
    "d = 7"
   ]
  },
  {
   "cell_type": "markdown",
   "metadata": {},
   "source": [
    "#### 3. RS Encoding"
   ]
  },
  {
   "cell_type": "code",
   "execution_count": 79,
   "metadata": {},
   "outputs": [
    {
     "data": {
      "text/plain": [
       "generator_matrix"
      ]
     },
     "execution_count": 79,
     "metadata": {},
     "output_type": "execute_result"
    }
   ],
   "source": [
    "# Helper Functions for RS Encoding\n",
    "\n",
    "\"\"\"\n",
    "generator_matrix(p,α,n,k)\n",
    "\n",
    "Args:\n",
    "p: The prime number that defines the Finite Field Fₚ\n",
    "α: The chosen primitive element from Fₚ\n",
    "n: The length of the code\n",
    "k: The length of the message\n",
    "\n",
    "Returns:\n",
    "A k×n matrix of type Matrix{Int} which is the generator matrix of the RS Code [n,k,d]\n",
    "\"\"\"\n",
    "function generator_matrix(p,α,n,k)\n",
    "    # First row of the matrix will always be n 1s, so generate that\n",
    "    gen_mat = ones(Int,1,n)\n",
    "    \n",
    "    for i in 1:k-1\n",
    "        # Calculate the defining element for that row (αⁱ, where i goes up to k)\n",
    "        αⁱ = modExpo(p,α,i)\n",
    "        row = fill(αⁱ,1,n)\n",
    "        for j in 1:n\n",
    "            # Mulitply the defining element for the given row by ascending powers up to n\n",
    "            row[j] = modExpo(p,row[j],j-1)\n",
    "        end\n",
    "        # Add the new row to the bottom of the matrix\n",
    "        gen_mat = vcat(gen_mat,row)\n",
    "    end\n",
    "    return gen_mat\n",
    "end\n"
   ]
  },
  {
   "cell_type": "code",
   "execution_count": 80,
   "metadata": {},
   "outputs": [
    {
     "data": {
      "text/plain": [
       "RSNum_Enc (generic function with 1 method)"
      ]
     },
     "execution_count": 80,
     "metadata": {},
     "output_type": "execute_result"
    }
   ],
   "source": [
    "\"\"\"\n",
    "RSNum_Enc(message,p,α,n,k)\n",
    "\n",
    "Args:\n",
    "message: Matrix{Int} of dimension 1×k containing the message\n",
    "p: The prime number that defines the Finite Field Fₚ\n",
    "α: The chosen primitive element from Fₚ\n",
    "n: The length of the code\n",
    "k: The length of the message\n",
    "\n",
    "Returns:\n",
    "A 1×n matrix of type Matrix{Int}, which is the encoded message\n",
    "\"\"\"\n",
    "\n",
    "function RSNum_Enc(message,p,α,n,k)\n",
    "    if typeof(message) != Matrix{Int}\n",
    "        println(\"Please enter message in the format of a 1×k matrix\")\n",
    "        println(\"Type of message should be Matrix{Int}, not $(typeof(message))\")\n",
    "        return -1\n",
    "    end\n",
    "    if length(message) != k\n",
    "        println(\"Length of message should be $k, which is the value of k provided\")\n",
    "        return -1\n",
    "    end\n",
    "\n",
    "    # Ensure each element in our message is in Fₚ\n",
    "    # If not then, perform modulo to make it comply\n",
    "    message = [mod(i,p) for i in message]\n",
    "\n",
    "    # Calculate the Generator Matrix for the given parameters\n",
    "    G = generator_matrix(p,α,n,k)\n",
    "\n",
    "    # Calculate the code by multiplying the message and the generator matrix\n",
    "    code = message * G\n",
    "    code = [mod(i,p) for i in code]\n",
    "\n",
    "    return code\n",
    "\n",
    "end"
   ]
  },
  {
   "cell_type": "code",
   "execution_count": 81,
   "metadata": {},
   "outputs": [
    {
     "data": {
      "text/plain": [
       "1×16 Matrix{Int64}:\n",
       " 9  5  16  8  9  14  0  16  14  9  15  8  0  1  10  12"
      ]
     },
     "execution_count": 81,
     "metadata": {},
     "output_type": "execute_result"
    }
   ],
   "source": [
    "# Test: Encode a message\n",
    "message = [7 3 8 7 1 9 4 4 0 0]\n",
    "codeword = RSNum_Enc(message,p,α,n,k)"
   ]
  },
  {
   "cell_type": "markdown",
   "metadata": {},
   "source": [
    "#### Simulating the Channel"
   ]
  },
  {
   "cell_type": "code",
   "execution_count": 82,
   "metadata": {},
   "outputs": [
    {
     "data": {
      "text/plain": [
       "RSNum_Channel (generic function with 1 method)"
      ]
     },
     "execution_count": 82,
     "metadata": {},
     "output_type": "execute_result"
    }
   ],
   "source": [
    "\"\"\"\n",
    "RSNum_Channel(code,p,n,d)\n",
    "\n",
    "Args:\n",
    "code: Matrix{Int} of dimension 1×n, the codeword to be transmitted accross the channel\n",
    "p: The prime number that defines the Finite Field Fₚ\n",
    "n: The length of the code\n",
    "d: d as defined for the RS Code\n",
    "\n",
    "Returns:\n",
    "A 1×n matrix of type Matrix{Int}, which is the codeword with error introduced\n",
    "\"\"\"\n",
    "\n",
    "function RSNum_Channel(code,p,n,d)\n",
    "    # Maximum number of errors\n",
    "    t::Int = floor((d+1)/2)\n",
    "\n",
    "    # Randomly choose t unique locations of the errors\n",
    "    I = sample((1:n),t,replace=false)\n",
    "    @show I\n",
    "    # Build error vector, which has non-zero elements at eᵢ where i∈I\n",
    "    e = []\n",
    "    for i in 1:n\n",
    "        if i in I\n",
    "            push!(e,rand(1:p))\n",
    "        else\n",
    "            push!(e,0)\n",
    "        end\n",
    "    end\n",
    "\n",
    "    # Convert e from type Vector{Int} to Matrix{Int}\n",
    "    # This makes it the same type and shape as the code, allowing for addition\n",
    "    e = reshape(e,1,n)\n",
    "    @show e\n",
    "    # Add error to the code\n",
    "    changed_code = code + e\n",
    "    changed_code = [mod(i,p) for i in changed_code]\n",
    "\n",
    "    return changed_code\n",
    "end\n"
   ]
  },
  {
   "cell_type": "code",
   "execution_count": 83,
   "metadata": {},
   "outputs": [
    {
     "name": "stdout",
     "output_type": "stream",
     "text": [
      "I = [10, 12, 16, 6]\n",
      "e = Any[0 0 0 0 0 7 0 0 0 2 0 4 0 0 0 11]\n"
     ]
    },
    {
     "data": {
      "text/plain": [
       "1×16 Matrix{Int64}:\n",
       " 9  5  16  8  9  4  0  16  14  11  15  12  0  1  10  6"
      ]
     },
     "execution_count": 83,
     "metadata": {},
     "output_type": "execute_result"
    }
   ],
   "source": [
    "# Test: Transmit codeword through channel\n",
    "received = RSNum_Channel(codeword,p,n,d)"
   ]
  },
  {
   "cell_type": "markdown",
   "metadata": {},
   "source": [
    "#### Syndrome Vector and Polynomial"
   ]
  },
  {
   "cell_type": "code",
   "execution_count": 84,
   "metadata": {},
   "outputs": [
    {
     "data": {
      "text/plain": [
       "6×16 Matrix{Int64}:\n",
       " 1  12   8  11  13   3   2   7  16   5   9   6   4  14  15  10\n",
       " 1   8  13   2  16   9   4  15   1   8  13   2  16   9   4  15\n",
       " 1  11   2   5   4  10   8   3  16   6  15  12  13   7   9  14\n",
       " 1  13  16   4   1  13  16   4   1  13  16   4   1  13  16   4\n",
       " 1   3   9  10  13   5  15  11  16  14   8   7   4  12   2   6\n",
       " 1   2   4   8  16  15  13   9   1   2   4   8  16  15  13   9"
      ]
     },
     "execution_count": 84,
     "metadata": {},
     "output_type": "execute_result"
    }
   ],
   "source": [
    "# Helper functions\n",
    "\n",
    "\"\"\"\n",
    "parity_check_matrix(p,α,n,k)\n",
    "\n",
    "Args:\n",
    "p: The prime number that defines the Finite Field Fₚ\n",
    "α: The chosen primitive element from Fₚ\n",
    "n: The length of the code\n",
    "k: The length of the message\n",
    "\n",
    "Returns:\n",
    "A (n-k)×n matrix of type Matrix{Int} which is the parity-check matrix of the RS Code [n,k,d]\n",
    "\n",
    "\"\"\"\n",
    "\n",
    "function parity_check_matrix(p,α,n,k)\n",
    "    pc_mat = zeros(Int,n-k,n)\n",
    "    for i in 1:n-k\n",
    "        # Calculate the defining element for that row (αⁱ, where i goes up to k)\n",
    "        αⁱ = modExpo(p,α,i)\n",
    "        row = fill(αⁱ,1,n)\n",
    "        for j in 1:n\n",
    "            # Multiply the defining element for the given row by ascending powers up to n\n",
    "            pc_mat[i+(j-1)*(n-k)] = modExpo(p,row[j],j-1)\n",
    "        end\n",
    "    end\n",
    "    return pc_mat\n",
    "end\n",
    "\n",
    "parity_check_matrix(p,α,n,k)\n"
   ]
  },
  {
   "cell_type": "code",
   "execution_count": 85,
   "metadata": {},
   "outputs": [
    {
     "data": {
      "text/plain": [
       "10×6 Matrix{Int64}:\n",
       " 0  0  0  0  0  0\n",
       " 0  0  0  0  0  0\n",
       " 0  0  0  0  0  0\n",
       " 0  0  0  0  0  0\n",
       " 0  0  0  0  0  0\n",
       " 0  0  0  0  0  0\n",
       " 0  0  0  0  0  0\n",
       " 0  0  0  0  0  0\n",
       " 0  0  0  0  0  0\n",
       " 0  0  0  0  0  0"
      ]
     },
     "execution_count": 85,
     "metadata": {},
     "output_type": "execute_result"
    }
   ],
   "source": [
    "# Verifying that the identity GHᵀ = 0 holds\n",
    "# Done to test generator_matrix and parity_check_matrix functions\n",
    "G = generator_matrix(p,α,n,k)\n",
    "H = parity_check_matrix(p,α,n,k)\n",
    "\n",
    "A = G * transpose(H)\n",
    "A = [mod(i,p) for i in A]"
   ]
  },
  {
   "cell_type": "code",
   "execution_count": 100,
   "metadata": {},
   "outputs": [
    {
     "data": {
      "text/plain": [
       "RSNum_Syndrome (generic function with 1 method)"
      ]
     },
     "execution_count": 100,
     "metadata": {},
     "output_type": "execute_result"
    }
   ],
   "source": [
    "function RSNum_Syndrome(changed_code,p,α,n,k)\n",
    "    # Calculate the parity-check Matrix\n",
    "    H = parity_check_matrix(p,α,n,k)\n",
    "\n",
    "    # Calculate syndrome vector\n",
    "    syndrome_vector = changed_code * transpose(H)\n",
    "    syndrome_vector = [mod(i,p) for i in syndrome_vector]\n",
    "\n",
    "    # Return the syndrome vector and syndrome polynomial\n",
    "    return (syndrome_vector,MyPolynomial(vec(syndrome_vector),p))\n",
    "end"
   ]
  },
  {
   "cell_type": "code",
   "execution_count": 111,
   "metadata": {},
   "outputs": [
    {
     "name": "stdout",
     "output_type": "stream",
     "text": [
      "Syndrome Vector: [12 14 12 7 4 2]\n",
      "Syndrome Polynomial S(z) = 12 + 14z^1 + 12z^2 + 7z^3 + 4z^4 + 2z^5\n"
     ]
    }
   ],
   "source": [
    "# Test: Calculate Syndrome Vector/Polynomial from Received Codeword\n",
    "s_vector,s_poly = RSNum_Syndrome(received,p,α,n,k)\n",
    "println(\"Syndrome Vector: \", s_vector)\n",
    "println(\"Syndrome Polynomial S(z) = \", string(s_poly,'z'))"
   ]
  },
  {
   "cell_type": "markdown",
   "metadata": {},
   "source": [
    "#### Error Locator Polynomial and Error Evaluator Polynomial"
   ]
  },
  {
   "cell_type": "code",
   "execution_count": null,
   "metadata": {},
   "outputs": [],
   "source": []
  },
  {
   "cell_type": "markdown",
   "metadata": {},
   "source": [
    "### 3.1.2 RS Codes on $\\mathbb{F}_{p}$\n",
    "\n",
    "The above code should work well for other choices of $p$, $\\alpha$, $[n,k,d]$. Try another $p$ with $30<p<100$ and demonstrate the correctness of your code. "
   ]
  },
  {
   "cell_type": "markdown",
   "metadata": {},
   "source": [
    "## 3.2 RS Codes on $\\mathbb{F}_{p^k}$ (50%)"
   ]
  },
  {
   "cell_type": "markdown",
   "metadata": {},
   "source": [
    "### 3.2.1 RS Codes on $\\mathbb{F}_{16}$\n",
    "\n",
    "Now we consider the finite field $\\mathbb{F}_{16} = \\mathbb{F}_2[z]/z^4 + z +1$, and an RS code $\\mathcal{C} \\subset \\mathbb{F}_{16}$ with parameters $[15,k,7]$. \n",
    "\n",
    "Repeat the steps in 3.1.1 and change the function names from `RSNum_...` to `RSPoly_...`. Provide necessary documentation. "
   ]
  },
  {
   "cell_type": "markdown",
   "metadata": {},
   "source": [
    "### 3.2.2 RS Codes on $\\mathbb{F}_{2^k}$\n",
    "\n",
    "The above code should work for other choices of $k$ in $\\mathbb{F}_{2^k}$. In 3.2.1, we have worked on the case where $k=4$. Try a different $k$ with $5 \\le k \\le 10$. "
   ]
  },
  {
   "cell_type": "markdown",
   "metadata": {},
   "source": [
    "## Highlight\n",
    "\n",
    "Please list a couple of highlights of your coursework that may impress your markers."
   ]
  }
 ],
 "metadata": {
  "kernelspec": {
   "display_name": "Julia 1.6.3",
   "language": "julia",
   "name": "julia-1.6"
  },
  "language_info": {
   "file_extension": ".jl",
   "mimetype": "application/julia",
   "name": "julia",
   "version": "1.6.3"
  },
  "orig_nbformat": 4
 },
 "nbformat": 4,
 "nbformat_minor": 2
}
