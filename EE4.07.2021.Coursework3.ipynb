{
 "cells": [
  {
   "cell_type": "markdown",
   "metadata": {},
   "source": [
    "# Coursework 3: Reed-Solomon Codes"
   ]
  },
  {
   "cell_type": "markdown",
   "metadata": {},
   "source": [
    "[] By tick the checkbox, we hereby declare that this coursework report is our own and autonomous work. We have acknowledged all material and sources used in its preparation, including books, articles, reports, lecture notes, internet software packages, and any other kind of document, electronic or personal communication. This work has not been submitted for any other assessment."
   ]
  },
  {
   "cell_type": "markdown",
   "metadata": {},
   "source": [
    "**Julia Packages**\n",
    "\n",
    "We use the `LinearAlgebra` package for matrix operations.\n",
    "We use the `StatsBase` package for introducing random error."
   ]
  },
  {
   "cell_type": "code",
   "execution_count": 1,
   "metadata": {},
   "outputs": [
    {
     "name": "stderr",
     "output_type": "stream",
     "text": [
      "\u001b[32m\u001b[1m    Updating\u001b[22m\u001b[39m registry at `C:\\Users\\aydes\\.julia\\registries\\General`\n",
      "\u001b[32m\u001b[1m    Updating\u001b[22m\u001b[39m git-repo `https://github.com/JuliaRegistries/General.git`\n",
      "\u001b[32m\u001b[1m   Resolving\u001b[22m\u001b[39m package versions...\n",
      "\u001b[32m\u001b[1m  No Changes\u001b[22m\u001b[39m to `C:\\Users\\aydes\\.julia\\environments\\v1.6\\Project.toml`\n",
      "\u001b[32m\u001b[1m  No Changes\u001b[22m\u001b[39m to `C:\\Users\\aydes\\.julia\\environments\\v1.6\\Manifest.toml`\n",
      "\u001b[32m\u001b[1m   Resolving\u001b[22m\u001b[39m package versions...\n",
      "\u001b[32m\u001b[1m  No Changes\u001b[22m\u001b[39m to `C:\\Users\\aydes\\.julia\\environments\\v1.6\\Project.toml`\n",
      "\u001b[32m\u001b[1m  No Changes\u001b[22m\u001b[39m to `C:\\Users\\aydes\\.julia\\environments\\v1.6\\Manifest.toml`\n"
     ]
    }
   ],
   "source": [
    "using Pkg\n",
    "Pkg.add(\"LinearAlgebra\")\n",
    "Pkg.add(\"StatsBase\")\n",
    "\n",
    "using LinearAlgebra\n",
    "using StatsBase"
   ]
  },
  {
   "cell_type": "markdown",
   "metadata": {},
   "source": [
    "#### Helper Functions"
   ]
  },
  {
   "cell_type": "code",
   "execution_count": 2,
   "metadata": {},
   "outputs": [
    {
     "data": {
      "text/plain": [
       "modExpo (generic function with 1 method)"
      ]
     },
     "execution_count": 2,
     "metadata": {},
     "output_type": "execute_result"
    }
   ],
   "source": [
    "# Helper Functions\n",
    "\n",
    "# Function to do modulo division\n",
    "function modulo_div(num,den,p)\n",
    "    return mod((num * gcdx(den,p)[2]),p)\n",
    "end\n",
    "\n",
    "# Function for modular exoponentiation\n",
    "function modExpo(p,x,n)\n",
    "    if p == 1 \n",
    "        return 0\n",
    "    end\n",
    "    a = 1 # initialise a\n",
    "    binaryExp = mod(x,p) #binaryExp when i=0\n",
    "    while n > 0 #loop cycles through each binary digit of n - (cycle of ceiling[log2(n)] times)\n",
    "        if (mod(n,2) == 1) #check LSB\n",
    "            a = mod((a * binaryExp), p) #if LSB is 1 then update a accordingly\n",
    "        end\n",
    "        n = n >> 1 #right shift exponent to check next bit\n",
    "        binaryExp = mod((binaryExp * binaryExp), p) #calculate new binaryExp value by squaring previous result and taking modulus\n",
    "    end\n",
    "    return a\n",
    "end"
   ]
  },
  {
   "cell_type": "code",
   "execution_count": 42,
   "metadata": {},
   "outputs": [
    {
     "data": {
      "text/plain": [
       "MyPolynomial{Int64}([0, 1, 0, 1], 3, 2)"
      ]
     },
     "execution_count": 42,
     "metadata": {},
     "output_type": "execute_result"
    }
   ],
   "source": [
    "struct MyPolynomial{T}\n",
    "    coeffs::Vector{T}\n",
    "    order::Int\n",
    "    p::Int\n",
    "end\n",
    "\n",
    "function ConstructMyPolynomial(coeffs,p)\n",
    "    coeffs = [mod(i,p) for i in coeffs]\n",
    "    return MyPolynomial(coeffs,length(coeffs) - 1,p)\n",
    "end\n",
    "\n",
    "function remove_top_zeros(poly::MyPolynomial)\n",
    "    p = poly.p\n",
    "    coeffs = poly.coeffs\n",
    "    if typeof(poly) == MyPolynomial{Int}\n",
    "        zero_term = 0\n",
    "    else\n",
    "        zero_term = ConstructMyPolynomial([0],p)\n",
    "    end\n",
    "    while length(coeffs) > 0 && last(coeffs) == zero_term\n",
    "        pop!(coeffs)\n",
    "    end\n",
    "    if length(coeffs) == 0\n",
    "        push!(coeffs,zero_term)\n",
    "    end\n",
    "    return ConstructMyPolynomial(coeffs,poly.p)\n",
    "end\n",
    "\n",
    "function make_same_length(poly1::MyPolynomial{Int}, poly2::MyPolynomial{Int})\n",
    "    len1 = length(poly1.coeffs)\n",
    "    len2 = length(poly2.coeffs)\n",
    "\n",
    "    if len1 > len2\n",
    "        zero_pad = zeros(Int,len1-len2)\n",
    "        new_coeffs = cat(poly2.coeffs,zero_pad,dims=1)\n",
    "        new_poly = ConstructMyPolynomial(new_coeffs,poly2.p)\n",
    "        return (poly1,new_poly)\n",
    "    else\n",
    "        zero_pad = zeros(Int,len2-len1)\n",
    "        new_coeffs = cat(poly1.coeffs,zero_pad,dims=1)\n",
    "        new_poly = ConstructMyPolynomial(new_coeffs,poly1.p)\n",
    "        return (poly2,new_poly)\n",
    "\n",
    "    end\n",
    "end\n",
    "\n",
    "function make_same_length(poly1::MyPolynomial{MyPolynomial{Int}}, poly2::MyPolynomial{MyPolynomial{Int}})\n",
    "    p = poly1.p\n",
    "    len1 = length(poly1.coeffs)\n",
    "    len2 = length(poly2.coeffs)\n",
    "\n",
    "    if len1 > len2\n",
    "        zero_pad = zeros_poly(len1-len2,p)\n",
    "        new_coeffs = cat(poly2.coeffs,zero_pad,dims=1)\n",
    "        new_poly = ConstructMyPolynomial(new_coeffs,poly2.p)\n",
    "        return (poly1,new_poly)\n",
    "    else \n",
    "        zero_pad = zeros_poly(len2-len1,p)\n",
    "        new_coeffs = cat(poly1.coeffs,zero_pad,dims=1)\n",
    "        new_poly = ConstructMyPolynomial(new_coeffs,poly1.p)\n",
    "        return (new_poly,poly2)\n",
    "    end\n",
    "end\n",
    "\n",
    "function Base.:mod(poly::MyPolynomial,p::Int)\n",
    "    new_coeffs = [mod(i,p) for i in poly.coeffs]\n",
    "    return ConstructMyPolynomial(new_coeffs,p)\n",
    "end\n",
    "\n",
    "function Base.:mod(poly1::MyPolynomial,poly2::MyPolynomial)\n",
    "    return divrem(poly1,poly2)[2]\n",
    "end\n",
    "\n",
    "function Base.:length(poly::MyPolynomial)\n",
    "    return length(poly.coeffs)\n",
    "end\n",
    "\n",
    "function zeros_poly(num::Int, p::Int)\n",
    "    zero_poly = ConstructMyPolynomial([0],p)\n",
    "    z = []\n",
    "    for i in 1:num\n",
    "        push!(z,zero_poly)\n",
    "    end\n",
    "    return z\n",
    "end\n",
    "\n",
    "function ones_poly(num::Int, p::Int)\n",
    "    one_poly = ConstructMyPolynomial([1],p)\n",
    "    z = []\n",
    "    for i in 1:num\n",
    "        push!(z,one_poly)\n",
    "    end\n",
    "    return z\n",
    "end\n",
    "\n",
    "function Base.:fill(poly::MyPolynomial, num::Int)\n",
    "    poly = remove_top_zeros(poly)\n",
    "    z = []\n",
    "    for i in 1:num\n",
    "        push!(z,poly)\n",
    "    end\n",
    "    return z\n",
    "end\n",
    "\n",
    "function Base.:+(poly1::MyPolynomial, poly2::MyPolynomial)\n",
    "    p = poly1.p\n",
    "    poly1 = remove_top_zeros(poly1)\n",
    "    poly2 = remove_top_zeros(poly2)\n",
    "\n",
    "    poly1,poly2 = make_same_length(poly1,poly2)\n",
    "\n",
    "    new_coeffs = poly1.coeffs + poly2.coeffs\n",
    "    return remove_top_zeros(ConstructMyPolynomial(new_coeffs,p))\n",
    "end\n",
    "\n",
    "function Base.:*(poly::MyPolynomial, num::Int)\n",
    "    p = poly.p\n",
    "    new_coeffs = [mod(i,p) for i in (poly.coeffs * num)]\n",
    "    return remove_top_zeros(ConstructMyPolynomial(new_coeffs,p))\n",
    "end\n",
    "\n",
    "function Base.:*(num::Int, poly::MyPolynomial)\n",
    "    return poly * num\n",
    "end\n",
    "\n",
    "function Base.:-(poly1::MyPolynomial, poly2::MyPolynomial)\n",
    "    return poly1 + (-1 * poly2)\n",
    "end\n",
    "\n",
    "function Base.:*(poly1::MyPolynomial{Int}, poly2::MyPolynomial{Int})\n",
    "    p = poly1.p\n",
    "    poly1 = remove_top_zeros(poly1)\n",
    "    poly2 = remove_top_zeros(poly2)\n",
    "\n",
    "    c1 = poly1.coeffs\n",
    "    c2 = poly2.coeffs\n",
    "    m = length(c1)\n",
    "    n = length(c2)\n",
    "\n",
    "    new_coeffs = zeros(Int,m+n-1)\n",
    "    for i in 1:m\n",
    "        for j in 1:n\n",
    "            new_coeffs[i+j-1] += c1[i]*c2[j]\n",
    "        end\n",
    "    end\n",
    "\n",
    "    return remove_top_zeros(ConstructMyPolynomial(new_coeffs,p))\n",
    "end\n",
    "\n",
    "function Base.:*(poly1::MyPolynomial{MyPolynomial{Int}}, poly2::MyPolynomial{MyPolynomial{Int}})\n",
    "    p = poly1.p\n",
    "    poly1 = remove_top_zeros(poly1)\n",
    "    poly2 = remove_top_zeros(poly2)\n",
    "\n",
    "    c1 = poly1.coeffs\n",
    "    c2 = poly2.coeffs\n",
    "    m = length(c1)\n",
    "    n = length(c2)\n",
    "\n",
    "    new_coeffs = zeros_poly(m+n-1,p)\n",
    "    for i in 1:m\n",
    "        for j in 1:n\n",
    "            new_coeffs[i+j-1] += c1[i]*c2[j]\n",
    "        end\n",
    "    end\n",
    "\n",
    "    return remove_top_zeros(ConstructMyPolynomial(new_coeffs,p))\n",
    "end\n",
    "\n",
    "function Base.:^(poly::MyPolynomial, num::Int)\n",
    "    if num == 0\n",
    "        return ConstructMyPolynomial([1],poly.p)\n",
    "    end\n",
    "    \n",
    "    poly_acc = ConstructMyPolynomial(poly.coeffs,poly.p)\n",
    "    for i in 2:num\n",
    "        poly_acc = poly_acc * poly\n",
    "    end\n",
    "    return poly_acc\n",
    "end\n",
    "\n",
    "function Base.:(==)(poly1::MyPolynomial,poly2::MyPolynomial)\n",
    "    return poly1.coeffs == poly2.coeffs\n",
    "end\n",
    "\n",
    "function Base.:(!=)(poly1::MyPolynomial,poly2::MyPolynomial)\n",
    "    return poly1.coeffs != poly2.coeffs\n",
    "end\n",
    "\n",
    "function Base.:zero(x::MyPolynomial{Int})\n",
    "    return ConstructMyPolynomial([0],x.p)\n",
    "end\n",
    "\n",
    "function Base.:one(x::MyPolynomial{Int})\n",
    "    return ConstructMyPolynomial([1],x.p)\n",
    "end\n",
    "\n",
    "function Base.:divrem(poly1::MyPolynomial{Int}, poly2::MyPolynomial{Int})\n",
    "    p = poly1.p\n",
    "    poly1 = remove_top_zeros(poly1)\n",
    "    poly2 = remove_top_zeros(poly2)\n",
    "\n",
    "    num = poly1.coeffs\n",
    "    den = poly2.coeffs\n",
    "\n",
    "    if length(num) >= length(den)\n",
    "        # Shift denominator to the right to match degree of numerator.\n",
    "        shiftamount = length(num) - length(den)\n",
    "        den = append!(zeros(Int,shiftamount),den)\n",
    "    else\n",
    "        # This is the case where degree of denominator > degree of numerator.\n",
    "        # Results in zero quotient and the numerator being the remainder.\n",
    "        return (ConstructMyPolynomial([0],p),remove_top_zeros(ConstructMyPolynomial(num,p)),)\n",
    "    end\n",
    "\n",
    "    quotient = []\n",
    "    divisor = last(den)\n",
    "\n",
    "    for i in 1:(shiftamount+1)\n",
    "        #Get the next coefficient of the quotient.\n",
    "        mult = modulo_div(last(num),divisor,p)\n",
    "        quotient = append!([mult],quotient)\n",
    "        \n",
    "        if mult != 0\n",
    "            d = [mult * u for u in den]\n",
    "            for i in 1:length(num)\n",
    "                num[i] = mod((num[i] - d[i]),p)\n",
    "            end\n",
    "        end\n",
    "        \n",
    "        pop!(num)\n",
    "        popfirst!(den)\n",
    "    end\n",
    "\n",
    "    return (remove_top_zeros(ConstructMyPolynomial(quotient,p)),remove_top_zeros(ConstructMyPolynomial(num,p)))\n",
    "\n",
    "end\n",
    "\n",
    "function Base.:divrem(poly1::MyPolynomial{MyPolynomial{Int}}, poly2::MyPolynomial{MyPolynomial{Int}})\n",
    "    p = poly1.p\n",
    "    poly1 = remove_top_zeros(poly1)\n",
    "    poly2 = remove_top_zeros(poly2)\n",
    "\n",
    "    num = poly1.coeffs\n",
    "    den = poly2.coeffs\n",
    "\n",
    "    if length(num) >= length(den)\n",
    "        # Shift denominator to the right to match degree of numerator.\n",
    "        shiftamount = length(num) - length(den)\n",
    "        den = append!(zeros_poly(shiftamount,p),den)\n",
    "    else\n",
    "        # This is the case where degree of denominator > degree of numerator.\n",
    "        # Results in zero quotient and the numerator being the remainder.\n",
    "        return (ConstructMyPolynomial([0],p),remove_top_zeros(ConstructMyPolynomial(num,p)))\n",
    "    end\n",
    "\n",
    "    quotient = []\n",
    "    divisor = last(den)\n",
    "\n",
    "    for i in 1:(shiftamount+1)\n",
    "        #Get the next coefficient of the quotient.\n",
    "        mult = divrem(last(num),divisor)[1]\n",
    "        quotient = append!([mult],quotient)\n",
    "        \n",
    "        if mult != 0\n",
    "            d = [mult * u for u in den]\n",
    "            for i in 1:length(num)\n",
    "                num[i] = mod((num[i] - d[i]),p)\n",
    "            end\n",
    "        end\n",
    "        \n",
    "        pop!(num)\n",
    "        popfirst!(den)\n",
    "    end\n",
    "\n",
    "    return (remove_top_zeros(ConstructMyPolynomial(quotient,p)),remove_top_zeros(ConstructMyPolynomial(num,p)),)\n",
    "\n",
    "end\n",
    "\n",
    "function Base.:powermod(poly::MyPolynomial, num::Int, f::MyPolynomial)\n",
    "    if num == 0\n",
    "        return ConstructMyPolynomial([1],poly.p)\n",
    "    end\n",
    "    f = remove_top_zeros(f)\n",
    "    poly_acc = remove_top_zeros(poly)\n",
    "    for i in 2:num\n",
    "        poly_acc = divrem(poly_acc * poly,f)[2]\n",
    "    end\n",
    "    return poly_acc\n",
    "end\n",
    "\n",
    "function Base.:string(poly::MyPolynomial{Int},var::Char)\n",
    "    poly = remove_top_zeros(poly)\n",
    "    coeffs = poly.coeffs\n",
    "    i = 0\n",
    "    s = string(first(coeffs))\n",
    "    for i in 2:length(coeffs)\n",
    "        s = string(s,\" + (\",coeffs[i],var,\"^\",i-1,\")\")\n",
    "    end\n",
    "    return s\n",
    "end\n",
    "\n",
    "function derivative(poly::MyPolynomial{Int})\n",
    "    coeffs = poly.coeffs\n",
    "    p = poly.p\n",
    "    new_coeffs = []\n",
    "\n",
    "    for i in 2:length(coeffs)\n",
    "        push!(new_coeffs,(i-1)*coeffs[i])\n",
    "    end\n",
    "    return remove_top_zeros(ConstructMyPolynomial(new_coeffs,p))\n",
    "end\n",
    "\n",
    "\n",
    "function evaluate(poly::MyPolynomial{Int},x::Int)\n",
    "    coeffs = poly.coeffs\n",
    "    p = poly.p\n",
    "    val = 0\n",
    "    for i in 1:length(coeffs)\n",
    "        val += coeffs[i] * x^(i-1)\n",
    "    end\n",
    "    return mod(val,p)\n",
    "end\n",
    "\n",
    "function Base.:string(poly::MyPolynomial{MyPolynomial{Int}},var::Char)\n",
    "    poly = remove_top_zeros(poly)\n",
    "    coeffs = poly.coeffs\n",
    "    i = 0\n",
    "    s = string(first(coeffs),var)\n",
    "    for i in 2:length(coeffs)\n",
    "        s = string(s,\" + [\",string(coeffs[i],var),\"]\",var,\"^\",i-1)\n",
    "    end\n",
    "    return s\n",
    "end\n",
    "\n",
    "function Base.:print(poly::MyPolynomial,var::Char)\n",
    "    println(string(poly,var))\n",
    "end\n",
    "\n",
    "a_int = ConstructMyPolynomial([1,1,1],3)\n",
    "b_int = ConstructMyPolynomial([1,2,0],3)\n",
    "c_int = ConstructMyPolynomial([1,2,2],3)\n",
    "\n",
    "a_poly = ConstructMyPolynomial([a_int,b_int],3)\n",
    "b_poly = ConstructMyPolynomial([a_int,c_int],3)\n",
    "c_poly = ConstructMyPolynomial([c_int],3)\n",
    "f = ConstructMyPolynomial([1,1,0,0,1],2)\n",
    "\n",
    "powermod(ConstructMyPolynomial([0,1],2),9,f)\n",
    "\n",
    "mod(ConstructMyPolynomial([0,1,0,1],2),f)"
   ]
  },
  {
   "cell_type": "markdown",
   "metadata": {},
   "source": [
    "## 3.1 RS Codes on $\\mathbb{F}_p$ (50%)"
   ]
  },
  {
   "cell_type": "markdown",
   "metadata": {},
   "source": [
    "### 3.1.1 RS Codes on $\\mathbb{F}_{17}$\n",
    "\n",
    "1. In $\\mathbb{F}_{17}$, find a primitive element $\\alpha$. \n",
    "2. Let $\\mathcal{C} \\subset \\mathbb{F}_{17}^{16}$ be an RS code with parameters $[16,k,7]$. What is the value of $k$? \n",
    "3. Design and implement an encoding function `RSNum_Enc` that encodes a message $\\boldsymbol{m} \\in \\mathbb{F}_{17}^k$ to a codeword $\\boldsymbol{c} \\in \\mathcal{C}$. \n",
    "4. Let $\\boldsymbol{y} = \\boldsymbol{c} + \\boldsymbol{e}$ be the received word where the channel introduces $t = \\lfloor \\frac{d-1}{2}\\rfloor$ errors in random places. Design and implement a function `RSNum_Channel` for this. Julia function `StatsBase > Sample` can be helpful in randomly chose error locations.\n",
    "5. Design and implement a function `RSNum_Syndrome` to calculate the syndrome vector and the syndrome polynomial from the received word $\\boldsymbol{y}$. \n",
    "6. Design and implement a function `RSNum_KeyPolys` to find error locator polynomial $L(z)$ and error evaluator polynomial $E(z)$ from the syndrome polynomial $S(z)$. \n",
    "7. Design and implement a function `RSNum_Err` to find the estimated error vector $\\hat{\\boldsymbol{e}}$ and the estimated codeword $\\hat{\\boldsymbol{c}}$.\n",
    "8. Design and implement a function `RSNum_Message` to find the estimated message $\\hat{\\boldsymbol{m}}$. \n",
    "9. Implement a function `RSNum_Dec` which uses the functions in Steps 5-8 as sub-routines for decoding.  \n",
    "\n",
    "Provide necessary documentation."
   ]
  },
  {
   "cell_type": "markdown",
   "metadata": {},
   "source": [
    "#### 1. Find a Primitive Element $\\alpha$\n",
    "\n",
    "We use the function `find_primitve(p)`, which returns an array of all primitive elements in the finite field. We then pick one at random to be our $\\alpha$."
   ]
  },
  {
   "cell_type": "code",
   "execution_count": 4,
   "metadata": {},
   "outputs": [
    {
     "data": {
      "text/plain": [
       "8-element Vector{Any}:\n",
       "  3\n",
       "  5\n",
       "  6\n",
       "  7\n",
       " 10\n",
       " 11\n",
       " 12\n",
       " 14"
      ]
     },
     "execution_count": 4,
     "metadata": {},
     "output_type": "execute_result"
    }
   ],
   "source": [
    "function is_primitive_element(element,p)\n",
    "    if modExpo(p,element,p-1) != 1\n",
    "        return false\n",
    "    end\n",
    "\n",
    "    # Using ord(β) | p-1 for Fₚ.\n",
    "    # Using p instead of q as p = q for integer ring finite fields.\n",
    "    # We only need to check powers that are factors of p-1.\n",
    "    factors = []\n",
    "    for i in 2:isqrt(p-1)\n",
    "        quot,rem = divrem(p-1,i)\n",
    "        if rem == 0\n",
    "            append!(factors,[i,quot])\n",
    "        end\n",
    "    end\n",
    "    \n",
    "    for t in factors\n",
    "        if modExpo(p,element,t) == 1\n",
    "            return false\n",
    "        end\n",
    "    end\n",
    "    return true\n",
    "end\n",
    "\n",
    "# Find primitive elements for finite field Fₚ\n",
    "function find_primitive(p)\n",
    "    field = collect(0:p-1)\n",
    "    prim_els = []\n",
    "    for a in field\n",
    "        if is_primitive_element(a,p)\n",
    "            push!(prim_els,a)\n",
    "        end\n",
    "    end\n",
    "    return prim_els\n",
    "end\n",
    "\n",
    "find_primitive(17)"
   ]
  },
  {
   "cell_type": "code",
   "execution_count": 5,
   "metadata": {},
   "outputs": [
    {
     "name": "stdout",
     "output_type": "stream",
     "text": [
      "α = 12\n"
     ]
    },
    {
     "data": {
      "text/plain": [
       "12"
      ]
     },
     "execution_count": 5,
     "metadata": {},
     "output_type": "execute_result"
    }
   ],
   "source": [
    "# Define the prime number for our Finite Field\n",
    "p = 17\n",
    "\n",
    "# Get all primitive elements in that Finite Field\n",
    "prim_els = find_primitive(p)\n",
    "\n",
    "# Pick a primitive element at random to be α\n",
    "α = prim_els[rand(1:length(prim_els))]\n",
    "@show α"
   ]
  },
  {
   "cell_type": "markdown",
   "metadata": {},
   "source": [
    "#### 2. What is the value of $k$?\n",
    "\n",
    "RS Codes are defined by three parameters: **$[n,k,d]$**, where $d = n - k + 1$.\n",
    "\n",
    "Taking the RS Code given in the question:  **$[16,k,7]$**, we can see that $n = 16$ and $n - k + 1 = 7$. \n",
    "\n",
    "We can substitute in $n = 16$ to get: $16 - k + 1 = 7$. Solving this equation yields **$k = 10$**."
   ]
  },
  {
   "cell_type": "code",
   "execution_count": 6,
   "metadata": {},
   "outputs": [
    {
     "data": {
      "text/plain": [
       "7"
      ]
     },
     "execution_count": 6,
     "metadata": {},
     "output_type": "execute_result"
    }
   ],
   "source": [
    "# Define the values of [n,k,d]\n",
    "n = 16\n",
    "k = 10\n",
    "d = 7"
   ]
  },
  {
   "cell_type": "markdown",
   "metadata": {},
   "source": [
    "#### 3. RS Encoding"
   ]
  },
  {
   "cell_type": "code",
   "execution_count": 7,
   "metadata": {},
   "outputs": [
    {
     "data": {
      "text/plain": [
       "generator_matrix"
      ]
     },
     "execution_count": 7,
     "metadata": {},
     "output_type": "execute_result"
    }
   ],
   "source": [
    "# Helper Functions for RS Encoding\n",
    "\n",
    "\"\"\"\n",
    "generator_matrix(p,α,n,k)\n",
    "\n",
    "Args:\n",
    "p: The prime number that defines the Finite Field Fₚ\n",
    "α: The chosen primitive element from Fₚ\n",
    "n: The length of the code\n",
    "k: The length of the message\n",
    "\n",
    "Returns:\n",
    "A k×n matrix of type Matrix{Int} which is the generator matrix of the RS Code [n,k,d]\n",
    "\"\"\"\n",
    "function generator_matrix(p,α,n,k)\n",
    "    # First row of the matrix will always be n 1s, so generate that\n",
    "    gen_mat = ones(Int,1,n)\n",
    "    \n",
    "    for i in 1:k-1\n",
    "        # Calculate the defining element for that row (αⁱ, where i goes up to k)\n",
    "        αⁱ = modExpo(p,α,i)\n",
    "        row = fill(αⁱ,1,n)\n",
    "        for j in 1:n\n",
    "            # Mulitply the defining element for the given row by ascending powers up to n\n",
    "            row[j] = modExpo(p,row[j],j-1)\n",
    "        end\n",
    "        # Add the new row to the bottom of the matrix\n",
    "        gen_mat = vcat(gen_mat,row)\n",
    "    end\n",
    "    return gen_mat\n",
    "end\n"
   ]
  },
  {
   "cell_type": "code",
   "execution_count": 8,
   "metadata": {},
   "outputs": [
    {
     "data": {
      "text/plain": [
       "RSNum_Enc (generic function with 1 method)"
      ]
     },
     "execution_count": 8,
     "metadata": {},
     "output_type": "execute_result"
    }
   ],
   "source": [
    "\"\"\"\n",
    "RSNum_Enc(message,p,α,n,k)\n",
    "\n",
    "Args:\n",
    "message: Matrix{Int} of dimension 1×k containing the message\n",
    "p: The prime number that defines the Finite Field Fₚ\n",
    "α: The chosen primitive element from Fₚ\n",
    "n: The length of the code\n",
    "k: The length of the message\n",
    "\n",
    "Returns:\n",
    "A 1×n matrix of type Matrix{Int}, which is the encoded message\n",
    "\"\"\"\n",
    "\n",
    "function RSNum_Enc(message,p,α,n,k)\n",
    "    if typeof(message) != Matrix{Int}\n",
    "        println(\"Please enter message in the format of a 1×k matrix\")\n",
    "        println(\"Type of message should be Matrix{Int}, not $(typeof(message))\")\n",
    "        return -1\n",
    "    end\n",
    "    if length(message) != k\n",
    "        println(\"Length of message should be $k, which is the value of k provided\")\n",
    "        return -1\n",
    "    end\n",
    "\n",
    "    # Ensure each element in our message is in Fₚ\n",
    "    # If not then, perform modulo to make it comply\n",
    "    message = [mod(i,p) for i in message]\n",
    "\n",
    "    # Calculate the Generator Matrix for the given parameters\n",
    "    G = generator_matrix(p,α,n,k)\n",
    "\n",
    "    # Calculate the code by multiplying the message and the generator matrix\n",
    "    code = message * G\n",
    "    code = [mod(i,p) for i in code]\n",
    "\n",
    "    return code\n",
    "\n",
    "end"
   ]
  },
  {
   "cell_type": "code",
   "execution_count": 9,
   "metadata": {},
   "outputs": [
    {
     "data": {
      "text/plain": [
       "1×16 Matrix{Int64}:\n",
       " 9  5  16  8  9  14  0  16  14  9  15  8  0  1  10  12"
      ]
     },
     "execution_count": 9,
     "metadata": {},
     "output_type": "execute_result"
    }
   ],
   "source": [
    "# Test: Encode a message\n",
    "message = [7 3 8 7 1 9 4 4 0 0]\n",
    "codeword = RSNum_Enc(message,p,α,n,k)"
   ]
  },
  {
   "cell_type": "markdown",
   "metadata": {},
   "source": [
    "#### 4. Simulating the Channel"
   ]
  },
  {
   "cell_type": "code",
   "execution_count": 10,
   "metadata": {},
   "outputs": [
    {
     "data": {
      "text/plain": [
       "RSNum_Channel (generic function with 1 method)"
      ]
     },
     "execution_count": 10,
     "metadata": {},
     "output_type": "execute_result"
    }
   ],
   "source": [
    "\"\"\"\n",
    "RSNum_Channel(code,p,n,d)\n",
    "\n",
    "Args:\n",
    "code: Matrix{Int} of dimension 1×n, the codeword to be transmitted accross the channel\n",
    "p: The prime number that defines the Finite Field Fₚ\n",
    "n: The length of the code\n",
    "d: d as defined for the RS Code\n",
    "\n",
    "Returns:\n",
    "A 1×n matrix of type Matrix{Int}, which is the codeword with error introduced\n",
    "\"\"\"\n",
    "\n",
    "function RSNum_Channel(code,p,n,d)\n",
    "    # Maximum number of errors\n",
    "    t::Int = floor((d-1)/2)\n",
    "\n",
    "    # Randomly choose t unique locations of the errors\n",
    "    I = sample((1:n),t,replace=false)\n",
    "    @show I\n",
    "    # Build error vector, which has non-zero elements at eᵢ where i∈I\n",
    "    e = []\n",
    "    for i in 1:n\n",
    "        if i in I\n",
    "            push!(e,rand(1:p))\n",
    "        else\n",
    "            push!(e,0)\n",
    "        end\n",
    "    end\n",
    "\n",
    "    # Convert e from type Vector{Int} to Matrix{Int}\n",
    "    # This makes it the same type and shape as the code, allowing for addition\n",
    "    e = reshape(e,1,n)\n",
    "    @show e\n",
    "    # Add error to the code\n",
    "    changed_code = code + e\n",
    "    changed_code = [mod(i,p) for i in changed_code]\n",
    "\n",
    "    return changed_code\n",
    "end\n"
   ]
  },
  {
   "cell_type": "code",
   "execution_count": 11,
   "metadata": {},
   "outputs": [
    {
     "name": "stdout",
     "output_type": "stream",
     "text": [
      "I = [5, 13, 9]\n",
      "e = Any[0 0 0 0 9 0 0 0 5 0 0 0 10 0 0 0]\n"
     ]
    },
    {
     "data": {
      "text/plain": [
       "1×16 Matrix{Int64}:\n",
       " 9  5  16  8  1  14  0  16  2  9  15  8  10  1  10  12"
      ]
     },
     "execution_count": 11,
     "metadata": {},
     "output_type": "execute_result"
    }
   ],
   "source": [
    "# Test: Transmit codeword through channel\n",
    "received = RSNum_Channel(codeword,p,n,d)"
   ]
  },
  {
   "cell_type": "markdown",
   "metadata": {},
   "source": [
    "#### 5. Syndrome Vector and Polynomial"
   ]
  },
  {
   "cell_type": "code",
   "execution_count": 12,
   "metadata": {},
   "outputs": [
    {
     "data": {
      "text/plain": [
       "6×16 Matrix{Int64}:\n",
       " 1  12   8  11  13   3   2   7  16   5   9   6   4  14  15  10\n",
       " 1   8  13   2  16   9   4  15   1   8  13   2  16   9   4  15\n",
       " 1  11   2   5   4  10   8   3  16   6  15  12  13   7   9  14\n",
       " 1  13  16   4   1  13  16   4   1  13  16   4   1  13  16   4\n",
       " 1   3   9  10  13   5  15  11  16  14   8   7   4  12   2   6\n",
       " 1   2   4   8  16  15  13   9   1   2   4   8  16  15  13   9"
      ]
     },
     "execution_count": 12,
     "metadata": {},
     "output_type": "execute_result"
    }
   ],
   "source": [
    "# Helper functions\n",
    "\n",
    "\"\"\"\n",
    "parity_check_matrix(p,α,n,k)\n",
    "\n",
    "Args:\n",
    "p: The prime number that defines the Finite Field Fₚ\n",
    "α: The chosen primitive element from Fₚ\n",
    "n: The length of the code\n",
    "k: The length of the message\n",
    "\n",
    "Returns:\n",
    "A (n-k)×n matrix of type Matrix{Int} which is the parity-check matrix of the RS Code [n,k,d]\n",
    "\n",
    "\"\"\"\n",
    "\n",
    "function parity_check_matrix(p,α,n,k)\n",
    "    pc_mat = zeros(Int,n-k,n)\n",
    "    for i in 1:n-k\n",
    "        # Calculate the defining element for that row (αⁱ, where i goes up to k)\n",
    "        αⁱ = modExpo(p,α,i)\n",
    "        row = fill(αⁱ,1,n)\n",
    "        for j in 1:n\n",
    "            # Multiply the defining element for the given row by ascending powers up to n\n",
    "            pc_mat[i+(j-1)*(n-k)] = modExpo(p,row[j],j-1)\n",
    "        end\n",
    "    end\n",
    "    return pc_mat\n",
    "end\n",
    "\n",
    "parity_check_matrix(p,α,n,k)\n"
   ]
  },
  {
   "cell_type": "code",
   "execution_count": 13,
   "metadata": {},
   "outputs": [
    {
     "data": {
      "text/plain": [
       "1×6 Matrix{Int64}:\n",
       " 0  0  0  0  0  0"
      ]
     },
     "execution_count": 13,
     "metadata": {},
     "output_type": "execute_result"
    }
   ],
   "source": [
    "# Verifying that the identity GHᵀ = 0 holds\n",
    "# Done to test generator_matrix and parity_check_matrix functions\n",
    "G = generator_matrix(p,α,n,k)\n",
    "H = parity_check_matrix(p,α,n,k)\n",
    "\n",
    "A = G * transpose(H)\n",
    "A = [mod(i,p) for i in A]\n",
    "\n",
    "C = codeword * transpose(H)\n",
    "C = [mod(i,p) for i in C]\n"
   ]
  },
  {
   "cell_type": "code",
   "execution_count": 14,
   "metadata": {},
   "outputs": [
    {
     "data": {
      "text/plain": [
       "RSNum_Syndrome (generic function with 1 method)"
      ]
     },
     "execution_count": 14,
     "metadata": {},
     "output_type": "execute_result"
    }
   ],
   "source": [
    "function RSNum_Syndrome(changed_code,p,α,n,k)\n",
    "    # Calculate the parity-check Matrix\n",
    "    H = parity_check_matrix(p,α,n,k)\n",
    "\n",
    "    # Calculate syndrome vector\n",
    "    syndrome_vector = changed_code * transpose(H)\n",
    "    syndrome_vector = [mod(i,p) for i in syndrome_vector]\n",
    "\n",
    "    # Return the syndrome vector and syndrome polynomial\n",
    "    return (syndrome_vector,ConstructMyPolynomial(vec(syndrome_vector),p))\n",
    "end"
   ]
  },
  {
   "cell_type": "code",
   "execution_count": 15,
   "metadata": {},
   "outputs": [
    {
     "name": "stdout",
     "output_type": "stream",
     "text": [
      "Syndrome Vector: [16 3 8 7 16 3]\n",
      "Syndrome Polynomial S(z) = 16 + (3z^1) + (8z^2) + (7z^3) + (16z^4) + (3z^5)\n"
     ]
    }
   ],
   "source": [
    "# Test: Calculate Syndrome Vector/Polynomial from Received Codeword\n",
    "s_vector,s_poly = RSNum_Syndrome(received,p,α,n,k)\n",
    "println(\"Syndrome Vector: \", s_vector)\n",
    "println(\"Syndrome Polynomial S(z) = \", string(s_poly,'z'))"
   ]
  },
  {
   "cell_type": "markdown",
   "metadata": {},
   "source": [
    "#### 6. Error Locator Polynomial and Error Evaluator Polynomial"
   ]
  },
  {
   "cell_type": "code",
   "execution_count": 16,
   "metadata": {},
   "outputs": [
    {
     "data": {
      "text/plain": [
       "(MyPolynomial{Int64}([11, 4, 8, 9], 3, 17), MyPolynomial{Int64}([6, 9], 1, 17), MyPolynomial{Int64}([6, 14, 14], 2, 17))"
      ]
     },
     "execution_count": 16,
     "metadata": {},
     "output_type": "execute_result"
    }
   ],
   "source": [
    "# Helper functions\n",
    "\n",
    "function partial_euclidean_algorithm(a::MyPolynomial,b::MyPolynomial,stop::Int)\n",
    "    p = a.p\n",
    "    a = remove_top_zeros(a)\n",
    "    b = remove_top_zeros(b)\n",
    "\n",
    "    x0,x1 = ConstructMyPolynomial([1],p),ConstructMyPolynomial([0],p)\n",
    "    y0,y1 = ConstructMyPolynomial([0],p),ConstructMyPolynomial([1],p)\n",
    "\n",
    "    if b == ConstructMyPolynomial([0],p)\n",
    "        return (a,x0,y0)\n",
    "    end\n",
    "\n",
    "    r = b\n",
    "\n",
    "    last_run = false\n",
    "\n",
    "     while r.order > stop || !last_run\n",
    "        if r.order <= stop\n",
    "            last_run = true\n",
    "        end\n",
    "        q,r = divrem(a,b)\n",
    "        #@show q,r\n",
    "        a = b\n",
    "        b = r\n",
    "\n",
    "        x0, x1 = x1, x0 - q*x1\n",
    "        y0, y1 = y1, y0 - q*y1\n",
    "    end\n",
    "    return (a,x0,y0)\n",
    "end\n",
    "    \n",
    "t = Int(floor((d+1)/2))\n",
    "poly_b = ConstructMyPolynomial(append!(zeros(Int,d-1),[1]),p)\n",
    "\n",
    "partial_euclidean_algorithm(poly_b,s_poly,t-1)\n"
   ]
  },
  {
   "cell_type": "code",
   "execution_count": 17,
   "metadata": {},
   "outputs": [
    {
     "data": {
      "text/plain": [
       "RSNum_KeyPolys (generic function with 1 method)"
      ]
     },
     "execution_count": 17,
     "metadata": {},
     "output_type": "execute_result"
    }
   ],
   "source": [
    "function RSNum_KeyPolys(s_poly,p,α,n,d)\n",
    "    t::Int = floor((d-1)/2)\n",
    "    z = ConstructMyPolynomial(append!(zeros(Int,d-1),[1]),p)\n",
    "    r,b,a = partial_euclidean_algorithm(z,s_poly,t-1)\n",
    "\n",
    "    E_prime = divrem(r,z)[2]\n",
    "    L_prime = divrem(a,z)[2]\n",
    "\n",
    "    c_inv = modulo_div(1,last(L_prime.coeffs),p)\n",
    "\n",
    "    L = L_prime * c_inv\n",
    "    E = E_prime * c_inv\n",
    "\n",
    "    return L,E\n",
    "end\n"
   ]
  },
  {
   "cell_type": "code",
   "execution_count": 18,
   "metadata": {},
   "outputs": [
    {
     "data": {
      "text/plain": [
       "(MyPolynomial{Int64}([1, 1, 1, 1], 3, 17), MyPolynomial{Int64}([16, 2, 10], 2, 17))"
      ]
     },
     "execution_count": 18,
     "metadata": {},
     "output_type": "execute_result"
    }
   ],
   "source": [
    "L,E = RSNum_KeyPolys(s_poly,p,α,n,d)"
   ]
  },
  {
   "cell_type": "markdown",
   "metadata": {},
   "source": [
    "#### 7. Estimating Error"
   ]
  },
  {
   "cell_type": "code",
   "execution_count": 19,
   "metadata": {},
   "outputs": [
    {
     "data": {
      "text/plain": [
       "error_values (generic function with 1 method)"
      ]
     },
     "execution_count": 19,
     "metadata": {},
     "output_type": "execute_result"
    }
   ],
   "source": [
    "# Helper Functions\n",
    "\n",
    "function error_locations(L,p,α,n)\n",
    "    I = []\n",
    "    for k in 0:n-1\n",
    "        if evaluate(L,modulo_div(1,α^k,p)) == 0\n",
    "            push!(I,k)\n",
    "        end\n",
    "    end\n",
    "    return I\n",
    "end\n",
    "\n",
    "function error_values(E,I,p,α)\n",
    "    dL = derivative(L)\n",
    "    ê = []\n",
    "    for k in 0:n-1\n",
    "        if k in I\n",
    "            α⁻ᵏ = modulo_div(1,α^k,p)\n",
    "            E_of_α⁻ᵏ = evaluate(E,α⁻ᵏ)\n",
    "            dL_of_α⁻ᵏ = evaluate(dL,α⁻ᵏ)\n",
    "            eₖ = mod(-1 *  modulo_div(E_of_α⁻ᵏ, dL_of_α⁻ᵏ,p),p)\n",
    "            push!(ê,eₖ)\n",
    "        else\n",
    "            push!(ê,0)\n",
    "        end\n",
    "    end\n",
    "    return reshape(ê,1,n)\n",
    "end\n"
   ]
  },
  {
   "cell_type": "code",
   "execution_count": 20,
   "metadata": {},
   "outputs": [
    {
     "data": {
      "text/plain": [
       "RSNum_Err (generic function with 1 method)"
      ]
     },
     "execution_count": 20,
     "metadata": {},
     "output_type": "execute_result"
    }
   ],
   "source": [
    "function RSNum_Err(L,E,p,α,n,received)\n",
    "    I = error_locations(L,p,α,n)\n",
    "    ê = error_values(E,I,p,α)\n",
    "    ĉ = [mod(i,p) for i in received - ê]\n",
    "\n",
    "    return ê,ĉ\n",
    "end"
   ]
  },
  {
   "cell_type": "code",
   "execution_count": 21,
   "metadata": {},
   "outputs": [
    {
     "name": "stdout",
     "output_type": "stream",
     "text": [
      "(ê, ĉ) = (Any[0 0 0 0 9 0 0 0 5 0 0 0 10 0 0 0], [9 5 16 8 9 14 0 16 14 9 15 8 0 1 10 12])\n"
     ]
    },
    {
     "data": {
      "text/plain": [
       "(Any[0 0 … 0 0], [9 5 … 10 12])"
      ]
     },
     "execution_count": 21,
     "metadata": {},
     "output_type": "execute_result"
    }
   ],
   "source": [
    "ê,ĉ = RSNum_Err(L,E,p,α,n,received)\n",
    "@show ê,ĉ"
   ]
  },
  {
   "cell_type": "markdown",
   "metadata": {},
   "source": [
    "#### RS Decoding"
   ]
  },
  {
   "cell_type": "code",
   "execution_count": 22,
   "metadata": {},
   "outputs": [
    {
     "data": {
      "text/plain": [
       "10×10 Matrix{MyPolynomial{Int64}}:\n",
       " MyPolynomial{Int64}([1], 0, 17)  …  MyPolynomial{Int64}([1], 0, 17)\n",
       " MyPolynomial{Int64}([1], 0, 17)     MyPolynomial{Int64}([5], 0, 17)\n",
       " MyPolynomial{Int64}([1], 0, 17)     MyPolynomial{Int64}([8], 0, 17)\n",
       " MyPolynomial{Int64}([1], 0, 17)     MyPolynomial{Int64}([6], 0, 17)\n",
       " MyPolynomial{Int64}([1], 0, 17)     MyPolynomial{Int64}([13], 0, 17)\n",
       " MyPolynomial{Int64}([1], 0, 17)  …  MyPolynomial{Int64}([14], 0, 17)\n",
       " MyPolynomial{Int64}([1], 0, 17)     MyPolynomial{Int64}([2], 0, 17)\n",
       " MyPolynomial{Int64}([1], 0, 17)     MyPolynomial{Int64}([10], 0, 17)\n",
       " MyPolynomial{Int64}([1], 0, 17)     MyPolynomial{Int64}([16], 0, 17)\n",
       " MyPolynomial{Int64}([1], 0, 17)     MyPolynomial{Int64}([12], 0, 17)"
      ]
     },
     "execution_count": 22,
     "metadata": {},
     "output_type": "execute_result"
    }
   ],
   "source": [
    "k = 10\n",
    "p = 17\n",
    "G_prime = []\n",
    "for i in 1:(k^2)\n",
    "    push!(G_prime,G[i])\n",
    "end\n",
    "G_prime = reshape(G_prime,k,k)\n",
    "G_prime = [ConstructMyPolynomial([i],p) for i in G_prime]\n",
    "\n",
    "#inv(G_prime)"
   ]
  },
  {
   "cell_type": "code",
   "execution_count": 23,
   "metadata": {},
   "outputs": [],
   "source": [
    "# function decode_corrected_code(ĉ,p,α,n,k)\n",
    "#     # Calculate Generator Matrix\n",
    "#     G = generator_matrix(p,α,n,k)\n",
    "#     G_prime = []\n",
    "#     for i in 1:(k^2)\n",
    "#         push!(G_prime,G[i])\n",
    "#     end\n",
    "#     G_prime = reshape(G_prime,k,k)\n",
    "#     G_prime = [ConstructMyPolynomial([i],p) for i in G_prime]\n",
    "#     code_prime = [ĉ[i] for i in 1:k]\n",
    "\n",
    "#     return code_prime * inv(G_prime)\n",
    "# end\n",
    "\n",
    "# decode_corrected_code(ĉ,p,α,n,k)\n",
    "\n",
    "    "
   ]
  },
  {
   "cell_type": "markdown",
   "metadata": {},
   "source": [
    "### 3.1.2 RS Codes on $\\mathbb{F}_{p}$\n",
    "\n",
    "The above code should work well for other choices of $p$, $\\alpha$, $[n,k,d]$. Try another $p$ with $30<p<100$ and demonstrate the correctness of your code. "
   ]
  },
  {
   "cell_type": "markdown",
   "metadata": {},
   "source": [
    "## 3.2 RS Codes on $\\mathbb{F}_{p^k}$ (50%)"
   ]
  },
  {
   "cell_type": "markdown",
   "metadata": {},
   "source": [
    "### 3.2.1 RS Codes on $\\mathbb{F}_{16}$\n",
    "\n",
    "Now we consider the finite field $\\mathbb{F}_{16} = \\mathbb{F}_2[z]/z^4 + z +1$, and an RS code $\\mathcal{C} \\subset \\mathbb{F}_{16}$ with parameters $[15,k,7]$. \n",
    "\n",
    "Repeat the steps in 3.1.1 and change the function names from `RSNum_...` to `RSPoly_...`. Provide necessary documentation. "
   ]
  },
  {
   "cell_type": "markdown",
   "metadata": {},
   "source": [
    "#### 1. Finding a primitive element $\\alpha$"
   ]
  },
  {
   "cell_type": "code",
   "execution_count": 24,
   "metadata": {},
   "outputs": [
    {
     "data": {
      "text/plain": [
       "8-element Vector{Any}:\n",
       " MyPolynomial{Int64}([0, 1], 1, 2)\n",
       " MyPolynomial{Int64}([0, 0, 1], 2, 2)\n",
       " MyPolynomial{Int64}([1, 1], 1, 2)\n",
       " MyPolynomial{Int64}([1, 1, 0, 1], 3, 2)\n",
       " MyPolynomial{Int64}([1, 0, 1], 2, 2)\n",
       " MyPolynomial{Int64}([0, 1, 1, 1], 3, 2)\n",
       " MyPolynomial{Int64}([1, 0, 1, 1], 3, 2)\n",
       " MyPolynomial{Int64}([1, 0, 0, 1], 3, 2)"
      ]
     },
     "execution_count": 24,
     "metadata": {},
     "output_type": "execute_result"
    }
   ],
   "source": [
    "function is_primitive_element(element,poly)\n",
    "    p = poly.p\n",
    "    poly = remove_top_zeros(poly)\n",
    "    element = remove_top_zeros(element)\n",
    "    q = p^poly.order # size of finite field q = pᵈ\n",
    "\n",
    "    element_acc = ConstructMyPolynomial(element.coeffs,element.p)\n",
    "    for t in 2:q\n",
    "        element_acc = element_acc * element\n",
    "        if divrem(element_acc,poly)[2] == ConstructMyPolynomial([1],p)\n",
    "            if t == q - 1\n",
    "                return true\n",
    "            else\n",
    "                return false\n",
    "            end\n",
    "        end\n",
    "    end\n",
    "end\n",
    "\n",
    "function find_primitive(poly)\n",
    "    poly = remove_top_zeros(poly)\n",
    "    p = poly.p\n",
    "    q = p^poly.order\n",
    "    prim_els = []\n",
    "\n",
    "    for i in 1:q-2\n",
    "        el = divrem(ConstructMyPolynomial(append!(zeros(Int,i),[1]),p),poly)[2]\n",
    "        #print(el,'x')\n",
    "        if is_primitive_element(el,poly)\n",
    "            push!(prim_els,el)\n",
    "        end\n",
    "    end\n",
    "\n",
    "    return prim_els\n",
    "end\n",
    "\n",
    "find_primitive(ConstructMyPolynomial([1,1,0,0,1],2))"
   ]
  },
  {
   "cell_type": "code",
   "execution_count": 25,
   "metadata": {},
   "outputs": [
    {
     "name": "stdout",
     "output_type": "stream",
     "text": [
      "1 + (0x^1) + (0x^2) + (1x^3)\n"
     ]
    }
   ],
   "source": [
    "# Define the Finite Field\n",
    "p = 2\n",
    "f = ConstructMyPolynomial([1,1,0,0,1],p)\n",
    "\n",
    "# Get all primitive elements in that Finite Field\n",
    "prim_els = find_primitive(f)\n",
    "\n",
    "# Pick a primitive element at random to be α\n",
    "α = prim_els[rand(1:length(prim_els))]\n",
    "print(α,'x')"
   ]
  },
  {
   "cell_type": "markdown",
   "metadata": {},
   "source": [
    "#### 2. What is the value of $k$?\n",
    "\n",
    "RS Codes are defined by three parameters: **$[n,k,d]$**, where $d = n - k + 1$.\n",
    "\n",
    "Taking the RS Code given in the question:  **$[16,k,7]$**, we can see that $n = 15$ and $n - k + 1 = 7$. \n",
    "\n",
    "We can substitute in $n = 15$ to get: $15 - k + 1 = 7$. Solving this equation yields **$k = 9$**."
   ]
  },
  {
   "cell_type": "code",
   "execution_count": 26,
   "metadata": {},
   "outputs": [
    {
     "data": {
      "text/plain": [
       "7"
      ]
     },
     "execution_count": 26,
     "metadata": {},
     "output_type": "execute_result"
    }
   ],
   "source": [
    "# Define the values of [n,k,d]\n",
    "n = 15\n",
    "k = 9\n",
    "d = 7"
   ]
  },
  {
   "cell_type": "markdown",
   "metadata": {},
   "source": [
    "#### 3. RS Encoding"
   ]
  },
  {
   "cell_type": "code",
   "execution_count": 27,
   "metadata": {},
   "outputs": [
    {
     "data": {
      "text/plain": [
       "9×15 Matrix{Any}:\n",
       " MyPolynomial{Int64}([1], 0, 2)  …  MyPolynomial{Int64}([1], 0, 2)\n",
       " MyPolynomial{Int64}([1], 0, 2)     MyPolynomial{Int64}([0, 1], 1, 2)\n",
       " MyPolynomial{Int64}([1], 0, 2)     MyPolynomial{Int64}([0, 0, 1], 2, 2)\n",
       " MyPolynomial{Int64}([1], 0, 2)     MyPolynomial{Int64}([0, 0, 0, 1], 3, 2)\n",
       " MyPolynomial{Int64}([1], 0, 2)     MyPolynomial{Int64}([1, 1], 1, 2)\n",
       " MyPolynomial{Int64}([1], 0, 2)  …  MyPolynomial{Int64}([0, 1, 1], 2, 2)\n",
       " MyPolynomial{Int64}([1], 0, 2)     MyPolynomial{Int64}([0, 0, 1, 1], 3, 2)\n",
       " MyPolynomial{Int64}([1], 0, 2)     MyPolynomial{Int64}([1, 1, 0, 1], 3, 2)\n",
       " MyPolynomial{Int64}([1], 0, 2)     MyPolynomial{Int64}([1, 0, 1], 2, 2)"
      ]
     },
     "execution_count": 27,
     "metadata": {},
     "output_type": "execute_result"
    }
   ],
   "source": [
    "# Helper Functions for RS Encoding\n",
    "\n",
    "\"\"\"\n",
    "generator_matrix_polu(p,f,α,n,k)\n",
    "\n",
    "Args:\n",
    "p: The prime number that defines the Finite Field Fq\n",
    "f: The polynomial that defines the Finite Field Fq\n",
    "α: The chosen primitive element from Fq\n",
    "n: The length of the code\n",
    "k: The length of the message\n",
    "\n",
    "Returns:\n",
    "A k×n matrix of type Matrix{MyPolynomial{Int}} which is the generator matrix of the RS Code [n,k,d]\n",
    "\"\"\"\n",
    "function generator_matrix_poly(p,f,α,n,k)\n",
    "    # First row of the matrix will always be n 1s, so generate that\n",
    "    gen_mat = reshape(ones_poly(n,p),1,n)\n",
    "    \n",
    "    for i in 1:k-1\n",
    "        # Calculate the defining element for that row (αⁱ, where i goes up to k)\n",
    "        αⁱ = powermod(α,i,f)\n",
    "        row = reshape(fill(αⁱ,n),1,n)\n",
    "        for j in 1:n\n",
    "            # Mulitply the defining element for the given row by ascending powers up to n\n",
    "            row[j] = powermod(row[j],j-1,f)\n",
    "        end\n",
    "        # Add the new row to the bottom of the matrix\n",
    "        gen_mat = vcat(gen_mat,row)\n",
    "    end\n",
    "    return gen_mat\n",
    "end\n",
    "\n",
    "generator_matrix_poly(2,f,α,n,k)\n"
   ]
  },
  {
   "cell_type": "code",
   "execution_count": 28,
   "metadata": {},
   "outputs": [
    {
     "data": {
      "text/plain": [
       "RSPoly_Enc (generic function with 1 method)"
      ]
     },
     "execution_count": 28,
     "metadata": {},
     "output_type": "execute_result"
    }
   ],
   "source": [
    "\"\"\"\n",
    "RSPoly_Enc(message,p,f,α,n,k)\n",
    "\n",
    "Args:\n",
    "message: Matrix{MyPolynomial{Int}} of dimension 1×k containing the message\n",
    "p: The prime number that defines the Finite Field Fq\n",
    "f: The polynomial that defines the Finite Field Fq\n",
    "α: The chosen primitive element from Fq\n",
    "n: The length of the code\n",
    "k: The length of the message\n",
    "\n",
    "Returns:\n",
    "A 1×n matrix of type Matrix{MyPolynomial{Int}}, which is the encoded message\n",
    "\"\"\"\n",
    "\n",
    "function RSPoly_Enc(message,p,f,α,n,k)\n",
    "    if typeof(message) != Matrix{MyPolynomial{Int}}\n",
    "        println(\"Please enter message in the format of a 1×k matrix\")\n",
    "        println(\"Type of message should be Matrix{MyPolynomial{Int}}, not $(typeof(message))\")\n",
    "        return -1\n",
    "    end\n",
    "    if length(message) != k\n",
    "        println(\"Length of message should be $k, which is the value of k provided\")\n",
    "        return -1\n",
    "    end\n",
    "\n",
    "    # Ensure each element in our message is in Fq\n",
    "    # If not then, perform modulo to make it comply\n",
    "    message = [mod(i,f) for i in message]\n",
    "\n",
    "    # Calculate the Generator Matrix for the given parameters\n",
    "    G = generator_matrix_poly(p,f,α,n,k)\n",
    "\n",
    "    # Calculate the code by multiplying the message and the generator matrix\n",
    "    code = message * G\n",
    "    code = [mod(i,f) for i in code]\n",
    "\n",
    "    return code\n",
    "\n",
    "end"
   ]
  },
  {
   "cell_type": "code",
   "execution_count": 29,
   "metadata": {},
   "outputs": [
    {
     "data": {
      "text/plain": [
       "1×15 Matrix{MyPolynomial{Int64}}:\n",
       " MyPolynomial{Int64}([0, 1, 0, 1], 3, 2)  …  MyPolynomial{Int64}([1, 0, 1], 2, 2)"
      ]
     },
     "execution_count": 29,
     "metadata": {},
     "output_type": "execute_result"
    }
   ],
   "source": [
    "# Test: Encode a message\n",
    "\n",
    "message = [\n",
    "            ConstructMyPolynomial([0,1],2),\n",
    "            ConstructMyPolynomial([0,0,1],2),\n",
    "            ConstructMyPolynomial([0,0,0,1],2),\n",
    "            ConstructMyPolynomial([0,1,1],2),\n",
    "            ConstructMyPolynomial([0,0,1,1],2),\n",
    "            ConstructMyPolynomial([1,0,1],2),\n",
    "            ConstructMyPolynomial([1,0,0,1],2),\n",
    "            ConstructMyPolynomial([1,0,1,1],2),\n",
    "            ConstructMyPolynomial([1,1,1,1],2)\n",
    "            ]\n",
    "\n",
    "message = reshape(message,1,k)\n",
    "\n",
    "codeword = RSPoly_Enc(message,p,f,α,n,k)"
   ]
  },
  {
   "cell_type": "markdown",
   "metadata": {},
   "source": [
    "#### 4. Simulating the Channel"
   ]
  },
  {
   "cell_type": "code",
   "execution_count": 30,
   "metadata": {},
   "outputs": [
    {
     "data": {
      "text/plain": [
       "16-element Vector{MyPolynomial{Int64}}:\n",
       " MyPolynomial{Int64}([0], 0, 2)\n",
       " MyPolynomial{Int64}([1], 0, 2)\n",
       " MyPolynomial{Int64}([0, 1], 1, 2)\n",
       " MyPolynomial{Int64}([0, 0, 1], 2, 2)\n",
       " MyPolynomial{Int64}([0, 0, 0, 1], 3, 2)\n",
       " MyPolynomial{Int64}([1, 1], 1, 2)\n",
       " MyPolynomial{Int64}([0, 1, 1], 2, 2)\n",
       " MyPolynomial{Int64}([0, 0, 1, 1], 3, 2)\n",
       " MyPolynomial{Int64}([1, 1, 0, 1], 3, 2)\n",
       " MyPolynomial{Int64}([1, 0, 1], 2, 2)\n",
       " MyPolynomial{Int64}([0, 1, 0, 1], 3, 2)\n",
       " MyPolynomial{Int64}([1, 1, 1], 2, 2)\n",
       " MyPolynomial{Int64}([0, 1, 1, 1], 3, 2)\n",
       " MyPolynomial{Int64}([1, 1, 1, 1], 3, 2)\n",
       " MyPolynomial{Int64}([1, 0, 1, 1], 3, 2)\n",
       " MyPolynomial{Int64}([1, 0, 0, 1], 3, 2)"
      ]
     },
     "execution_count": 30,
     "metadata": {},
     "output_type": "execute_result"
    }
   ],
   "source": [
    "# Helper Functions\n",
    "\n",
    "function finite_field_elements(p,f::MyPolynomial)\n",
    "    q = p^f.order\n",
    "    elements = [ConstructMyPolynomial([0],2),ConstructMyPolynomial([1],2)]\n",
    "    for i in 1:q-2\n",
    "        el = divrem(ConstructMyPolynomial(append!(zeros(Int,i),[1]),p),f)[2]\n",
    "        push!(elements,el)\n",
    "    end\n",
    "    return elements\n",
    "end\n",
    "\n",
    "finite_field_elements(2,ConstructMyPolynomial([1,1,0,0,1],2))"
   ]
  },
  {
   "cell_type": "code",
   "execution_count": 31,
   "metadata": {},
   "outputs": [
    {
     "data": {
      "text/plain": [
       "RSPoly_Channel (generic function with 1 method)"
      ]
     },
     "execution_count": 31,
     "metadata": {},
     "output_type": "execute_result"
    }
   ],
   "source": [
    "\"\"\"\n",
    "RSPoly_Channel(code,p,f,n,d)\n",
    "\n",
    "Args:\n",
    "code: Matrix{Int} of dimension 1×n, the codeword to be transmitted accross the channel\n",
    "p: The prime number that defines the Finite Field Fq\n",
    "f: The polynomial that defines the Finite Field Fq\n",
    "n: The length of the code\n",
    "d: d as defined for the RS Code\n",
    "\n",
    "Returns:\n",
    "A 1×n matrix of type Matrix{MyPolynomial{Int}}, which is the codeword with error introduced\n",
    "\"\"\"\n",
    "\n",
    "function RSPoly_Channel(code,p,f,n,d)\n",
    "\n",
    "    # q = pᵈ\n",
    "    q = p^f.order\n",
    "\n",
    "    # Maximum number of errors\n",
    "    t::Int = floor((d-1)/2)\n",
    "\n",
    "    # Find all elements in the Finite Field\n",
    "    ff_els = finite_field_elements(p,f)\n",
    "\n",
    "    # Randomly choose t unique locations of the errors\n",
    "    I = sample((1:n),t,replace=false)\n",
    "    @show I\n",
    "    # Build error vector, which has non-zero elements at eᵢ where i∈I\n",
    "    e = []\n",
    "    for i in 1:n\n",
    "        if i in I\n",
    "            push!(e,ff_els[rand(1:q)])\n",
    "        else\n",
    "            push!(e,ConstructMyPolynomial([0],2))\n",
    "        end\n",
    "    end\n",
    "\n",
    "    # Convert e from type Vector{MyPolynomial} to Matrix{MyPolynomial}\n",
    "    # This makes it the same type and shape as the code, allowing for addition\n",
    "    e = reshape(e,1,n)\n",
    "    @show e\n",
    "    # Add error to the code\n",
    "    changed_code = code + e\n",
    "    changed_code = [mod(i,p) for i in changed_code]\n",
    "\n",
    "    return changed_code\n",
    "end\n"
   ]
  },
  {
   "cell_type": "code",
   "execution_count": 32,
   "metadata": {},
   "outputs": [
    {
     "name": "stdout",
     "output_type": "stream",
     "text": [
      "I = [3, 11, 7]\n",
      "e = Any[MyPolynomial{Int64}([0], 0, 2) MyPolynomial{Int64}([0], 0, 2) MyPolynomial{Int64}([0, 0, 0, 1], 3, 2) MyPolynomial{Int64}([0], 0, 2) MyPolynomial{Int64}([0], 0, 2) MyPolynomial{Int64}([0], 0, 2) MyPolynomial{Int64}([0, 0, 1], 2, 2) MyPolynomial{Int64}([0], 0, 2) MyPolynomial{Int64}([0], 0, 2) MyPolynomial{Int64}([0], 0, 2) MyPolynomial{Int64}([0, 1, 1, 1], 3, 2) MyPolynomial{Int64}([0], 0, 2) MyPolynomial{Int64}([0], 0, 2) MyPolynomial{Int64}([0], 0, 2) MyPolynomial{Int64}([0], 0, 2)]\n"
     ]
    },
    {
     "data": {
      "text/plain": [
       "1×15 Matrix{MyPolynomial{Int64}}:\n",
       " MyPolynomial{Int64}([0, 1, 0, 1], 3, 2)  …  MyPolynomial{Int64}([1, 0, 1], 2, 2)"
      ]
     },
     "execution_count": 32,
     "metadata": {},
     "output_type": "execute_result"
    }
   ],
   "source": [
    "# Test: Transmit codeword through channel\n",
    "received = RSPoly_Channel(codeword,p,f,n,d)"
   ]
  },
  {
   "cell_type": "markdown",
   "metadata": {},
   "source": [
    "#### 5. Syndrome Vector and Polynomial"
   ]
  },
  {
   "cell_type": "code",
   "execution_count": 55,
   "metadata": {},
   "outputs": [
    {
     "data": {
      "text/plain": [
       "6×15 Matrix{MyPolynomial}:\n",
       " MyPolynomial{Int64}([1], 0, 2)  …  MyPolynomial{Int64}([0, 1], 1, 2)\n",
       " MyPolynomial{Int64}([1], 0, 2)     MyPolynomial{Int64}([0, 0, 1], 2, 2)\n",
       " MyPolynomial{Int64}([1], 0, 2)     MyPolynomial{Int64}([0, 0, 0, 1], 3, 2)\n",
       " MyPolynomial{Int64}([1], 0, 2)     MyPolynomial{Int64}([1, 1], 1, 2)\n",
       " MyPolynomial{Int64}([1], 0, 2)     MyPolynomial{Int64}([0, 1, 1], 2, 2)\n",
       " MyPolynomial{Int64}([1], 0, 2)  …  MyPolynomial{Int64}([0, 0, 1, 1], 3, 2)"
      ]
     },
     "execution_count": 55,
     "metadata": {},
     "output_type": "execute_result"
    }
   ],
   "source": [
    "# Helper functions\n",
    "\n",
    "\"\"\"\n",
    "parity_check_matrix_poly(p,f,α,n,k)\n",
    "\n",
    "Args:\n",
    "p: The prime number that defines the Finite Field Fq\n",
    "f: The polynomial that defines the Finite Field Fq\n",
    "α: The chosen primitive element from Fq\n",
    "n: The length of the code\n",
    "k: The length of the message\n",
    "\n",
    "Returns:\n",
    "A (n-k)×n matrix of type Matrix{MyPolynomial} which is the parity-check matrix of the RS Code [n,k,d]\n",
    "\n",
    "\"\"\"\n",
    "\n",
    "function parity_check_matrix_poly(p,f,α,n,k)\n",
    "    pc_mat::Matrix{MyPolynomial} = reshape(zeros_poly((n-k)*n,p),n-k,n)\n",
    "    for i in 1:n-k\n",
    "        # Calculate the defining element for that row (αⁱ, where i goes up to k)\n",
    "        αⁱ = powermod(α,i,f)\n",
    "        row = reshape(fill(αⁱ,n),1,n)\n",
    "        for j in 1:n\n",
    "            # Multiply the defining element for the given row by ascending powers up to n\n",
    "            pc_mat[i+(j-1)*(n-k)] = powermod(row[j],j-1,f)\n",
    "        end\n",
    "    end\n",
    "    return pc_mat\n",
    "end\n",
    "\n",
    "H =parity_check_matrix_poly(p,f,α,n,k)\n"
   ]
  },
  {
   "cell_type": "code",
   "execution_count": 68,
   "metadata": {},
   "outputs": [
    {
     "data": {
      "text/plain": [
       "RSPoly_Syndrome (generic function with 1 method)"
      ]
     },
     "execution_count": 68,
     "metadata": {},
     "output_type": "execute_result"
    }
   ],
   "source": [
    "function RSPoly_Syndrome(changed_code,p,f,α,n,k)\n",
    "    # Calculate the parity-check Matrix\n",
    "    H = parity_check_matrix_poly(p,f,α,n,k)\n",
    "\n",
    "    # Calculate syndrome vector\n",
    "    syndrome_vector = changed_code * permutedims(H)\n",
    "    syndrome_vector = [mod(i,f) for i in syndrome_vector]\n",
    "\n",
    "    # Return the syndrome vector and syndrome polynomial\n",
    "    return (syndrome_vector,ConstructMyPolynomial(vec(syndrome_vector),p))\n",
    "end"
   ]
  },
  {
   "cell_type": "code",
   "execution_count": 71,
   "metadata": {},
   "outputs": [
    {
     "name": "stdout",
     "output_type": "stream",
     "text": [
      "Syndrome Vector: MyPolynomial{Int64}[MyPolynomial{Int64}([0, 1, 1, 1], 3, 2) MyPolynomial{Int64}([1, 1], 1, 2) MyPolynomial{Int64}([0, 0, 0, 1], 3, 2) MyPolynomial{Int64}([0], 0, 2) MyPolynomial{Int64}([1, 0, 1, 1], 3, 2) MyPolynomial{Int64}([0, 0, 1, 1], 3, 2)]\n",
      "Syndrome Polynomial S(z) = 0 + (1z^1) + (1z^2) + (1z^3) + [1 + (1z^1)]z^1 + [0 + (0z^1) + (0z^2) + (1z^3)]z^2 + [0]z^3 + [1 + (0z^1) + (1z^2) + (1z^3)]z^4 + [0 + (0z^1) + (1z^2) + (1z^3)]z^5\n"
     ]
    }
   ],
   "source": [
    "# Test: Calculate Syndrome Vector/Polynomial from Received Codeword\n",
    "s_vector,s_poly = RSPoly_Syndrome(received,p,f,α,n,k)\n",
    "println(\"Syndrome Vector: \", s_vector)\n",
    "println(\"Syndrome Polynomial S(z) = \", string(s_poly,'z'))"
   ]
  },
  {
   "cell_type": "markdown",
   "metadata": {},
   "source": [
    "#### 6. Error Locator Polynomial and Error Evaluator Polynomial"
   ]
  },
  {
   "cell_type": "code",
   "execution_count": 86,
   "metadata": {},
   "outputs": [
    {
     "data": {
      "text/plain": [
       "partial_euclidean_algorithm (generic function with 1 method)"
      ]
     },
     "execution_count": 86,
     "metadata": {},
     "output_type": "execute_result"
    }
   ],
   "source": [
    "# Helper functions\n",
    "\n",
    "function partial_euclidean_algorithm(a::MyPolynomial,b::MyPolynomial,stop::Int)\n",
    "    p = a.p\n",
    "    a = remove_top_zeros(a)\n",
    "    b = remove_top_zeros(b)\n",
    "\n",
    "    x0,x1 = ConstructMyPolynomial([1],p),ConstructMyPolynomial([0],p)\n",
    "    y0,y1 = ConstructMyPolynomial([0],p),ConstructMyPolynomial([1],p)\n",
    "\n",
    "    if b == ConstructMyPolynomial([0],p)\n",
    "        return (a,x0,y0)\n",
    "    end\n",
    "\n",
    "    r = b\n",
    "\n",
    "    last_run = false\n",
    "\n",
    "     while r.order > stop || !last_run\n",
    "        if r.order <= stop\n",
    "            last_run = true\n",
    "        end\n",
    "        q,r = divrem(a,b)\n",
    "        #@show q,r\n",
    "        a = b\n",
    "        b = r\n",
    "\n",
    "        x0, x1 = x1, x0 - q*x1\n",
    "        y0, y1 = y1, y0 - q*y1\n",
    "    end\n",
    "    return (a,x0,y0)\n",
    "end"
   ]
  },
  {
   "cell_type": "code",
   "execution_count": 84,
   "metadata": {},
   "outputs": [
    {
     "data": {
      "text/plain": [
       "RSPoly_KeyPolys (generic function with 1 method)"
      ]
     },
     "execution_count": 84,
     "metadata": {},
     "output_type": "execute_result"
    }
   ],
   "source": [
    "function RSPoly_KeyPolys(s_poly,p,α,n,d)\n",
    "    t::Int = floor((d-1)/2)\n",
    "    z = ConstructMyPolynomial(append!(zeros_poly(d-1,p),[ConstructMyPolynomial([1],p)]),p)\n",
    "    r,b,a = partial_euclidean_algorithm_poly(z,s_poly,t-1)\n",
    "\n",
    "    E_prime = divrem(r,z)[2]\n",
    "    L_prime = divrem(a,z)[2]\n",
    "\n",
    "    L = divrem(L_prime, ConstructMyPolynomial(c_inv,p))\n",
    "    E = divrem(E_prime, ConstructMyPolynomial(c_inv,p))\n",
    "\n",
    "    return L,E\n",
    "end"
   ]
  },
  {
   "cell_type": "code",
   "execution_count": 87,
   "metadata": {},
   "outputs": [
    {
     "ename": "LoadError",
     "evalue": "MethodError: no method matching iterate(::MyPolynomial{Int64})\n\u001b[0mClosest candidates are:\n\u001b[0m  iterate(\u001b[91m::Union{LinRange, StepRangeLen}\u001b[39m) at range.jl:664\n\u001b[0m  iterate(\u001b[91m::Union{LinRange, StepRangeLen}\u001b[39m, \u001b[91m::Int64\u001b[39m) at range.jl:664\n\u001b[0m  iterate(\u001b[91m::T\u001b[39m) where T<:Union{Base.KeySet{var\"#s77\", var\"#s76\"} where {var\"#s77\", var\"#s76\"<:Dict}, Base.ValueIterator{var\"#s75\"} where var\"#s75\"<:Dict} at dict.jl:693\n\u001b[0m  ...",
     "output_type": "error",
     "traceback": [
      "MethodError: no method matching iterate(::MyPolynomial{Int64})\n\u001b[0mClosest candidates are:\n\u001b[0m  iterate(\u001b[91m::Union{LinRange, StepRangeLen}\u001b[39m) at range.jl:664\n\u001b[0m  iterate(\u001b[91m::Union{LinRange, StepRangeLen}\u001b[39m, \u001b[91m::Int64\u001b[39m) at range.jl:664\n\u001b[0m  iterate(\u001b[91m::T\u001b[39m) where T<:Union{Base.KeySet{var\"#s77\", var\"#s76\"} where {var\"#s77\", var\"#s76\"<:Dict}, Base.ValueIterator{var\"#s75\"} where var\"#s75\"<:Dict} at dict.jl:693\n\u001b[0m  ...",
      "",
      "Stacktrace:",
      " [1] iterate",
      "   @ .\\generator.jl:44 [inlined]",
      " [2] collect(itr::Base.Generator{MyPolynomial{Int64}, var\"#33#34\"{Int64}})",
      "   @ Base .\\array.jl:681",
      " [3] ConstructMyPolynomial(coeffs::MyPolynomial{Int64}, p::Int64)",
      "   @ Main .\\In[42]:8",
      " [4] partial_euclidean_algorithm_poly(a::MyPolynomial{MyPolynomial{Int64}}, b::MyPolynomial{MyPolynomial{Int64}}, stop::Int64)",
      "   @ Main .\\In[77]:8",
      " [5] RSPoly_KeyPolys(s_poly::MyPolynomial{MyPolynomial{Int64}}, p::Int64, α::MyPolynomial{Int64}, n::Int64, d::Int64)",
      "   @ Main .\\In[84]:4",
      " [6] top-level scope",
      "   @ In[87]:1",
      " [7] eval",
      "   @ .\\boot.jl:360 [inlined]",
      " [8] include_string(mapexpr::typeof(REPL.softscope), mod::Module, code::String, filename::String)",
      "   @ Base .\\loading.jl:1116"
     ]
    }
   ],
   "source": [
    "L,E = RSPoly_KeyPolys(s_poly,p,α,n,d)"
   ]
  },
  {
   "cell_type": "markdown",
   "metadata": {},
   "source": [
    "### 3.2.2 RS Codes on $\\mathbb{F}_{2^k}$\n",
    "\n",
    "The above code should work for other choices of $k$ in $\\mathbb{F}_{2^k}$. In 3.2.1, we have worked on the case where $k=4$. Try a different $k$ with $5 \\le k \\le 10$. "
   ]
  },
  {
   "cell_type": "markdown",
   "metadata": {},
   "source": [
    "## Highlight\n",
    "\n",
    "Please list a couple of highlights of your coursework that may impress your markers."
   ]
  }
 ],
 "metadata": {
  "kernelspec": {
   "display_name": "Julia 1.6.3",
   "language": "julia",
   "name": "julia-1.6"
  },
  "language_info": {
   "file_extension": ".jl",
   "mimetype": "application/julia",
   "name": "julia",
   "version": "1.6.3"
  },
  "orig_nbformat": 4
 },
 "nbformat": 4,
 "nbformat_minor": 2
}
